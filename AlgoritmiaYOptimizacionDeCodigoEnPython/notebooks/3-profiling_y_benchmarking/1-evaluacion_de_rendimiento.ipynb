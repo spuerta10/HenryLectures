{
 "cells": [
  {
   "cell_type": "markdown",
   "id": "2d13b83b",
   "metadata": {},
   "source": [
    "# Evaluacion de rendimiento\n",
    "Ahora veremos como usar los modulos `timeit` y `cProfile` para evaluar el rendimiento de las funciones introducidas en el modulo 2, en la clase **reduccion del computo redundante**. "
   ]
  },
  {
   "cell_type": "code",
   "execution_count": 1,
   "id": "67b08f2c",
   "metadata": {},
   "outputs": [],
   "source": [
    "from datetime import datetime\n",
    "from functools import lru_cache\n",
    "import random\n",
    "\n",
    "from sortedcontainers import SortedDict"
   ]
  },
  {
   "cell_type": "code",
   "execution_count": 2,
   "id": "04f758ff",
   "metadata": {},
   "outputs": [],
   "source": [
    "LOGS_STORE: SortedDict = SortedDict()\n",
    "\n",
    "LOGS_STORE[datetime(2025, 4, 21, 14, 0)] = (\"ERROR\", \"Base de datos caída\")\n",
    "LOGS_STORE[datetime(2025, 4, 21, 14, 5)] = (\"INFO\", \"Servicio reiniciado\")\n",
    "LOGS_STORE[datetime(2025, 4, 21, 14, 10)] = (\"MESSG\", \"Nuevo mensaje recibido en cola\")\n",
    "LOGS_STORE[datetime(2025, 4, 21, 14, 15)] = (\"INFO\", \"Inicio de etapa de extracción\")\n",
    "LOGS_STORE[datetime(2025, 4, 21, 14, 20)] = (\"INFO\", \"Fin de extracción y validación\")\n",
    "LOGS_STORE[datetime(2025, 4, 21, 14, 25)] = (\"MESSG\", \"Datos cargados al almacenamiento\")\n",
    "LOGS_STORE[datetime(2025, 4, 22, 9, 0)] = (\"INFO\", \"Ejecución automática iniciada\")\n",
    "LOGS_STORE[datetime(2025, 4, 22, 9, 5)] = (\"ERROR\", \"Fallo en transformación de datos\")\n",
    "LOGS_STORE[datetime(2025, 4, 22, 9, 10)] = (\"INFO\", \"Reintento de tarea fallida\")\n",
    "LOGS_STORE[datetime(2025, 4, 23, 8, 30)] = (\"INFO\", \"Pipeline ejecutado exitosamente\")\n",
    "LOGS_STORE[datetime(2025, 4, 23, 8, 35)] = (\"MESSG\", \"Correo de notificación enviado\")\n",
    "LOGS_STORE[datetime(2025, 4, 23, 8, 40)] = (\"INFO\", \"Monitoreo finalizado sin errores\")"
   ]
  },
  {
   "cell_type": "code",
   "execution_count": null,
   "id": "852d4bb8",
   "metadata": {},
   "outputs": [],
   "source": [
    "def get_logs_between(start: datetime, end: datetime) -> list[tuple[str, str]]:\n",
    "    \"\"\"Obtiene todos los logs ocurridos entre dos fechas dadas.\n",
    "\n",
    "    Args:\n",
    "        start (datetime): Fecha y hora inicial desde donde buscar (inclusiva)\n",
    "        end (datetime): Fecha y hora final hasta donde buscar (inclusiva)\n",
    "\n",
    "    Returns:\n",
    "        list[tuple[str, str]]: Una lista de tuplas donde cada tupla contiene:\n",
    "            - Primer elemento (str): El nivel del log (ERROR, INFO, MESSG)\n",
    "            - Segundo elemento (str): El mensaje descriptivo del log\n",
    "\n",
    "    Ejemplo:\n",
    "        >>> start = datetime(2025, 4, 21, 14, 0)\n",
    "        >>> end = datetime(2025, 4, 21, 14, 10)\n",
    "        >>> get_logs_between(start, end)\n",
    "        [('ERROR', 'Base de datos caída'),\n",
    "         ('INFO', 'Servicio reiniciado'),\n",
    "         ('MESSG', 'Nuevo mensaje recibido en cola')]\n",
    "    \"\"\"\n",
    "    return [\n",
    "        LOGS_STORE[time_range]\n",
    "        for time_range in LOGS_STORE.irange(start, end, inclusive=(True, True))\n",
    "    ]\n",
    "    \n",
    "@lru_cache(maxsize=None)\n",
    "def get_logs_between_cache(start: datetime, end: datetime) -> list[tuple[str, str]]:\n",
    "    \"\"\"Versión en caché de get_logs_between que almacena resultados en memoria.\n",
    "\n",
    "    Esta función utiliza LRU cache para almacenar resultados previos y retornarlos\n",
    "    inmediatamente si se solicita el mismo rango de fechas nuevamente, evitando\n",
    "    cálculos redundantes.\n",
    "\n",
    "    Args:\n",
    "        start (datetime): Fecha y hora inicial desde donde buscar (inclusiva)\n",
    "        end (datetime): Fecha y hora final hasta donde buscar (inclusiva)\n",
    "\n",
    "    Returns:\n",
    "        list[tuple[str, str]]: Una lista de tuplas donde cada tupla contiene:\n",
    "            - Primer elemento (str): El nivel del log (ERROR, INFO, MESSG)\n",
    "            - Segundo elemento (str): El mensaje descriptivo del log\n",
    "\n",
    "    Nota:\n",
    "        Esta función usa un tamaño de caché ilimitado (maxsize=None). Considere\n",
    "        establecer un tamaño máximo si el uso de memoria es una preocupación.\n",
    "    \"\"\"\n",
    "    return get_logs_between(start, end)"
   ]
  },
  {
   "cell_type": "markdown",
   "id": "717c6366",
   "metadata": {},
   "source": [
    "## Uso de `timeit`\n",
    "En el modulo 2, en la clase **reduccion del computo redundante** vimos que hago uso del modulo `time`. ¿Cuando usar `time` y cuando `timeit`?\n",
    "\n",
    "| Modulo | Ideal para... | Precision |\n",
    "|--------|---------------|-----------|\n",
    "| `time` | Medir el tiempo de una ejecucion | Media |\n",
    "| `timeit` | Comparar rendimiento de codigo | Alta |\n",
    "\n",
    "### 🧵 En resumen:  \n",
    "`timeit` se usa cuando se quiere medir de forma precisa fragmentos de codigo, ya que este modulo ejecuta el codigo muchas veces y da un tiempo promedio de ejecucion. Por su parte, `time` es util cuando se quiere hallar cuanto tarde un bloque de codigo en ejecutarse una sola vez.   "
   ]
  },
  {
   "cell_type": "code",
   "execution_count": null,
   "id": "ed4167ba",
   "metadata": {},
   "outputs": [],
   "source": [
    "from timeit import timeit"
   ]
  },
  {
   "cell_type": "code",
   "execution_count": 16,
   "id": "1f48798f",
   "metadata": {},
   "outputs": [
    {
     "name": "stdout",
     "output_type": "stream",
     "text": [
      "Tiempo promedio: 0.0112 segundos\n"
     ]
    }
   ],
   "source": [
    "setup = \"\"\"\n",
    "from datetime import datetime\n",
    "import random\n",
    "from __main__ import get_logs_between\n",
    "\n",
    "start = datetime(2025, 4, 1)\n",
    "end = datetime(2025, 4, 30)\n",
    "\"\"\"\n",
    "\n",
    "time = timeit('get_logs_between', setup=setup, number=1000000)  # number controla el numero total de veces que se ejecutara la funcion.\n",
    "print(f\"Tiempo promedio: {time:.4f} segundos\")"
   ]
  },
  {
   "cell_type": "code",
   "execution_count": null,
   "id": "7f140748",
   "metadata": {},
   "outputs": [
    {
     "name": "stdout",
     "output_type": "stream",
     "text": [
      "Tiempo promedio: 0.0095 segundos\n"
     ]
    }
   ],
   "source": [
    "setup = \"\"\"\n",
    "from datetime import datetime\n",
    "import random\n",
    "from __main__ import get_logs_between_cache\n",
    "\n",
    "start = datetime(2025, 4, 1)\n",
    "end = datetime(2025, 4, 30)\n",
    "\"\"\"\n",
    "\n",
    "time = timeit('get_logs_between_cache', setup=setup, number=1000000)\n",
    "print(f\"Tiempo promedio: {time:.4f} segundos\")"
   ]
  },
  {
   "cell_type": "markdown",
   "id": "6f283b9f",
   "metadata": {},
   "source": [
    "## Uso de `cProfile`\n",
    "`cProfile` hace profiling, scanea tu codigo, para poder determinar varias cosas: cuanto tiempo pasa el programa en cada funcion, cuantas veces se llama, y donde se esta gastando el tiempo. \n",
    "\n",
    "En el modulo 2, en la clase **reduccion del computo redundante** vimos que hago uso del modulo `time`. ¿Cuando usar `time` y cuando `cProfile`?\n",
    "\n",
    "| Modulo | Ideal para... | Precision |\n",
    "|--------|---------------|-----------|\n",
    "| `time` | Medir el tiempo de una ejecución | Media |\n",
    "| `cProfile` | Analizar cuellos de botella y llamadas a funciones | Alta |\n",
    "\n",
    "### 🧵 En resumen\n",
    "`time` es útil para medir cuánto tarda un bloque de código en ejecutarse una sola vez, ideal para casos simples y rápidos de probar. Por su parte, `cProfile` es la mejor opción cuando necesitas entender a fondo el rendimiento de todo tu programa, ver qué funciones son las más costosas, cuántas veces se llaman y dónde se está gastando el tiempo."
   ]
  },
  {
   "cell_type": "code",
   "execution_count": 19,
   "id": "cd20e5fb",
   "metadata": {},
   "outputs": [],
   "source": [
    "import cProfile\n",
    "from datetime import datetime"
   ]
  },
  {
   "cell_type": "code",
   "execution_count": null,
   "id": "709ecac4",
   "metadata": {},
   "outputs": [],
   "source": [
    "start: datetime = datetime(2025, 4, 1)\n",
    "end: datetime = datetime(2025, 4, 30)"
   ]
  },
  {
   "cell_type": "code",
   "execution_count": null,
   "id": "417b088a",
   "metadata": {},
   "outputs": [
    {
     "name": "stdout",
     "output_type": "stream",
     "text": [
      "         13 function calls in 0.000 seconds\n",
      "\n",
      "   Ordered by: cumulative time\n",
      "\n",
      "   ncalls  tottime  percall  cumtime  percall filename:lineno(function)\n",
      "        1    0.000    0.000    0.000    0.000 {built-in method builtins.exec}\n",
      "        1    0.000    0.000    0.000    0.000 <string>:1(<module>)\n",
      "        1    0.000    0.000    0.000    0.000 838502535.py:1(get_logs_between)\n",
      "        1    0.000    0.000    0.000    0.000 sortedlist.py:1072(irange)\n",
      "        1    0.000    0.000    0.000    0.000 838502535.py:21(<listcomp>)\n",
      "        1    0.000    0.000    0.000    0.000 sortedlist.py:1008(_islice)\n",
      "        2    0.000    0.000    0.000    0.000 {built-in method _bisect.bisect_left}\n",
      "        3    0.000    0.000    0.000    0.000 {built-in method builtins.len}\n",
      "        1    0.000    0.000    0.000    0.000 {built-in method _bisect.bisect_right}\n",
      "        1    0.000    0.000    0.000    0.000 {method 'disable' of '_lsprof.Profiler' objects}\n",
      "\n",
      "\n"
     ]
    }
   ],
   "source": [
    "cProfile.run('get_logs_between(start, end)', sort='cumtime')"
   ]
  },
  {
   "cell_type": "code",
   "execution_count": 22,
   "id": "bfea2c6e",
   "metadata": {},
   "outputs": [
    {
     "name": "stdout",
     "output_type": "stream",
     "text": [
      "         14 function calls in 0.000 seconds\n",
      "\n",
      "   Ordered by: cumulative time\n",
      "\n",
      "   ncalls  tottime  percall  cumtime  percall filename:lineno(function)\n",
      "        1    0.000    0.000    0.000    0.000 {built-in method builtins.exec}\n",
      "        1    0.000    0.000    0.000    0.000 <string>:1(<module>)\n",
      "        1    0.000    0.000    0.000    0.000 838502535.py:26(get_logs_between_cache)\n",
      "        1    0.000    0.000    0.000    0.000 838502535.py:1(get_logs_between)\n",
      "        1    0.000    0.000    0.000    0.000 sortedlist.py:1072(irange)\n",
      "        1    0.000    0.000    0.000    0.000 838502535.py:21(<listcomp>)\n",
      "        1    0.000    0.000    0.000    0.000 sortedlist.py:1008(_islice)\n",
      "        2    0.000    0.000    0.000    0.000 {built-in method _bisect.bisect_left}\n",
      "        3    0.000    0.000    0.000    0.000 {built-in method builtins.len}\n",
      "        1    0.000    0.000    0.000    0.000 {built-in method _bisect.bisect_right}\n",
      "        1    0.000    0.000    0.000    0.000 {method 'disable' of '_lsprof.Profiler' objects}\n",
      "\n",
      "\n"
     ]
    }
   ],
   "source": [
    "cProfile.run('get_logs_between_cache(start, end)', sort='cumtime')"
   ]
  },
  {
   "cell_type": "markdown",
   "id": "5743d515",
   "metadata": {},
   "source": [
    "Lastimosamente para este ejemplo no nos dice mucho, ya que la funcion para solo un rango de fechas es bastante rapida. Sin embargo en el proximo notebook y sobre todo, en el ejemplo integrador, veremos lo poderoso que puede ser usar esta herramienta."
   ]
  },
  {
   "cell_type": "markdown",
   "id": "436b6f5e",
   "metadata": {},
   "source": [
    "## `time` vs `timeit` vs `cProfile`\n",
    "Finalmente te dejo con esta tabla, donde se hace un VS entre `time`, `timeit` y `cProfile`.\n",
    "\n",
    "| Modulo | Ideal para... | Precision |\n",
    "|--------|---------------|-----------|\n",
    "| `time` | Medir el tiempo de una ejecución | Media |\n",
    "| `timeit` | Comparar rendimiento de codigo | Alta |\n",
    "| `cProfile` | Analizar cuellos de botella y llamadas a funciones | Alta |"
   ]
  }
 ],
 "metadata": {
  "kernelspec": {
   "display_name": "venv",
   "language": "python",
   "name": "python3"
  },
  "language_info": {
   "codemirror_mode": {
    "name": "ipython",
    "version": 3
   },
   "file_extension": ".py",
   "mimetype": "text/x-python",
   "name": "python",
   "nbconvert_exporter": "python",
   "pygments_lexer": "ipython3",
   "version": "3.11.9"
  }
 },
 "nbformat": 4,
 "nbformat_minor": 5
}
