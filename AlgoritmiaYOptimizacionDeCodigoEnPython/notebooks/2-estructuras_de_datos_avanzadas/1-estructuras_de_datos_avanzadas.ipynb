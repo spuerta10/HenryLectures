{
 "cells": [
  {
   "cell_type": "markdown",
   "id": "46884081",
   "metadata": {},
   "source": [
    "# Estructuras de datos avanzadas"
   ]
  },
  {
   "cell_type": "markdown",
   "id": "3c60bcea",
   "metadata": {},
   "source": [
    "Hace poco me tope con este post de Alexey Grigorev (busquenlo, el man es un teso):\n",
    "\n",
    "> Most candidates cannot solve this interview problem:\n",
    "> \n",
    "> 🔸 Input: \"aaaabbbcca\"\n",
    "> \n",
    "> 🔸 Output: [(\"a\", 4), (\"b\", 3), (\"c\", 2), (\"a\", 1)]\n",
    "> \n",
    "> Write a function that converts the input to the output\n",
    "> \n",
    "> I ask it in the screening interview and give it 25 minutes\n",
    "> \n",
    "> How would you solve it?\n",
    "\n",
    "*@Al_Grigor en Twitter*\n",
    "\n",
    "[Problema de entrevista: conteo de caracteres consecutivos](https://x.com/Al_Grigor/status/1357028887209902088)\n",
    "\n",
    "No me creo que la mayoria de candidatos no sepan como resolverlo, ademas, resulta ser un buen ejercicio para explicar las estrcuturas de datos mencionadas; asi que ¡A darle!"
   ]
  },
  {
   "cell_type": "markdown",
   "id": "52129784",
   "metadata": {},
   "source": [
    "## Default dict\n",
    "Los diccionarios tradicionales de python tienen un pequeño problema, y es que, si la llave con la que se accede o busca en el diccionario no existe, una excepcion KeyError() es lanzada. "
   ]
  },
  {
   "cell_type": "code",
   "execution_count": 1,
   "id": "b2ba472f",
   "metadata": {},
   "outputs": [],
   "source": [
    "from collections import defaultdict"
   ]
  },
  {
   "cell_type": "code",
   "execution_count": 2,
   "id": "acb83922",
   "metadata": {},
   "outputs": [
    {
     "ename": "KeyError",
     "evalue": "7",
     "output_type": "error",
     "traceback": [
      "\u001b[31m---------------------------------------------------------------------------\u001b[39m",
      "\u001b[31mKeyError\u001b[39m                                  Traceback (most recent call last)",
      "\u001b[36mCell\u001b[39m\u001b[36m \u001b[39m\u001b[32mIn[2]\u001b[39m\u001b[32m, line 9\u001b[39m\n\u001b[32m      1\u001b[39m days_of_week = {\n\u001b[32m      2\u001b[39m     \u001b[32m1\u001b[39m: \u001b[33m\"\u001b[39m\u001b[33mMonday\u001b[39m\u001b[33m\"\u001b[39m,\n\u001b[32m      3\u001b[39m     \u001b[32m2\u001b[39m: \u001b[33m\"\u001b[39m\u001b[33mTuesday\u001b[39m\u001b[33m\"\u001b[39m,\n\u001b[32m   (...)\u001b[39m\u001b[32m      6\u001b[39m     \u001b[32m5\u001b[39m: \u001b[33m\"\u001b[39m\u001b[33mFriday\u001b[39m\u001b[33m\"\u001b[39m,\n\u001b[32m      7\u001b[39m }\n\u001b[32m----> \u001b[39m\u001b[32m9\u001b[39m \u001b[43mdays_of_week\u001b[49m\u001b[43m[\u001b[49m\u001b[32;43m7\u001b[39;49m\u001b[43m]\u001b[49m\n",
      "\u001b[31mKeyError\u001b[39m: 7"
     ]
    }
   ],
   "source": [
    "days_of_week = {\n",
    "    1: \"Monday\",\n",
    "    2: \"Tuesday\",\n",
    "    3: \"Wednesday\",\n",
    "    4: \"Thursday\",\n",
    "    5: \"Friday\",\n",
    "}\n",
    "\n",
    "days_of_week[7]"
   ]
  },
  {
   "cell_type": "markdown",
   "id": "75d47e5a",
   "metadata": {},
   "source": [
    "Esto se vuelve problematico para resolver el problema propuesto ya que de antemano, no sabemos que letras contenga o no el texto de entrada.\n",
    "\n",
    "Asi pues, tenemos dos posibles soluciones, crear un diccionario con todos los posibles caracteres como llaves, o, manejar el KeyException() que va a lanzar el diccionario, veamos ambos casos."
   ]
  },
  {
   "cell_type": "markdown",
   "id": "fc2184a7",
   "metadata": {},
   "source": [
    "### \"Todos\" los posibles caracteres como llaves "
   ]
  },
  {
   "cell_type": "code",
   "execution_count": 3,
   "id": "d1fe7f86",
   "metadata": {},
   "outputs": [],
   "source": [
    "def count_letters(text: str) -> list[tuple[str, int]]:\n",
    "    counts: dict[str, int] = {\n",
    "        \"a\": 0, \"A\": 0,\n",
    "        \"b\": 0, \"B\": 0,\n",
    "        \"c\": 0, \"C\": 0,\n",
    "        \"d\": 0, \"D\": 0,\n",
    "        \"e\": 0, \"E\": 0,\n",
    "        \"f\": 0, \"F\": 0,\n",
    "        \"g\": 0, \"G\": 0,\n",
    "        \"h\": 0, \"H\": 0,\n",
    "        \"i\": 0, \"I\": 0,\n",
    "        \"j\": 0, \"J\": 0,\n",
    "        \"k\": 0, \"K\": 0,\n",
    "        \"l\": 0, \"L\": 0,\n",
    "        \"m\": 0, \"M\": 0,\n",
    "        \"n\": 0, \"N\": 0,\n",
    "        \"o\": 0, \"O\": 0,\n",
    "        \"p\": 0, \"P\": 0,\n",
    "        \"q\": 0, \"Q\": 0,\n",
    "        \"r\": 0, \"R\": 0,\n",
    "        \"s\": 0, \"S\": 0,\n",
    "        \"t\": 0, \"T\": 0\n",
    "    }\n",
    "    for letter in text:\n",
    "     counts[letter] += 1\n",
    "    \n",
    "    return [(letter, count) for letter, count in counts.items()]\n",
    "    "
   ]
  },
  {
   "cell_type": "code",
   "execution_count": 4,
   "id": "954e2bdf",
   "metadata": {},
   "outputs": [
    {
     "data": {
      "text/plain": [
       "[('a', 5),\n",
       " ('A', 0),\n",
       " ('b', 3),\n",
       " ('B', 0),\n",
       " ('c', 2),\n",
       " ('C', 0),\n",
       " ('d', 0),\n",
       " ('D', 0),\n",
       " ('e', 0),\n",
       " ('E', 0),\n",
       " ('f', 0),\n",
       " ('F', 0),\n",
       " ('g', 0),\n",
       " ('G', 0),\n",
       " ('h', 0),\n",
       " ('H', 0),\n",
       " ('i', 0),\n",
       " ('I', 0),\n",
       " ('j', 0),\n",
       " ('J', 0),\n",
       " ('k', 0),\n",
       " ('K', 0),\n",
       " ('l', 0),\n",
       " ('L', 0),\n",
       " ('m', 0),\n",
       " ('M', 0),\n",
       " ('n', 0),\n",
       " ('N', 0),\n",
       " ('o', 0),\n",
       " ('O', 0),\n",
       " ('p', 0),\n",
       " ('P', 0),\n",
       " ('q', 0),\n",
       " ('Q', 0),\n",
       " ('r', 0),\n",
       " ('R', 0),\n",
       " ('s', 0),\n",
       " ('S', 0),\n",
       " ('t', 0),\n",
       " ('T', 0)]"
      ]
     },
     "execution_count": 4,
     "metadata": {},
     "output_type": "execute_result"
    }
   ],
   "source": [
    "count_letters(\"aaaabbbcca\")"
   ]
  },
  {
   "cell_type": "markdown",
   "id": "e06f67aa",
   "metadata": {},
   "source": [
    "Ahora, esta primera solucion es bastante ineficiente, ya que estamos asignando espacio en memoria para letras que puede que no esten dentro del texto dado. Ademas, esta solucion se rompera si se ingresan caracteres especiales como: @, é, ó, á o cualquier caracter que no hallamos colocado previamente en las llaves del diccionario."
   ]
  },
  {
   "cell_type": "code",
   "execution_count": 5,
   "id": "dbedc74e",
   "metadata": {},
   "outputs": [
    {
     "ename": "KeyError",
     "evalue": "'@'",
     "output_type": "error",
     "traceback": [
      "\u001b[31m---------------------------------------------------------------------------\u001b[39m",
      "\u001b[31mKeyError\u001b[39m                                  Traceback (most recent call last)",
      "\u001b[36mCell\u001b[39m\u001b[36m \u001b[39m\u001b[32mIn[5]\u001b[39m\u001b[32m, line 1\u001b[39m\n\u001b[32m----> \u001b[39m\u001b[32m1\u001b[39m \u001b[43mcount_letters\u001b[49m\u001b[43m(\u001b[49m\u001b[33;43m\"\u001b[39;49m\u001b[33;43maaa@bbbccaa\u001b[39;49m\u001b[33;43m\"\u001b[39;49m\u001b[43m)\u001b[49m\n",
      "\u001b[36mCell\u001b[39m\u001b[36m \u001b[39m\u001b[32mIn[3]\u001b[39m\u001b[32m, line 25\u001b[39m, in \u001b[36mcount_letters\u001b[39m\u001b[34m(text)\u001b[39m\n\u001b[32m      2\u001b[39m counts: \u001b[38;5;28mdict\u001b[39m[\u001b[38;5;28mstr\u001b[39m, \u001b[38;5;28mint\u001b[39m] = {\n\u001b[32m      3\u001b[39m     \u001b[33m\"\u001b[39m\u001b[33ma\u001b[39m\u001b[33m\"\u001b[39m: \u001b[32m0\u001b[39m, \u001b[33m\"\u001b[39m\u001b[33mA\u001b[39m\u001b[33m\"\u001b[39m: \u001b[32m0\u001b[39m,\n\u001b[32m      4\u001b[39m     \u001b[33m\"\u001b[39m\u001b[33mb\u001b[39m\u001b[33m\"\u001b[39m: \u001b[32m0\u001b[39m, \u001b[33m\"\u001b[39m\u001b[33mB\u001b[39m\u001b[33m\"\u001b[39m: \u001b[32m0\u001b[39m,\n\u001b[32m   (...)\u001b[39m\u001b[32m     22\u001b[39m     \u001b[33m\"\u001b[39m\u001b[33mt\u001b[39m\u001b[33m\"\u001b[39m: \u001b[32m0\u001b[39m, \u001b[33m\"\u001b[39m\u001b[33mT\u001b[39m\u001b[33m\"\u001b[39m: \u001b[32m0\u001b[39m\n\u001b[32m     23\u001b[39m }\n\u001b[32m     24\u001b[39m \u001b[38;5;28;01mfor\u001b[39;00m letter \u001b[38;5;129;01min\u001b[39;00m text:\n\u001b[32m---> \u001b[39m\u001b[32m25\u001b[39m  \u001b[43mcounts\u001b[49m\u001b[43m[\u001b[49m\u001b[43mletter\u001b[49m\u001b[43m]\u001b[49m += \u001b[32m1\u001b[39m\n\u001b[32m     27\u001b[39m \u001b[38;5;28;01mreturn\u001b[39;00m [(letter, count) \u001b[38;5;28;01mfor\u001b[39;00m letter, count \u001b[38;5;129;01min\u001b[39;00m counts.items()]\n",
      "\u001b[31mKeyError\u001b[39m: '@'"
     ]
    }
   ],
   "source": [
    "count_letters(\"aaa@bbbccaa\")"
   ]
  },
  {
   "cell_type": "code",
   "execution_count": 6,
   "id": "66114662",
   "metadata": {},
   "outputs": [
    {
     "ename": "KeyError",
     "evalue": "'á'",
     "output_type": "error",
     "traceback": [
      "\u001b[31m---------------------------------------------------------------------------\u001b[39m",
      "\u001b[31mKeyError\u001b[39m                                  Traceback (most recent call last)",
      "\u001b[36mCell\u001b[39m\u001b[36m \u001b[39m\u001b[32mIn[6]\u001b[39m\u001b[32m, line 1\u001b[39m\n\u001b[32m----> \u001b[39m\u001b[32m1\u001b[39m \u001b[43mcount_letters\u001b[49m\u001b[43m(\u001b[49m\u001b[33;43m\"\u001b[39;49m\u001b[33;43máaa@bbbccaa\u001b[39;49m\u001b[33;43m\"\u001b[39;49m\u001b[43m)\u001b[49m\n",
      "\u001b[36mCell\u001b[39m\u001b[36m \u001b[39m\u001b[32mIn[3]\u001b[39m\u001b[32m, line 25\u001b[39m, in \u001b[36mcount_letters\u001b[39m\u001b[34m(text)\u001b[39m\n\u001b[32m      2\u001b[39m counts: \u001b[38;5;28mdict\u001b[39m[\u001b[38;5;28mstr\u001b[39m, \u001b[38;5;28mint\u001b[39m] = {\n\u001b[32m      3\u001b[39m     \u001b[33m\"\u001b[39m\u001b[33ma\u001b[39m\u001b[33m\"\u001b[39m: \u001b[32m0\u001b[39m, \u001b[33m\"\u001b[39m\u001b[33mA\u001b[39m\u001b[33m\"\u001b[39m: \u001b[32m0\u001b[39m,\n\u001b[32m      4\u001b[39m     \u001b[33m\"\u001b[39m\u001b[33mb\u001b[39m\u001b[33m\"\u001b[39m: \u001b[32m0\u001b[39m, \u001b[33m\"\u001b[39m\u001b[33mB\u001b[39m\u001b[33m\"\u001b[39m: \u001b[32m0\u001b[39m,\n\u001b[32m   (...)\u001b[39m\u001b[32m     22\u001b[39m     \u001b[33m\"\u001b[39m\u001b[33mt\u001b[39m\u001b[33m\"\u001b[39m: \u001b[32m0\u001b[39m, \u001b[33m\"\u001b[39m\u001b[33mT\u001b[39m\u001b[33m\"\u001b[39m: \u001b[32m0\u001b[39m\n\u001b[32m     23\u001b[39m }\n\u001b[32m     24\u001b[39m \u001b[38;5;28;01mfor\u001b[39;00m letter \u001b[38;5;129;01min\u001b[39;00m text:\n\u001b[32m---> \u001b[39m\u001b[32m25\u001b[39m  \u001b[43mcounts\u001b[49m\u001b[43m[\u001b[49m\u001b[43mletter\u001b[49m\u001b[43m]\u001b[49m += \u001b[32m1\u001b[39m\n\u001b[32m     27\u001b[39m \u001b[38;5;28;01mreturn\u001b[39;00m [(letter, count) \u001b[38;5;28;01mfor\u001b[39;00m letter, count \u001b[38;5;129;01min\u001b[39;00m counts.items()]\n",
      "\u001b[31mKeyError\u001b[39m: 'á'"
     ]
    }
   ],
   "source": [
    "count_letters(\"áaa@bbbccaa\")"
   ]
  },
  {
   "cell_type": "markdown",
   "id": "63bcc362",
   "metadata": {},
   "source": [
    "### Manejando el KeyError()"
   ]
  },
  {
   "cell_type": "code",
   "execution_count": 7,
   "id": "d266090a",
   "metadata": {},
   "outputs": [],
   "source": [
    "def count_letters(text: str) -> list[tuple[str, int]]:\n",
    "    counts: dict[str, int] = {}\n",
    "    for letter in text:\n",
    "        try:\n",
    "            counts[letter] += 1\n",
    "        except KeyError:  # capturamos la excpecion y creamos una nueva llave\n",
    "            counts[letter] = 1\n",
    "    return [(letter, count) for letter, count in counts.items()]"
   ]
  },
  {
   "cell_type": "code",
   "execution_count": 8,
   "id": "89b6b461",
   "metadata": {},
   "outputs": [
    {
     "data": {
      "text/plain": [
       "[('a', 5), ('@', 1), ('b', 3), ('c', 2)]"
      ]
     },
     "execution_count": 8,
     "metadata": {},
     "output_type": "execute_result"
    }
   ],
   "source": [
    "count_letters(\"aaa@bbbccaa\")"
   ]
  },
  {
   "cell_type": "markdown",
   "id": "3e3b1886",
   "metadata": {},
   "source": [
    "Ahora no asignamos espacios no usados en memoria y no falla en la presencia de caracteres especiales. Sin embargo hay una forma de hacer el codigo mas elegante y eficiente, usando `defaultdict`. \n",
    "\n",
    "`defaultdict` asigna un valor por defecto para llaves no existentes evitando que manejar el KeyError()."
   ]
  },
  {
   "cell_type": "code",
   "execution_count": 9,
   "id": "4784e2cc",
   "metadata": {},
   "outputs": [],
   "source": [
    "def count_letters(text: str) -> list[tuple[str, int]]:\n",
    "    counts = defaultdict(int)\n",
    "    for letter in text:\n",
    "        counts[letter] += 1\n",
    "    return [(letter, count) for letter, count in counts.items()]"
   ]
  },
  {
   "cell_type": "code",
   "execution_count": 10,
   "id": "9f952449",
   "metadata": {},
   "outputs": [
    {
     "data": {
      "text/plain": [
       "[('a', 5), ('@', 1), ('b', 3), ('c', 2)]"
      ]
     },
     "execution_count": 10,
     "metadata": {},
     "output_type": "execute_result"
    }
   ],
   "source": [
    "count_letters(\"aaa@bbbccaa\")"
   ]
  },
  {
   "cell_type": "markdown",
   "id": "d6e66990",
   "metadata": {},
   "source": [
    "Si se quiere retornar un valor fijo por defecto con el default dict se puede hacer lo siguiente:"
   ]
  },
  {
   "cell_type": "code",
   "execution_count": 11,
   "id": "0bd36660",
   "metadata": {},
   "outputs": [
    {
     "data": {
      "text/plain": [
       "'Weekend'"
      ]
     },
     "execution_count": 11,
     "metadata": {},
     "output_type": "execute_result"
    }
   ],
   "source": [
    "def default_value() -> str:\n",
    "    return \"Weekend\"\n",
    "\n",
    "days_of_week = defaultdict(default_value)\n",
    "\n",
    "days_of_week[1] = \"Monday\"\n",
    "days_of_week[2] = \"Tuesday\"\n",
    "days_of_week[3] = \"Wednesday\"\n",
    "days_of_week[4] = \"Thursday\"\n",
    "days_of_week[5] = \"Friday\"\n",
    "\n",
    "days_of_week[20]  # esta llave no existe"
   ]
  },
  {
   "cell_type": "markdown",
   "id": "e2ac969d",
   "metadata": {},
   "source": [
    "## Counter\n",
    "Por su parte, counter es una estructura de datos diseñada espacialmente para contar cosas. Tiene metodos especiales como:\n",
    "- `.most_common()` → devuelve los elementos más frecuentes.\n",
    "- `.elements()` → devuelve un iterador con los elementos repetidos según su conteo.\n",
    "- Tambien soporta operaciones matematicas entre contadores."
   ]
  },
  {
   "cell_type": "code",
   "execution_count": 12,
   "id": "1aa7796b",
   "metadata": {},
   "outputs": [],
   "source": [
    "from collections import Counter"
   ]
  },
  {
   "cell_type": "code",
   "execution_count": 13,
   "id": "45bc6dd7",
   "metadata": {},
   "outputs": [],
   "source": [
    "count1 = Counter(\"aaaabbbcc\")\n",
    "count2 = Counter(\"aaa@bbbccaa\")"
   ]
  },
  {
   "cell_type": "code",
   "execution_count": 14,
   "id": "3593b1d6",
   "metadata": {},
   "outputs": [
    {
     "data": {
      "text/plain": [
       "Counter({'a': 9, 'b': 6, 'c': 4, '@': 1})"
      ]
     },
     "execution_count": 14,
     "metadata": {},
     "output_type": "execute_result"
    }
   ],
   "source": [
    "count1 + count2"
   ]
  },
  {
   "cell_type": "code",
   "execution_count": 15,
   "id": "9ebdde26",
   "metadata": {},
   "outputs": [
    {
     "data": {
      "text/plain": [
       "Counter({'a': 4, 'b': 3, 'c': 2})"
      ]
     },
     "execution_count": 15,
     "metadata": {},
     "output_type": "execute_result"
    }
   ],
   "source": [
    "count1 & count2  # interseccion"
   ]
  },
  {
   "cell_type": "code",
   "execution_count": 16,
   "id": "1d5f7f8d",
   "metadata": {},
   "outputs": [
    {
     "data": {
      "text/plain": [
       "Counter({'a': 5, 'b': 3, 'c': 2, '@': 1})"
      ]
     },
     "execution_count": 16,
     "metadata": {},
     "output_type": "execute_result"
    }
   ],
   "source": [
    "count1 | count2  # union "
   ]
  },
  {
   "cell_type": "markdown",
   "id": "667cb5e1",
   "metadata": {},
   "source": [
    "Ahora veamos como resolver el problema propuesto:"
   ]
  },
  {
   "cell_type": "code",
   "execution_count": 17,
   "id": "3792783b",
   "metadata": {},
   "outputs": [],
   "source": [
    "def count_letters(text: str):\n",
    "    counts = Counter(text)\n",
    "    return [(letter, count) for letter, count in counts.items()]"
   ]
  },
  {
   "cell_type": "code",
   "execution_count": 18,
   "id": "7b8c83be",
   "metadata": {},
   "outputs": [
    {
     "data": {
      "text/plain": [
       "[('a', 5), ('@', 1), ('b', 3), ('c', 2)]"
      ]
     },
     "execution_count": 18,
     "metadata": {},
     "output_type": "execute_result"
    }
   ],
   "source": [
    "count_letters(\"aaa@bbbccaa\")"
   ]
  },
  {
   "cell_type": "markdown",
   "id": "c38115f7",
   "metadata": {},
   "source": [
    "## Deque\n",
    "La Double-Ended Queue (deque) es una estructura de datos la cual almacena elementos, optimizada para agregar y quitar elementos por ambos extremos `inicio` (head) y `fin` (tail).\n",
    "\n",
    "Mientras que las listas (list) en Python tienen una complejidad O(n) al eliminar el primer elemento y O(1) al eliminar el último, las colas de doble extremo (deque, por double-ended queue) tienen una complejidad O(1) tanto al eliminar el primer como el último elemento.\n",
    "\n",
    "Por esta razón, son ampliamente utilizadas en la resolución de problemas que requieren un alto dinamismo, es decir, inserciones y eliminaciones eficientes en ambos extremos de la estructura de datos.\n",
    "\n",
    "![Double-Ended Queue](https://i.ytimg.com/vi/UqCyZKaWX7E/hq720.jpg?sqp=-oaymwEhCK4FEIIDSFryq4qpAxMIARUAAAAAGAElAADIQj0AgKJD&rs=AOn4CLDcHxdcjfL0KBKBhwUxleDhdwlQBQ)\n",
    "\n",
    "Esta estructura de datos en particular no es util ni necesaria para resolver el problema inicial, sin embargo, si que sirve para un escenario mas avanzado tal y como se dice en el siguiente post:\n",
    "\n",
    "> I don’t know about clarifying questions, but there are plenty of follow-up questions.\n",
    ">\n",
    "> How would your solution change if:\n",
    "> - The vocabulary was unlimited?\n",
    "> - The input was a stream?\n",
    "\n",
    "*@jdot en Twitter*\n",
    "\n",
    "[Escenarios avanzados](https://x.com/jdot/status/1357324007683612673)\n",
    "\n",
    "Veamos que hacer **si el input fuera un stream**."
   ]
  },
  {
   "cell_type": "markdown",
   "id": "d5556be6",
   "metadata": {},
   "source": [
    "## Input como stream\n",
    "Stream se refiere a un flujo constante, potencialmente ininterrumpido de textos de entrada. Esto implica que no podremos procesar todos los textos de entrada en una sola operacion, ya que desde un inicio no estaran disponibles.\n",
    "\n",
    "Para poder procesar un stream de datos una de las posibles soluciones es usar **ventanas deslizantes** de procesamiento. El concepto de ventana de procesamiento, es que en un flujo constante e ininterrumpido vayamos procesando de a N datos fijos. \n",
    "\n",
    "A continuacion, simularemos un stream de textos de entrada y veremos como funcionan las ventanas de procesamiento, haciendo uso de la estructura de datos ideal para crear las mismas: `deque`."
   ]
  },
  {
   "cell_type": "code",
   "execution_count": null,
   "id": "eb9bfca3",
   "metadata": {},
   "outputs": [],
   "source": [
    "from collections import deque, Counter\n",
    "\n",
    "import lorem"
   ]
  },
  {
   "cell_type": "code",
   "execution_count": 20,
   "id": "aca6cb4d",
   "metadata": {},
   "outputs": [],
   "source": [
    "def gen_fixed_text(length: int) -> str:\n",
    "    text: str = \"\"\n",
    "    while len(text) < length:\n",
    "        text += \" \" + lorem.sentence()\n",
    "    return text\n",
    "\n",
    "def get_execution_summary(\n",
    "    idx: int, window_size: int, window_counts: Counter, accumulator: Counter\n",
    ") -> None: \n",
    "    print(f\"\\nVentana {idx//window_size + 1}:\")\n",
    "    print(\"Palabras más comunes en la ventana actual:\")\n",
    "    print(window_counts.most_common(5))\n",
    "        \n",
    "    print(\"\\nAcumulador global:\")\n",
    "    print(\"Palabras más comunes acumuladas:\")\n",
    "    print(accumulator.most_common(5))\n",
    "    print(\"-\" * 50)\n",
    "    return"
   ]
  },
  {
   "cell_type": "code",
   "execution_count": 21,
   "id": "2eeca650",
   "metadata": {},
   "outputs": [
    {
     "name": "stdout",
     "output_type": "stream",
     "text": [
      "\n",
      "Ventana 1:\n",
      "Palabras más comunes en la ventana actual:\n",
      "[('quiquia', 2), ('Ut', 1), ('magnam', 1), ('modi', 1)]\n",
      "\n",
      "Acumulador global:\n",
      "Palabras más comunes acumuladas:\n",
      "[('quiquia', 2), ('Ut', 1), ('magnam', 1), ('modi', 1)]\n",
      "--------------------------------------------------\n",
      "\n",
      "Ventana 2:\n",
      "Palabras más comunes en la ventana actual:\n",
      "[('sit', 2), ('numquam', 1), ('dolore.', 1), ('Neque', 1)]\n",
      "\n",
      "Acumulador global:\n",
      "Palabras más comunes acumuladas:\n",
      "[('quiquia', 2), ('sit', 2), ('Ut', 1), ('magnam', 1), ('modi', 1)]\n",
      "--------------------------------------------------\n",
      "\n",
      "Ventana 3:\n",
      "Palabras más comunes en la ventana actual:\n",
      "[('quaerat', 1), ('consectetur', 1), ('eius', 1), ('sit', 1), ('dolore.', 1)]\n",
      "\n",
      "Acumulador global:\n",
      "Palabras más comunes acumuladas:\n",
      "[('sit', 3), ('quiquia', 2), ('dolore.', 2), ('Ut', 1), ('magnam', 1)]\n",
      "--------------------------------------------------\n",
      "\n",
      "Ventana 4:\n",
      "Palabras más comunes en la ventana actual:\n",
      "[('Dolorem', 1), ('quaerat', 1), ('velit', 1), ('sit', 1), ('ut', 1)]\n",
      "\n",
      "Acumulador global:\n",
      "Palabras más comunes acumuladas:\n",
      "[('sit', 4), ('quiquia', 2), ('dolore.', 2), ('quaerat', 2), ('Ut', 1)]\n",
      "--------------------------------------------------\n",
      "\n",
      "Ventana 5:\n",
      "Palabras más comunes en la ventana actual:\n",
      "[('ut.', 1), ('Quaerat', 1), ('adipisci', 1), ('consectetur', 1), ('modi', 1)]\n",
      "\n",
      "Acumulador global:\n",
      "Palabras más comunes acumuladas:\n",
      "[('sit', 4), ('quiquia', 2), ('modi', 2), ('dolore.', 2), ('quaerat', 2)]\n",
      "--------------------------------------------------\n",
      "\n",
      "Ventana 6:\n",
      "Palabras más comunes en la ventana actual:\n",
      "[('sit', 1), ('voluptatem', 1), ('amet.', 1), ('Sed', 1), ('magnam', 1)]\n",
      "\n",
      "Acumulador global:\n",
      "Palabras más comunes acumuladas:\n",
      "[('sit', 5), ('quiquia', 2), ('magnam', 2), ('modi', 2), ('dolore.', 2)]\n",
      "--------------------------------------------------\n",
      "\n",
      "Ventana 7:\n",
      "Palabras más comunes en la ventana actual:\n",
      "[('porro', 1), ('non', 1), ('tempora.', 1), ('Adipisci', 1), ('dolorem', 1)]\n",
      "\n",
      "Acumulador global:\n",
      "Palabras más comunes acumuladas:\n",
      "[('sit', 5), ('quiquia', 2), ('magnam', 2), ('modi', 2), ('dolore.', 2)]\n",
      "--------------------------------------------------\n",
      "\n",
      "Ventana 8:\n",
      "Palabras más comunes en la ventana actual:\n",
      "[('porro', 1), ('voluptatem', 1), ('est', 1), ('numquam', 1), ('quaerat.', 1)]\n",
      "\n",
      "Acumulador global:\n",
      "Palabras más comunes acumuladas:\n",
      "[('sit', 5), ('quiquia', 2), ('magnam', 2), ('modi', 2), ('numquam', 2)]\n",
      "--------------------------------------------------\n",
      "\n",
      "Ventana 9:\n",
      "Palabras más comunes en la ventana actual:\n",
      "[('Voluptatem', 1), ('quisquam', 1), ('etincidunt', 1), ('dolorem.', 1), ('Amet', 1)]\n",
      "\n",
      "Acumulador global:\n",
      "Palabras más comunes acumuladas:\n",
      "[('sit', 5), ('quiquia', 2), ('magnam', 2), ('modi', 2), ('numquam', 2)]\n",
      "--------------------------------------------------\n",
      "\n",
      "Ventana 10:\n",
      "Palabras más comunes en la ventana actual:\n",
      "[('sit', 1), ('magnam', 1), ('adipisci', 1), ('numquam', 1), ('ut.', 1)]\n",
      "\n",
      "Acumulador global:\n",
      "Palabras más comunes acumuladas:\n",
      "[('sit', 6), ('magnam', 3), ('numquam', 3), ('quiquia', 2), ('modi', 2)]\n",
      "--------------------------------------------------\n",
      "\n",
      "Ventana 11:\n",
      "Palabras más comunes en la ventana actual:\n",
      "[('Aliquam', 1), ('est', 1), ('aliquam', 1), ('amet', 1), ('eius.', 1)]\n",
      "\n",
      "Acumulador global:\n",
      "Palabras más comunes acumuladas:\n",
      "[('sit', 6), ('magnam', 3), ('numquam', 3), ('quiquia', 2), ('modi', 2)]\n",
      "--------------------------------------------------\n",
      "\n",
      "Ventana 12:\n",
      "Palabras más comunes en la ventana actual:\n",
      "[('voluptatem', 2), ('Dolore', 1), ('sit', 1), ('adipisci', 1)]\n",
      "\n",
      "Acumulador global:\n",
      "Palabras más comunes acumuladas:\n",
      "[('sit', 7), ('voluptatem', 4), ('magnam', 3), ('numquam', 3), ('adipisci', 3)]\n",
      "--------------------------------------------------\n",
      "\n",
      "Ventana 13:\n",
      "Palabras más comunes en la ventana actual:\n",
      "[('porro', 2), ('etincidunt', 1), ('sit.', 1), ('Labore', 1)]\n",
      "\n",
      "Acumulador global:\n",
      "Palabras más comunes acumuladas:\n",
      "[('sit', 7), ('voluptatem', 4), ('porro', 4), ('magnam', 3), ('numquam', 3)]\n",
      "--------------------------------------------------\n",
      "\n",
      "Ventana 14:\n",
      "Palabras más comunes en la ventana actual:\n",
      "[('quisquam', 1), ('velit', 1), ('labore.', 1), ('Eius', 1), ('labore', 1)]\n",
      "\n",
      "Acumulador global:\n",
      "Palabras más comunes acumuladas:\n",
      "[('sit', 7), ('voluptatem', 4), ('porro', 4), ('magnam', 3), ('numquam', 3)]\n",
      "--------------------------------------------------\n",
      "\n",
      "Ventana 15:\n",
      "Palabras más comunes en la ventana actual:\n",
      "[('labore', 1), ('quaerat', 1), ('voluptatem', 1), ('adipisci.', 1), ('Est', 1)]\n",
      "\n",
      "Acumulador global:\n",
      "Palabras más comunes acumuladas:\n",
      "[('sit', 7), ('voluptatem', 5), ('porro', 4), ('magnam', 3), ('numquam', 3)]\n",
      "--------------------------------------------------\n",
      "\n",
      "Ventana 16:\n",
      "Palabras más comunes en la ventana actual:\n",
      "[('aliquam', 1), ('voluptatem', 1), ('ut.', 1), ('Porro', 1), ('adipisci', 1)]\n",
      "\n",
      "Acumulador global:\n",
      "Palabras más comunes acumuladas:\n",
      "[('sit', 7), ('voluptatem', 6), ('adipisci', 4), ('porro', 4), ('magnam', 3)]\n",
      "--------------------------------------------------\n",
      "\n",
      "Ventana 17:\n",
      "Palabras más comunes en la ventana actual:\n",
      "[('voluptatem', 1), ('neque.', 1), ('Aliquam', 1), ('ut', 1), ('quaerat', 1)]\n",
      "\n",
      "Acumulador global:\n",
      "Palabras más comunes acumuladas:\n",
      "[('sit', 7), ('voluptatem', 7), ('quaerat', 4), ('adipisci', 4), ('porro', 4)]\n",
      "--------------------------------------------------\n",
      "\n",
      "Ventana 18:\n",
      "Palabras más comunes en la ventana actual:\n",
      "[('dolorem', 1), ('porro.', 1), ('Dolorem', 1), ('quiquia', 1), ('labore', 1)]\n",
      "\n",
      "Acumulador global:\n",
      "Palabras más comunes acumuladas:\n",
      "[('sit', 7), ('voluptatem', 7), ('quaerat', 4), ('adipisci', 4), ('porro', 4)]\n",
      "--------------------------------------------------\n",
      "\n",
      "Ventana 19:\n",
      "Palabras más comunes en la ventana actual:\n",
      "[('tempora.', 1), ('Etincidunt', 1), ('ut', 1), ('dolorem', 1), ('consectetur', 1)]\n",
      "\n",
      "Acumulador global:\n",
      "Palabras más comunes acumuladas:\n",
      "[('sit', 7), ('voluptatem', 7), ('quaerat', 4), ('adipisci', 4), ('porro', 4)]\n",
      "--------------------------------------------------\n",
      "\n",
      "Ventana 20:\n",
      "Palabras más comunes en la ventana actual:\n",
      "[('sit', 1), ('neque', 1), ('quiquia', 1), ('tempora.', 1), ('Est', 1)]\n",
      "\n",
      "Acumulador global:\n",
      "Palabras más comunes acumuladas:\n",
      "[('sit', 8), ('voluptatem', 7), ('quiquia', 4), ('quaerat', 4), ('adipisci', 4)]\n",
      "--------------------------------------------------\n",
      "\n",
      "Ventana 21:\n",
      "Palabras más comunes en la ventana actual:\n",
      "[('numquam', 1), ('non', 1), ('dolor.', 1), ('Quiquia', 1), ('tempora', 1)]\n",
      "\n",
      "Acumulador global:\n",
      "Palabras más comunes acumuladas:\n",
      "[('sit', 8), ('voluptatem', 7), ('quiquia', 4), ('numquam', 4), ('quaerat', 4)]\n",
      "--------------------------------------------------\n",
      "\n",
      "Ventana 22:\n",
      "Palabras más comunes en la ventana actual:\n",
      "[('ut', 1), ('neque', 1), ('quiquia.', 1), ('Quisquam', 1), ('est', 1)]\n",
      "\n",
      "Acumulador global:\n",
      "Palabras más comunes acumuladas:\n",
      "[('sit', 8), ('voluptatem', 7), ('quiquia', 4), ('numquam', 4), ('quaerat', 4)]\n",
      "--------------------------------------------------\n",
      "\n",
      "Ventana 23:\n",
      "Palabras más comunes en la ventana actual:\n",
      "[('est', 1), ('dolor.', 1), ('Quisquam', 1), ('quiquia', 1), ('quaerat', 1)]\n",
      "\n",
      "Acumulador global:\n",
      "Palabras más comunes acumuladas:\n",
      "[('sit', 8), ('voluptatem', 7), ('quiquia', 5), ('quaerat', 5), ('numquam', 4)]\n",
      "--------------------------------------------------\n",
      "\n",
      "Ventana 24:\n",
      "Palabras más comunes en la ventana actual:\n",
      "[('est', 1), ('tempora', 1), ('dolore', 1), ('voluptatem.', 1), ('Porro', 1)]\n",
      "\n",
      "Acumulador global:\n",
      "Palabras más comunes acumuladas:\n",
      "[('sit', 8), ('voluptatem', 7), ('quiquia', 5), ('quaerat', 5), ('est', 5)]\n",
      "--------------------------------------------------\n",
      "\n",
      "Ventana 25:\n",
      "Palabras más comunes en la ventana actual:\n",
      "[('amet', 1), ('sit', 1), ('neque', 1), ('tempora', 1), ('est', 1)]\n",
      "\n",
      "Acumulador global:\n",
      "Palabras más comunes acumuladas:\n",
      "[('sit', 9), ('voluptatem', 7), ('est', 6), ('quiquia', 5), ('quaerat', 5)]\n",
      "--------------------------------------------------\n",
      "\n",
      "Ventana 26:\n",
      "Palabras más comunes en la ventana actual:\n",
      "[('labore.', 1), ('Amet', 1), ('quisquam', 1), ('dolorem', 1), ('labore', 1)]\n",
      "\n",
      "Acumulador global:\n",
      "Palabras más comunes acumuladas:\n",
      "[('sit', 9), ('voluptatem', 7), ('est', 6), ('quiquia', 5), ('quaerat', 5)]\n",
      "--------------------------------------------------\n",
      "\n",
      "Ventana 27:\n",
      "Palabras más comunes en la ventana actual:\n",
      "[('neque', 1), ('quiquia.', 1), ('Sed', 1), ('dolore', 1), ('quiquia', 1)]\n",
      "\n",
      "Acumulador global:\n",
      "Palabras más comunes acumuladas:\n",
      "[('sit', 9), ('voluptatem', 7), ('quiquia', 6), ('est', 6), ('quaerat', 5)]\n",
      "--------------------------------------------------\n",
      "\n",
      "Ventana 28:\n",
      "Palabras más comunes en la ventana actual:\n",
      "[('tempora.', 1), ('Sit', 1), ('ipsum', 1), ('velit', 1), ('voluptatem', 1)]\n",
      "\n",
      "Acumulador global:\n",
      "Palabras más comunes acumuladas:\n",
      "[('sit', 9), ('voluptatem', 8), ('quiquia', 6), ('est', 6), ('quaerat', 5)]\n",
      "--------------------------------------------------\n"
     ]
    }
   ],
   "source": [
    "window_size: int = 5\n",
    "stream: list[str] = gen_fixed_text(1000).split()\n",
    "\n",
    "window: deque = deque(maxlen=window_size)\n",
    "accumulator: Counter = Counter()  # acumulador de resultados entre ventanas\n",
    "\n",
    "for idx, word in enumerate(stream):\n",
    "    window.append(word)\n",
    "    if len(window) == window_size:\n",
    "        counts: Counter = Counter(window)  # cuenta las palabras en la ventana\n",
    "        accumulator += counts  # actualiza el acumulador\n",
    "        \n",
    "        get_execution_summary(idx, window_size, counts, accumulator)\n",
    "        \n",
    "        window.clear()"
   ]
  },
  {
   "cell_type": "markdown",
   "id": "b249a7b6",
   "metadata": {},
   "source": [
    "Asi pues, si el input es un stream de datos, un flujo constante, potencialmente ininterrumpido de datos, podemos hacer uso de `deque` para procesar el stream en **ventanas fijas de N palabras**."
   ]
  }
 ],
 "metadata": {
  "kernelspec": {
   "display_name": "venv",
   "language": "python",
   "name": "python3"
  },
  "language_info": {
   "codemirror_mode": {
    "name": "ipython",
    "version": 3
   },
   "file_extension": ".py",
   "mimetype": "text/x-python",
   "name": "python",
   "nbconvert_exporter": "python",
   "pygments_lexer": "ipython3",
   "version": "3.11.9"
  }
 },
 "nbformat": 4,
 "nbformat_minor": 5
}
