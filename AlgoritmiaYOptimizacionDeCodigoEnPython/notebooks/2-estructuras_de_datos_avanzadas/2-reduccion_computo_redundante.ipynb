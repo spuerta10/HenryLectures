{
 "cells": [
  {
   "cell_type": "markdown",
   "id": "b4ab9805",
   "metadata": {},
   "source": [
    "# Reduccion del computo redundante"
   ]
  }
 ],
 "metadata": {
  "language_info": {
   "name": "python"
  }
 },
 "nbformat": 4,
 "nbformat_minor": 5
}
