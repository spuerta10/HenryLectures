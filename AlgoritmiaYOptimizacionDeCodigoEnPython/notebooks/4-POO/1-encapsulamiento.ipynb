{
 "cells": [
  {
   "cell_type": "markdown",
   "id": "f93643d7",
   "metadata": {},
   "source": [
    "# Encapsulamiento\n",
    "¿Que es el **encapsulamiento**? ¿Con que se come? Y sobre todo... ¿Por que es relevante?\n",
    "\n",
    "Pues bien, el encapsulamiento es uno de los 4 principio fundamental de la POO: abstraccion, herencia, polimorfismo y **encapsulamiento**. Basicamente nos ayuda a esconder atributos e implementaciones internas de las clases que no queremos que sean de acceso publico.\n",
    "\n",
    "¿A que me refiero con acceso **publico**?\n",
    "\n",
    "Resulta que, por defecto en Python todos los metodos (funciones) y atributos de una clase son de acceso publico, esto quiere decir que otras clases pueden acceder a los mismos sin restricciones.  \n",
    "\n",
    "Esto resulta problematico cuando mi clase tiene metodos o atributos a los cuales otros no deberian de poder acceder, o dado el caso, si deberian de poder acceder pero solo a traves de metodos concretos para controlar el acceso. \n",
    "\n",
    "A estos metodos especiales de acceso los llamamos **getters** y **setters**.\n"
   ]
  },
  {
   "cell_type": "markdown",
   "id": "9389c2b1",
   "metadata": {},
   "source": [
    "## Acceso publico"
   ]
  },
  {
   "cell_type": "code",
   "execution_count": 1,
   "id": "254aa5cf",
   "metadata": {},
   "outputs": [],
   "source": [
    "class PublicPerson:\n",
    "    def __init__(self, name: str, age: int, income: int):\n",
    "        self.name = name\n",
    "        self.age = age\n",
    "        self.income = income\n",
    "\n",
    "\n",
    "class PublicDog: \n",
    "    def __init__(self, owner: PublicPerson, name: str, age: int):\n",
    "        self.owner = owner\n",
    "        self.name = name\n",
    "        self.age = age\n",
    "        \n",
    "    def bark(self) -> str:\n",
    "        return f\"{self.name} says: my owner's income is {self.owner.income}!\"\n",
    "\n",
    "\n",
    "class PublicBankLoan:\n",
    "    MEDIUM_INCOME: float = range(3500, 7000)\n",
    "    \n",
    "    def __init__(self, principal: PublicPerson, amount: float, duration: int):\n",
    "        self.principal = principal\n",
    "        self.amount = amount\n",
    "        self.duration = duration\n",
    "        \n",
    "    def calculate_interest(self) -> float:\n",
    "        if self.principal.income < self.MEDIUM_INCOME.start:\n",
    "            return 0.07 \n",
    "        elif self.principal.income in self.MEDIUM_INCOME:\n",
    "            return 0.05\n",
    "        return 0.03  # high income "
   ]
  },
  {
   "cell_type": "code",
   "execution_count": 2,
   "id": "85138938",
   "metadata": {},
   "outputs": [],
   "source": [
    "shaggy: PublicPerson = PublicPerson(\"Shaggy\", 30, 6000)\n",
    "loan = PublicBankLoan(shaggy, 10000, 12)"
   ]
  },
  {
   "cell_type": "code",
   "execution_count": 3,
   "id": "d592bae3",
   "metadata": {},
   "outputs": [
    {
     "data": {
      "text/plain": [
       "0.05"
      ]
     },
     "execution_count": 3,
     "metadata": {},
     "output_type": "execute_result"
    }
   ],
   "source": [
    "loan.calculate_interest()"
   ]
  },
  {
   "cell_type": "markdown",
   "id": "a7e334b1",
   "metadata": {},
   "source": [
    "Ahora, el acceso publico es complejo ya fuera de ambas clases y solo por medio de una instancid de la clase PublicBankLoan yo podria acceder a la persona y cambiar sus ingresos reportados, lo cual no tiene sentido, desde fuera yo no deberia de poder acceder ni cambiar los ingresos reportados. "
   ]
  },
  {
   "cell_type": "code",
   "execution_count": 4,
   "id": "59150354",
   "metadata": {},
   "outputs": [
    {
     "data": {
      "text/plain": [
       "200"
      ]
     },
     "execution_count": 4,
     "metadata": {},
     "output_type": "execute_result"
    }
   ],
   "source": [
    "loan.principal.income = 200  \n",
    "loan.principal.income "
   ]
  },
  {
   "cell_type": "code",
   "execution_count": 5,
   "id": "9be2ddd2",
   "metadata": {},
   "outputs": [
    {
     "data": {
      "text/plain": [
       "0.07"
      ]
     },
     "execution_count": 5,
     "metadata": {},
     "output_type": "execute_result"
    }
   ],
   "source": [
    "loan.calculate_interest()  # la tasa de interes es mas alta ya que cambie el income a ingresos bajos"
   ]
  },
  {
   "cell_type": "markdown",
   "id": "db94ce4e",
   "metadata": {},
   "source": [
    "Esto es una falla de seguridad enorme, ya que desde una clase que no tiene nada que ver yo podria acceder a estos atributos."
   ]
  },
  {
   "cell_type": "code",
   "execution_count": 6,
   "id": "84fa173d",
   "metadata": {},
   "outputs": [
    {
     "data": {
      "text/plain": [
       "\"Scooby Doo says: my owner's income is 200!\""
      ]
     },
     "execution_count": 6,
     "metadata": {},
     "output_type": "execute_result"
    }
   ],
   "source": [
    "scooby_doo: PublicDog = PublicDog(shaggy, \"Scooby Doo\", 5)\n",
    "scooby_doo.bark() "
   ]
  },
  {
   "cell_type": "markdown",
   "id": "f7bc938f",
   "metadata": {},
   "source": [
    "Scooby Doo ladra y nos dice el income de su dueño, para Scooby Doo es normal hablar, pero no deberia de saber los ingresos de su dueño.\n",
    "\n",
    "Con este ejemplo pueden los peligros de dejar todos los atributos de una clase como publicos."
   ]
  },
  {
   "cell_type": "markdown",
   "id": "574d5923",
   "metadata": {},
   "source": [
    "## Acceso privado\n",
    "Ahora veamos como podemos restringir el acceso y edicion a los atributos y metodos de una clase"
   ]
  },
  {
   "cell_type": "code",
   "execution_count": 7,
   "id": "5c0b4aca",
   "metadata": {},
   "outputs": [],
   "source": [
    "class PrivatePerson:\n",
    "    def __init__(self, name: str, age: int, income: int):\n",
    "        self.name = name  # no hay problema si el nombre es publico\n",
    "        self.age = age\n",
    "        self.__income = income  # asi privatizamos un atributo\n",
    "        \n",
    "    @property\n",
    "    def income(self) -> int:  # getter, obtenemos el valor de __income\n",
    "        return self.__income\n",
    "        \n",
    "    @income.setter\n",
    "    def income(self, _: int):\n",
    "        raise AttributeError(\"Cannot set income directly\")  # setter, no se puede modificar el valor de __income\n",
    "\n",
    "class PrivateDog: \n",
    "    def __init__(self, owner: PrivatePerson, name: str, age: int):\n",
    "        self.owner = owner\n",
    "        self.name = name\n",
    "        self.age = age\n",
    "        \n",
    "    def bark(self) -> str:\n",
    "        return f\"{self.name} says: my owner's income is {self.owner.income}!\"\n",
    "\n",
    "\n",
    "class PrivateBankLoan:\n",
    "    MEDIUM_INCOME: float = range(3500, 7000)\n",
    "    \n",
    "    def __init__(self, principal: PrivatePerson, amount: float, duration: int):\n",
    "        self.principal = principal\n",
    "        self.amount = amount\n",
    "        self.duration = duration\n",
    "        \n",
    "    def calculate_interest(self) -> float:\n",
    "        if self.principal.income < self.MEDIUM_INCOME.start:\n",
    "            return 0.07 \n",
    "        elif self.principal.income in self.MEDIUM_INCOME:\n",
    "            return 0.05\n",
    "        return 0.03  # high income "
   ]
  },
  {
   "cell_type": "code",
   "execution_count": 8,
   "id": "5f1df9ad",
   "metadata": {},
   "outputs": [],
   "source": [
    "fred: PrivatePerson = PrivatePerson(\"Fred\", 30, 6000)\n",
    "scooby_doo: PrivateDog = PrivateDog(fred, \"Scooby Doo\", 5)"
   ]
  },
  {
   "cell_type": "markdown",
   "id": "4bf212eb",
   "metadata": {},
   "source": [
    "Ahora intentemos que Scooby nos diga el income de Fred"
   ]
  },
  {
   "cell_type": "code",
   "execution_count": 9,
   "id": "14621438",
   "metadata": {},
   "outputs": [
    {
     "data": {
      "text/plain": [
       "\"Scooby Doo says: my owner's income is 6000!\""
      ]
     },
     "execution_count": 9,
     "metadata": {},
     "output_type": "execute_result"
    }
   ],
   "source": [
    "scooby_doo.bark()"
   ]
  },
  {
   "cell_type": "markdown",
   "id": "ce51b832",
   "metadata": {},
   "source": [
    "Tambien veamos si desde la clase de prestamo bancario se puede editar los ingresos de Shaggy."
   ]
  },
  {
   "cell_type": "code",
   "execution_count": 10,
   "id": "64ae1849",
   "metadata": {},
   "outputs": [
    {
     "ename": "AttributeError",
     "evalue": "Cannot set income directly",
     "output_type": "error",
     "traceback": [
      "\u001b[31m---------------------------------------------------------------------------\u001b[39m",
      "\u001b[31mAttributeError\u001b[39m                            Traceback (most recent call last)",
      "\u001b[36mCell\u001b[39m\u001b[36m \u001b[39m\u001b[32mIn[10]\u001b[39m\u001b[32m, line 2\u001b[39m\n\u001b[32m      1\u001b[39m fred_loan = PrivateBankLoan(fred, \u001b[32m10000\u001b[39m, \u001b[32m12\u001b[39m)\n\u001b[32m----> \u001b[39m\u001b[32m2\u001b[39m \u001b[43mfred_loan\u001b[49m\u001b[43m.\u001b[49m\u001b[43mprincipal\u001b[49m\u001b[43m.\u001b[49m\u001b[43mincome\u001b[49m = \u001b[32m200\u001b[39m  \n",
      "\u001b[36mCell\u001b[39m\u001b[36m \u001b[39m\u001b[32mIn[7]\u001b[39m\u001b[32m, line 13\u001b[39m, in \u001b[36mPrivatePerson.income\u001b[39m\u001b[34m(self, _)\u001b[39m\n\u001b[32m     11\u001b[39m \u001b[38;5;129m@income\u001b[39m.setter\n\u001b[32m     12\u001b[39m \u001b[38;5;28;01mdef\u001b[39;00m\u001b[38;5;250m \u001b[39m\u001b[34mincome\u001b[39m(\u001b[38;5;28mself\u001b[39m, _: \u001b[38;5;28mint\u001b[39m):\n\u001b[32m---> \u001b[39m\u001b[32m13\u001b[39m     \u001b[38;5;28;01mraise\u001b[39;00m \u001b[38;5;167;01mAttributeError\u001b[39;00m(\u001b[33m\"\u001b[39m\u001b[33mCannot set income directly\u001b[39m\u001b[33m\"\u001b[39m)\n",
      "\u001b[31mAttributeError\u001b[39m: Cannot set income directly"
     ]
    }
   ],
   "source": [
    "fred_loan = PrivateBankLoan(fred, 10000, 12)\n",
    "fred_loan.principal.income = 200  "
   ]
  },
  {
   "cell_type": "code",
   "execution_count": 11,
   "id": "d76eb49f",
   "metadata": {},
   "outputs": [
    {
     "data": {
      "text/plain": [
       "6000"
      ]
     },
     "execution_count": 11,
     "metadata": {},
     "output_type": "execute_result"
    }
   ],
   "source": [
    "fred.income  # podemos obtener el valor de income, pero no podemos modificarlo directamente"
   ]
  },
  {
   "cell_type": "markdown",
   "id": "6060786e",
   "metadata": {},
   "source": [
    "Ahora, como podemos dejar que ciertas clases si modifiquen el income de las personas? Tal vez queremos que una aplicacion del banco tenga acceso a poder hacer esto."
   ]
  },
  {
   "cell_type": "code",
   "execution_count": 12,
   "id": "1cf4e718",
   "metadata": {},
   "outputs": [],
   "source": [
    "class BankApplication:\n",
    "    def __init__(self, principal: PrivatePerson):\n",
    "        self.__principal = principal\n",
    "\n",
    "    def change_income(self, new_income: int):\n",
    "        self.__principal.income = new_income  # Cambiamos el income a traves de un setter privado\n",
    "\n",
    "\n",
    "class PrivatePerson:\n",
    "    def __init__(self, name: str, age: int, income: int):\n",
    "        self.name = name  # no hay problema si el nombre es publico\n",
    "        self.age = age\n",
    "        self.__income = income  # asi privatizamos un atributo\n",
    "        \n",
    "    def __get_caller_class(self) -> type:  # asi se privatiza un metodo\n",
    "        \"\"\"Obtiene la clase que está intentando acceder al setter\"\"\"\n",
    "        import inspect\n",
    "        frame = inspect.currentframe()\n",
    "        try:\n",
    "            # Subimos dos frames para obtener la clase que llama\n",
    "            caller_frame = frame.f_back.f_back\n",
    "            if 'self' in caller_frame.f_locals:\n",
    "                return caller_frame.f_locals['self'].__class__\n",
    "        finally:\n",
    "            del frame\n",
    "        return None\n",
    "        \n",
    "    @property\n",
    "    def income(self) -> int:  # getter, obtenemos el valor de __income\n",
    "        return self.__income\n",
    "        \n",
    "    @income.setter\n",
    "    def income(self, new_income: int) -> None:\n",
    "        caller_class = self.__get_caller_class()\n",
    "        if isinstance(caller_class, BankApplication):\n",
    "            self.__income = new_income\n",
    "            return\n",
    "        raise AttributeError(\"Cannot set income directly\")  # setter, no se puede modificar el valor de __income"
   ]
  },
  {
   "cell_type": "code",
   "execution_count": 13,
   "id": "f70a88f0",
   "metadata": {},
   "outputs": [],
   "source": [
    "daphne: PrivatePerson = PrivatePerson(\"Daphne\", 30, 10000)\n",
    "application: BankApplication = BankApplication(daphne)"
   ]
  },
  {
   "cell_type": "code",
   "execution_count": 14,
   "id": "a99775bc",
   "metadata": {},
   "outputs": [
    {
     "data": {
      "text/plain": [
       "10000"
      ]
     },
     "execution_count": 14,
     "metadata": {},
     "output_type": "execute_result"
    }
   ],
   "source": [
    "daphne.income"
   ]
  },
  {
   "cell_type": "code",
   "execution_count": 15,
   "id": "4f8d3c92",
   "metadata": {},
   "outputs": [
    {
     "ename": "AttributeError",
     "evalue": "Cannot set income directly",
     "output_type": "error",
     "traceback": [
      "\u001b[31m---------------------------------------------------------------------------\u001b[39m",
      "\u001b[31mAttributeError\u001b[39m                            Traceback (most recent call last)",
      "\u001b[36mCell\u001b[39m\u001b[36m \u001b[39m\u001b[32mIn[15]\u001b[39m\u001b[32m, line 2\u001b[39m\n\u001b[32m      1\u001b[39m scooby_doo: PrivateDog = PrivateDog(daphne, \u001b[33m\"\u001b[39m\u001b[33mScooby Doo\u001b[39m\u001b[33m\"\u001b[39m, \u001b[32m5\u001b[39m)\n\u001b[32m----> \u001b[39m\u001b[32m2\u001b[39m \u001b[43mscooby_doo\u001b[49m\u001b[43m.\u001b[49m\u001b[43mowner\u001b[49m\u001b[43m.\u001b[49m\u001b[43mincome\u001b[49m = \u001b[32m200\u001b[39m\n",
      "\u001b[36mCell\u001b[39m\u001b[36m \u001b[39m\u001b[32mIn[12]\u001b[39m\u001b[32m, line 38\u001b[39m, in \u001b[36mPrivatePerson.income\u001b[39m\u001b[34m(self, new_income)\u001b[39m\n\u001b[32m     36\u001b[39m     \u001b[38;5;28mself\u001b[39m.__income = new_income\n\u001b[32m     37\u001b[39m     \u001b[38;5;28;01mreturn\u001b[39;00m\n\u001b[32m---> \u001b[39m\u001b[32m38\u001b[39m \u001b[38;5;28;01mraise\u001b[39;00m \u001b[38;5;167;01mAttributeError\u001b[39;00m(\u001b[33m\"\u001b[39m\u001b[33mCannot set income directly\u001b[39m\u001b[33m\"\u001b[39m)\n",
      "\u001b[31mAttributeError\u001b[39m: Cannot set income directly"
     ]
    }
   ],
   "source": [
    "scooby_doo: PrivateDog = PrivateDog(daphne, \"Scooby Doo\", 5)\n",
    "scooby_doo.owner.income = 200"
   ]
  }
 ],
 "metadata": {
  "kernelspec": {
   "display_name": "venv",
   "language": "python",
   "name": "python3"
  },
  "language_info": {
   "codemirror_mode": {
    "name": "ipython",
    "version": 3
   },
   "file_extension": ".py",
   "mimetype": "text/x-python",
   "name": "python",
   "nbconvert_exporter": "python",
   "pygments_lexer": "ipython3",
   "version": "3.11.9"
  }
 },
 "nbformat": 4,
 "nbformat_minor": 5
}
