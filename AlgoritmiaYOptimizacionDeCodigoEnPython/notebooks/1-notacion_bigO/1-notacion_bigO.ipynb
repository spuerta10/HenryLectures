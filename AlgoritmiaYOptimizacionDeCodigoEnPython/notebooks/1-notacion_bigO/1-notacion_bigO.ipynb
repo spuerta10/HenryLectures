{
 "cells": [
  {
   "cell_type": "markdown",
   "id": "a36dc6e2",
   "metadata": {},
   "source": [
    "# Notacion Big O\n",
    "La notacion Big O nos permite medir la eficiencia de un algoritmo en funcion del tamaño de la entrada, desde dos puntos de vista: **el uso de memoria** (complejidad espacial) y el **tiempo de ejecucion** (complejidad temporal). \n",
    "\n",
    "Veamos algunas de las notaciones mas comunes:\n",
    "\n",
    "| Notacion | Lectura | Descripcion | \n",
    "|----------|---------|-------------|\n",
    "| O(1) | \"O de 1\" (Tiempo constante) | Una operación que se ejecuta siempre en el mismo tiempo, **sin importar el tamaño de la entrada.** | \n",
    "| O(log n) | \"O logaritmico\" | El tiempo de ejecución crece logarítmicamente a medida que aumenta el tamaño de la entrada. Es decir, crece muy lentamente. |\n",
    "| O(n) | \"O de n\" (Tiempo lineal) | El tiempo de ejecución crece en **proporción directa al tamaño de la entrada.** |\n",
    "| O(n**2) | \"O de n al cuadrado\" (Tiempo cuadratico) | El tiempo de ejecución crece **cuadráticamente** con respecto al tamaño de la entrada. Muy común en algoritmos con bucles anidados. |\n",
    "\n",
    "## Ejemplo practico\n",
    "Ahora veremos como la complejidad afecta a diferentes algoritmos con un mismo proposito, \"simple\" en principio: encontrar elementos comunes entre dos listas.\n",
    "\n",
    "Para dos listas:\n",
    "\n",
    "A -> [1,2,3,4]\n",
    "\n",
    "B -> [3,4,5,6]\n",
    "\n",
    "El algortimo debera de retornar todos los elementos comunes entre las dos: [3,4]\n",
    "\n",
    "Dado el caso de que no existan elementos en comun retornar una lista vacia: []\n",
    "\n",
    "¡A darle!"
   ]
  },
  {
   "cell_type": "code",
   "execution_count": 1,
   "id": "1dcaa480",
   "metadata": {},
   "outputs": [],
   "source": [
    "A: list[int | float] = [1,2,3,4]\n",
    "B: list[int | float] = [3,4,5,6]\n",
    "\n",
    "EXPECTED_RESULT: list[int | float] = [3,4]"
   ]
  },
  {
   "cell_type": "markdown",
   "id": "4058a54e",
   "metadata": {},
   "source": [
    "## O de n al cuadrado (Tiempo cuadratico)"
   ]
  },
  {
   "cell_type": "code",
   "execution_count": 2,
   "id": "ef3fa2d3",
   "metadata": {},
   "outputs": [],
   "source": [
    "def get_commons_n2(a: list[int | float], b: list[int | float]) -> list[int | float]:\n",
    "    \"\"\"\n",
    "    Devuelve los elementos comunes entre dos listas utilizando un enfoque de fuerza bruta O(n²).\n",
    "\n",
    "    Esta función compara cada elemento de la primera lista con cada elemento de la segunda\n",
    "    lista para encontrar los valores que aparecen en ambas. La comparación se realiza utilizando \n",
    "    igualdad (`==`).\n",
    "\n",
    "    Args:\n",
    "        a (list[int | float]): Primera lista de números.\n",
    "        b (list[int | float]): Segunda lista de números.\n",
    "\n",
    "    Returns:\n",
    "        list[int | float]: Una lista de valores que están presentes tanto en `a` como en `b`.\n",
    "    \"\"\"\n",
    "    commons: list[int | float] = list()\n",
    "    for number_a in a:\n",
    "        for number_b in b:\n",
    "            if number_a == number_b:\n",
    "                commons.append(number_a)  # solo el numero en a ya que son iguales\n",
    "    return commons"
   ]
  },
  {
   "cell_type": "code",
   "execution_count": 3,
   "id": "1308ff70",
   "metadata": {},
   "outputs": [
    {
     "data": {
      "text/plain": [
       "True"
      ]
     },
     "execution_count": 3,
     "metadata": {},
     "output_type": "execute_result"
    }
   ],
   "source": [
    "(\n",
    "    (get_commons_n2(A, B) == EXPECTED_RESULT)\n",
    "    & \n",
    "    (get_commons_n2([], []) == [])  # miremos caso listas vacias\n",
    "    &\n",
    "    (get_commons_n2([1,2,3,4], [5,6,7]) == [])  # caso no elementos comunes\n",
    ") "
   ]
  },
  {
   "cell_type": "markdown",
   "id": "00bd9e33",
   "metadata": {},
   "source": [
    "## O de n (Tiempo lineal)"
   ]
  },
  {
   "cell_type": "code",
   "execution_count": 4,
   "id": "9892a769",
   "metadata": {},
   "outputs": [],
   "source": [
    "def get_commons_n(a: list[int | float], b: list[int | float]) -> list[int | float]:\n",
    "    \"\"\"\n",
    "    Devuelve los elementos comunes entre dos listas utilizando la intersección de conjuntos (O(n)).\n",
    "\n",
    "    Esta función convierte ambas listas en conjuntos y devuelve la intersección como una lista.\n",
    "    Es significativamente más rápida que el enfoque O(n²) cuando se trabaja con entradas grandes.\n",
    "\n",
    "    Args:\n",
    "        a (list[int | float]): Primera lista de números.\n",
    "        b (list[int | float]): Segunda lista de números.\n",
    "\n",
    "    Returns:\n",
    "        list[int | float]: Una lista de valores que están presentes tanto en `a` como en `b`.\n",
    "    \"\"\"\n",
    "    return list(set(a).intersection(set(b)))"
   ]
  },
  {
   "cell_type": "code",
   "execution_count": 5,
   "id": "934ecf27",
   "metadata": {},
   "outputs": [
    {
     "data": {
      "text/plain": [
       "True"
      ]
     },
     "execution_count": 5,
     "metadata": {},
     "output_type": "execute_result"
    }
   ],
   "source": [
    "(\n",
    "    (get_commons_n(A, B) == EXPECTED_RESULT)\n",
    "    & \n",
    "    (get_commons_n([], []) == [])  # miremos caso listas vacias\n",
    "    &\n",
    "    (get_commons_n([1,2,3,4], [5,6,7]) == [])  # caso no elementos comunes\n",
    ") "
   ]
  },
  {
   "cell_type": "markdown",
   "id": "094abacc",
   "metadata": {},
   "source": [
    "## O de n logaritmo de n"
   ]
  },
  {
   "cell_type": "code",
   "execution_count": 6,
   "id": "65454459",
   "metadata": {},
   "outputs": [],
   "source": [
    "from bisect import bisect_left"
   ]
  },
  {
   "cell_type": "code",
   "execution_count": 7,
   "id": "2816804c",
   "metadata": {},
   "outputs": [],
   "source": [
    "def binary_search(arr: list[int | float], x: int):\n",
    "    \"\"\"\n",
    "    Realiza una búsqueda binaria en una lista ordenada para encontrar un elemento específico.\n",
    "\n",
    "    Esta función utiliza el método `bisect_left` del módulo `bisect` para encontrar la posición\n",
    "    donde el elemento `x` debe ser insertado para mantener la lista ordenada, y luego verifica si\n",
    "    el elemento está realmente presente en esa posición.\n",
    "\n",
    "    Args:\n",
    "        arr (list[int | float]): Lista ordenada de números en la que se realizará la búsqueda.\n",
    "        x (int | float): El elemento que se busca en la lista.\n",
    "\n",
    "    Returns:\n",
    "        bool: True si el elemento `x` se encuentra en la lista `arr`, False en caso contrario.\n",
    "    \"\"\"\n",
    "    i = bisect_left(arr, x)\n",
    "    return i < len(arr) and arr[i] == x\n",
    "\n",
    "def get_commons_logn(a: list[int | float], b: list[int | float]) -> list[int | float]:\n",
    "    \"\"\"\n",
    "    Devuelve los elementos comunes entre dos listas utilizando búsqueda binaria.\n",
    "    Complejidad de O(n log n) si se ordena la lista.\n",
    "    \n",
    "    LA BUSQUEDA BINARIA REQUIERE QUE LA LISTA ESTÉ ORDENADA, POR LO QUE SE DEBE ORDENAR `b`, EN CASO DE QUE NO LO ESTE, ANTES DE REALIZAR LA BÚSQUEDA.\n",
    "\n",
    "    Esta función primero ordena la lista `b` y luego utiliza búsqueda binaria para encontrar cada\n",
    "    elemento de `a` en `b`. Es más eficiente que el enfoque de fuerza bruta O(n^2), especialmente\n",
    "    para listas grandes.\n",
    "\n",
    "    Args:\n",
    "        a (list[int | float]): Primera lista de números.\n",
    "        b (list[int | float]): Segunda lista de números (esta lista será ordenada antes de la búsqueda).\n",
    "\n",
    "    Returns:\n",
    "        list[int | float]: Una lista de valores que están presentes en ambas listas, `a` y `b`.\n",
    "    \"\"\"\n",
    "    b.sort()\n",
    "    return [x for x in a if binary_search(b, x)]"
   ]
  },
  {
   "cell_type": "code",
   "execution_count": 8,
   "id": "9a712a07",
   "metadata": {},
   "outputs": [
    {
     "data": {
      "text/plain": [
       "True"
      ]
     },
     "execution_count": 8,
     "metadata": {},
     "output_type": "execute_result"
    }
   ],
   "source": [
    "(\n",
    "    (get_commons_n(A, B) == EXPECTED_RESULT)\n",
    "    & \n",
    "    (get_commons_n([], []) == [])  # miremos caso listas vacias\n",
    "    &\n",
    "    (get_commons_n([1,2,3,4], [5,6,7]) == [])  # caso no elementos comunes\n",
    ") "
   ]
  },
  {
   "cell_type": "markdown",
   "id": "8513cab5",
   "metadata": {},
   "source": [
    "## Comparando el rendimiento\n",
    "Finalmente, comparemos como cambia el rendimiento entre las funciones en funcion del tamaño de la entrada, para asi poder determinar cual de ellas es mejor o mas eficiente."
   ]
  },
  {
   "cell_type": "code",
   "execution_count": 9,
   "id": "3406369c",
   "metadata": {},
   "outputs": [],
   "source": [
    "from timeit import repeat\n",
    "\n",
    "import matplotlib.pyplot as plt\n",
    "import numpy as np"
   ]
  },
  {
   "cell_type": "code",
   "execution_count": 10,
   "id": "8bba0ba3",
   "metadata": {},
   "outputs": [
    {
     "data": {
      "image/png": "[encoded data removed]",
      "text/plain": [
       "<Figure size 640x480 with 1 Axes>"
      ]
     },
     "metadata": {},
     "output_type": "display_data"
    }
   ],
   "source": [
    "sizes: list[int] = [100, 200, 400, 800, 1600]\n",
    "times_n2, times_n, times_logn = list(), list(), list() \n",
    "std_n2, std_n, std_logn = list(), list(), list() \n",
    "\n",
    "setup = \"\"\"\n",
    "from __main__ import {fn}\n",
    "a,b = {a}, {b}\n",
    "\"\"\"\n",
    "\n",
    "for size in sizes:\n",
    "    a: list[int] = [item for item in range(1, size + 1)]\n",
    "    b: list[int] = [item for item in range(3, size + 3)]\n",
    "    \n",
    "    results_n2: list[float] = repeat(\"get_commons_n2(a,b)\", setup=setup.format(fn=\"get_commons_n2\", a=a, b=b), number=30, repeat=50)\n",
    "    results_n: list[float] = repeat(\"get_commons_n(a,b)\", setup=setup.format(fn=\"get_commons_n\", a=a, b=b), number=30, repeat=50)\n",
    "    results_logn: list[float] = repeat(\"get_commons_logn(a,b)\", setup=setup.format(fn=\"get_commons_logn\", a=a, b=b), number=30, repeat= 50) \n",
    "     \n",
    "    times_n2.append(np.mean(results_n2))\n",
    "    times_n.append(np.mean(results_n))\n",
    "    times_logn.append(np.mean(results_logn))\n",
    "    std_n2.append(np.std(results_n2))\n",
    "    std_n.append(np.std(results_n))\n",
    "    std_logn.append(np.std(results_logn))\n",
    "\n",
    "# O(n²)\n",
    "plt.plot(sizes, times_n2, 'o-', color='red', label='O(n²)')\n",
    "plt.fill_between(\n",
    "    sizes,\n",
    "    np.array(times_n2) - np.array(std_n2),\n",
    "    np.array(times_n2) + np.array(std_n2),\n",
    "    color='red',\n",
    "    alpha=0.3\n",
    ")\n",
    "\n",
    "# O(n)\n",
    "plt.plot(sizes, times_n, 'o-', color='green', label='O(n)')\n",
    "plt.fill_between(\n",
    "    sizes,\n",
    "    np.array(times_n) - np.array(std_n),\n",
    "    np.array(times_n) + np.array(std_n),\n",
    "    color='green',\n",
    "    alpha=0.3\n",
    ")\n",
    "\n",
    "# O(log n)\n",
    "plt.plot(sizes, times_logn, 'o-', color='blue', label='O(n log n)')\n",
    "plt.fill_between(\n",
    "    sizes,\n",
    "    np.array(times_logn) - np.array(std_logn),\n",
    "    np.array(times_logn) + np.array(std_logn),\n",
    "    color='blue',\n",
    "    alpha=0.3\n",
    ")\n",
    "\n",
    "plt.title('Comparación de tiempos de ejecución')\n",
    "plt.xlabel('Tamaño de las listas')\n",
    "plt.ylabel('Tiempo (segundos)')\n",
    "plt.grid(True)\n",
    "plt.legend()\n",
    "plt.tight_layout()\n",
    "plt.show()"
   ]
  },
  {
   "cell_type": "markdown",
   "id": "952cd5ff",
   "metadata": {},
   "source": [
    "### Resultados\n",
    "Podemos ver claramente el terrible rendimiento que da nuestra funcion cuadratica.\n",
    "\n",
    "Tal y como se esperaba O(n) y O(n log n) son muy similares en cuanto a rendimiento, O(n log n) siendo peor al mostrar señales de aumento en el tiempo de ejecucion para entradas mas grandes. "
   ]
  }
 ],
 "metadata": {
  "kernelspec": {
   "display_name": "Python 3",
   "language": "python",
   "name": "python3"
  },
  "language_info": {
   "codemirror_mode": {
    "name": "ipython",
    "version": 3
   },
   "file_extension": ".py",
   "mimetype": "text/x-python",
   "name": "python",
   "nbconvert_exporter": "python",
   "pygments_lexer": "ipython3",
   "version": "3.10.11"
  }
 },
 "nbformat": 4,
 "nbformat_minor": 5
}
