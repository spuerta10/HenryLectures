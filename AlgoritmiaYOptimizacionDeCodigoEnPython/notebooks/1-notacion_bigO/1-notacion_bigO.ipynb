{
 "cells": [
  {
   "cell_type": "markdown",
   "id": "a36dc6e2",
   "metadata": {},
   "source": [
    "# Notacion Big O\n",
    "La notacion Big O nos permite medir la eficiencia de un algoritmo en funcion del tamaño de la entrada, desde dos puntos de vista: **el uso de memoria** (complejidad espacial) y el **tiempo de ejecucion** (complejidad temporal). \n",
    "\n",
    "Veamos algunas de las notaciones mas comunes:\n",
    "\n",
    "| Notacion | Lectura | Descripcion | \n",
    "|----------|---------|-------------|\n",
    "| O(1) | \"O de 1\" (Tiempo constante) | Una operación que se ejecuta siempre en el mismo tiempo, **sin importar el tamaño de la entrada.** | \n",
    "| O(log n) | \"O logaritmico\" | El tiempo de ejecución crece logarítmicamente a medida que aumenta el tamaño de la entrada. Es decir, crece muy lentamente. |\n",
    "| O(n) | \"O de n\" (Tiempo lineal) | El tiempo de ejecución crece en **proporción directa al tamaño de la entrada.** |\n",
    "| O(n**2) | \"O de n al cuadrado\" (Tiempo cuadratico) | El tiempo de ejecución crece **cuadráticamente** con respecto al tamaño de la entrada. Muy común en algoritmos con bucles anidados. |\n",
    "\n",
    "## Ejemplo practico\n",
    "Ahora veremos como la complejidad afecta a diferentes algoritmos con un mismo proposito, \"simple\" en principio: encontrar elementos comunes entre dos listas.\n",
    "\n",
    "Para dos listas:\n",
    "\n",
    "A -> [1,2,3,4]\n",
    "\n",
    "B -> [3,4,5,6]\n",
    "\n",
    "El algortimo debera de retornar todos los elementos comunes entre las dos: [3,4]\n",
    "\n",
    "Dado el caso de que no existan elementos en comun retornar una lista vacia: []\n",
    "\n",
    "¡A darle!"
   ]
  },
  {
   "cell_type": "code",
   "execution_count": 5,
   "id": "1dcaa480",
   "metadata": {},
   "outputs": [],
   "source": [
    "A: list[int | float] = [1,2,3,4]\n",
    "B: list[int | float] = [3,4,5,6]\n",
    "\n",
    "EXPECTED_RESULT: list[int | float] = [3,4]"
   ]
  },
  {
   "cell_type": "markdown",
   "id": "4058a54e",
   "metadata": {},
   "source": [
    "## O de n al cuadrado (Tiempo cuadratico)"
   ]
  },
  {
   "cell_type": "code",
   "execution_count": 23,
   "id": "ef3fa2d3",
   "metadata": {},
   "outputs": [],
   "source": [
    "def get_commons_n2(a: list[int | float], b: list[int | float]) -> list[int | float]:\n",
    "    commons: list[int | float] = list()\n",
    "    for number_a in a:\n",
    "        for number_b in b:\n",
    "            if number_a == number_b:\n",
    "                commons.append(number_a)  # solo el numero en a ya que son iguales\n",
    "    return commons"
   ]
  },
  {
   "cell_type": "code",
   "execution_count": null,
   "id": "1308ff70",
   "metadata": {},
   "outputs": [
    {
     "data": {
      "text/plain": [
       "True"
      ]
     },
     "execution_count": 7,
     "metadata": {},
     "output_type": "execute_result"
    }
   ],
   "source": [
    "(\n",
    "    (get_commons_n2(A, B) == EXPECTED_RESULT)\n",
    "    & \n",
    "    (get_commons_n2([], []) == [])  # miremos caso listas vacias\n",
    "    &\n",
    "    (get_commons_n2([1,2,3,4], [5,6,7]) == [])  # caso no elementos comunes\n",
    ") "
   ]
  },
  {
   "cell_type": "markdown",
   "id": "00bd9e33",
   "metadata": {},
   "source": [
    "## O de n (Tiempo lineal)"
   ]
  },
  {
   "cell_type": "code",
   "execution_count": 11,
   "id": "9892a769",
   "metadata": {},
   "outputs": [],
   "source": [
    "def get_commons_n(a: list[int | float], b: list[int | float]) -> list[int | float]:\n",
    "    return list(set(a).intersection(set(b)))"
   ]
  },
  {
   "cell_type": "code",
   "execution_count": 12,
   "id": "934ecf27",
   "metadata": {},
   "outputs": [
    {
     "data": {
      "text/plain": [
       "True"
      ]
     },
     "execution_count": 12,
     "metadata": {},
     "output_type": "execute_result"
    }
   ],
   "source": [
    "(\n",
    "    (get_commons_n(A, B) == EXPECTED_RESULT)\n",
    "    & \n",
    "    (get_commons_n([], []) == [])  # miremos caso listas vacias\n",
    "    &\n",
    "    (get_commons_n([1,2,3,4], [5,6,7]) == [])  # caso no elementos comunes\n",
    ") "
   ]
  },
  {
   "cell_type": "markdown",
   "id": "094abacc",
   "metadata": {},
   "source": [
    "## O logaritmico"
   ]
  },
  {
   "cell_type": "code",
   "execution_count": 14,
   "id": "65454459",
   "metadata": {},
   "outputs": [],
   "source": [
    "from bisect import bisect_left"
   ]
  },
  {
   "cell_type": "code",
   "execution_count": 15,
   "id": "2816804c",
   "metadata": {},
   "outputs": [],
   "source": [
    "def get_commons_logn(a: list[int | float], b: list[int | float]):\n",
    "    commons: list[int | float] = list()\n",
    "    for numbers in a:\n",
    "        index: int = bisect_left(b,a)\n",
    "        if index < len(b) and b[index] == a:\n",
    "            commons.append(a)\n",
    "    return commons"
   ]
  },
  {
   "cell_type": "code",
   "execution_count": 16,
   "id": "9a712a07",
   "metadata": {},
   "outputs": [
    {
     "data": {
      "text/plain": [
       "True"
      ]
     },
     "execution_count": 16,
     "metadata": {},
     "output_type": "execute_result"
    }
   ],
   "source": [
    "(\n",
    "    (get_commons_n(A, B) == EXPECTED_RESULT)\n",
    "    & \n",
    "    (get_commons_n([], []) == [])  # miremos caso listas vacias\n",
    "    &\n",
    "    (get_commons_n([1,2,3,4], [5,6,7]) == [])  # caso no elementos comunes\n",
    ") "
   ]
  },
  {
   "cell_type": "markdown",
   "id": "8513cab5",
   "metadata": {},
   "source": [
    "## Comparando el rendimiento"
   ]
  },
  {
   "cell_type": "code",
   "execution_count": 20,
   "id": "3406369c",
   "metadata": {},
   "outputs": [],
   "source": [
    "from typing import Callable\n",
    "from time import time\n",
    "\n",
    "import matplotlib.pyplot as plt"
   ]
  },
  {
   "cell_type": "code",
   "execution_count": null,
   "id": "4de12773",
   "metadata": {},
   "outputs": [],
   "source": [
    "def measure_time(fn: Callable, a: list[int | float], b: list[int | float]):\n",
    "    start_time: float = time()\n",
    "    fn(a, b)\n",
    "    end_time: float = time()\n",
    "    return end_time - start_time"
   ]
  },
  {
   "cell_type": "code",
   "execution_count": 25,
   "id": "8bba0ba3",
   "metadata": {},
   "outputs": [
    {
     "ename": "TypeError",
     "evalue": "'<' not supported between instances of 'int' and 'list'",
     "output_type": "error",
     "traceback": [
      "\u001b[1;31m---------------------------------------------------------------------------\u001b[0m",
      "\u001b[1;31mTypeError\u001b[0m                                 Traceback (most recent call last)",
      "Cell \u001b[1;32mIn[25], line 9\u001b[0m\n\u001b[0;32m      7\u001b[0m times_n2\u001b[38;5;241m.\u001b[39mappend(measure_time(\u001b[38;5;28;01mlambda\u001b[39;00m: get_commons_n2(a,b)))\n\u001b[0;32m      8\u001b[0m times_n\u001b[38;5;241m.\u001b[39mappend(measure_time(\u001b[38;5;28;01mlambda\u001b[39;00m: get_commons_n(a,b)))\n\u001b[1;32m----> 9\u001b[0m times_logn\u001b[38;5;241m.\u001b[39mappend(\u001b[43mmeasure_time\u001b[49m\u001b[43m(\u001b[49m\u001b[38;5;28;43;01mlambda\u001b[39;49;00m\u001b[43m:\u001b[49m\u001b[43m \u001b[49m\u001b[43mget_commons_logn\u001b[49m\u001b[43m(\u001b[49m\u001b[43ma\u001b[49m\u001b[43m,\u001b[49m\u001b[43mb\u001b[49m\u001b[43m)\u001b[49m\u001b[43m)\u001b[49m)\n",
      "Cell \u001b[1;32mIn[21], line 3\u001b[0m, in \u001b[0;36mmeasure_time\u001b[1;34m(fn)\u001b[0m\n\u001b[0;32m      1\u001b[0m \u001b[38;5;28;01mdef\u001b[39;00m \u001b[38;5;21mmeasure_time\u001b[39m(fn: Callable):\n\u001b[0;32m      2\u001b[0m     start_time: \u001b[38;5;28mfloat\u001b[39m \u001b[38;5;241m=\u001b[39m time()\n\u001b[1;32m----> 3\u001b[0m     \u001b[43mfn\u001b[49m\u001b[43m(\u001b[49m\u001b[43m)\u001b[49m\n\u001b[0;32m      4\u001b[0m     end_time: \u001b[38;5;28mfloat\u001b[39m \u001b[38;5;241m=\u001b[39m time()\n\u001b[0;32m      5\u001b[0m     \u001b[38;5;28;01mreturn\u001b[39;00m end_time \u001b[38;5;241m-\u001b[39m start_time\n",
      "Cell \u001b[1;32mIn[25], line 9\u001b[0m, in \u001b[0;36m<lambda>\u001b[1;34m()\u001b[0m\n\u001b[0;32m      7\u001b[0m times_n2\u001b[38;5;241m.\u001b[39mappend(measure_time(\u001b[38;5;28;01mlambda\u001b[39;00m: get_commons_n2(a,b)))\n\u001b[0;32m      8\u001b[0m times_n\u001b[38;5;241m.\u001b[39mappend(measure_time(\u001b[38;5;28;01mlambda\u001b[39;00m: get_commons_n(a,b)))\n\u001b[1;32m----> 9\u001b[0m times_logn\u001b[38;5;241m.\u001b[39mappend(measure_time(\u001b[38;5;28;01mlambda\u001b[39;00m: \u001b[43mget_commons_logn\u001b[49m\u001b[43m(\u001b[49m\u001b[43ma\u001b[49m\u001b[43m,\u001b[49m\u001b[43mb\u001b[49m\u001b[43m)\u001b[49m))\n",
      "Cell \u001b[1;32mIn[15], line 4\u001b[0m, in \u001b[0;36mget_commons_logn\u001b[1;34m(a, b)\u001b[0m\n\u001b[0;32m      2\u001b[0m commons: \u001b[38;5;28mlist\u001b[39m[\u001b[38;5;28mint\u001b[39m \u001b[38;5;241m|\u001b[39m \u001b[38;5;28mfloat\u001b[39m] \u001b[38;5;241m=\u001b[39m \u001b[38;5;28mlist\u001b[39m()\n\u001b[0;32m      3\u001b[0m \u001b[38;5;28;01mfor\u001b[39;00m numbers \u001b[38;5;129;01min\u001b[39;00m a:\n\u001b[1;32m----> 4\u001b[0m     index: \u001b[38;5;28mint\u001b[39m \u001b[38;5;241m=\u001b[39m \u001b[43mbisect_left\u001b[49m\u001b[43m(\u001b[49m\u001b[43mb\u001b[49m\u001b[43m,\u001b[49m\u001b[43ma\u001b[49m\u001b[43m)\u001b[49m\n\u001b[0;32m      5\u001b[0m     \u001b[38;5;28;01mif\u001b[39;00m index \u001b[38;5;241m<\u001b[39m \u001b[38;5;28mlen\u001b[39m(b) \u001b[38;5;129;01mand\u001b[39;00m b[index] \u001b[38;5;241m==\u001b[39m a:\n\u001b[0;32m      6\u001b[0m         commons\u001b[38;5;241m.\u001b[39mappend(a)\n",
      "\u001b[1;31mTypeError\u001b[0m: '<' not supported between instances of 'int' and 'list'"
     ]
    }
   ],
   "source": [
    "sizes: list[int] = [100, 200, 300]\n",
    "times_n2, times_n, times_logn = list(), list(), list() \n",
    "\n",
    "for size in sizes:\n",
    "    a: list[int] = [item for item in range(1, size + 1)]\n",
    "    b: list[int] = [item for item in range(3, size + 3)]\n",
    "    times_n2.append(measure_time(lambda: get_commons_n2(a,b)))\n",
    "    times_n.append(measure_time(lambda: get_commons_n(a,b)))\n",
    "    times_logn.append(measure_time(lambda: get_commons_logn(a,b)))"
   ]
  }
 ],
 "metadata": {
  "kernelspec": {
   "display_name": "Python 3",
   "language": "python",
   "name": "python3"
  },
  "language_info": {
   "codemirror_mode": {
    "name": "ipython",
    "version": 3
   },
   "file_extension": ".py",
   "mimetype": "text/x-python",
   "name": "python",
   "nbconvert_exporter": "python",
   "pygments_lexer": "ipython3",
   "version": "3.10.11"
  }
 },
 "nbformat": 4,
 "nbformat_minor": 5
}
