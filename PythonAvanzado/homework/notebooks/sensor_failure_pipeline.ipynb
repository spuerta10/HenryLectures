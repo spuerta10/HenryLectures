{
 "cells": [
  {
   "cell_type": "markdown",
   "id": "9d3ae993",
   "metadata": {},
   "source": [
    "# Enunciado\n",
    "Hola ingeniero 👋. Bienvenido a tu cuarto desafio! Ya sabes que en [Vault-Tec Corporation](https://fallout.fandom.com/es/wiki/Vault-Tec_Corporation) tenemos sensores encargados de monitorear las condiciones actuales de nuestros refugios. En ocasiones pasadas detectamos que varios de ellos presentaban fallas recurrentes, impidiendo que pudieramos determinar las condiciones de nuestros bóvedas y darle la seguridad esperada a nuestros clientes en un mundo post apocaliptico 🙃. \n",
    "\n",
    "Anteriormente, a pedido de nuestro equipo, construimos un pipeline de datos el cual automatiza las actividades relacionadas a soporte y mantenimiento de los distintos sensores presentes en los refugios. \n",
    "\n",
    "Sin embargo, luego de haber probado nuestra solucion, nuestro equipo ha detectado una serie de problemas y nos los ha comunicado, en esta ocasion deberemos de solucionarlos."
   ]
  },
  {
   "cell_type": "markdown",
   "id": "25195967",
   "metadata": {},
   "source": [
    "# Insumos\n",
    "..."
   ]
  },
  {
   "cell_type": "markdown",
   "id": "f87cec0f",
   "metadata": {},
   "source": [
    "# Tu turno!\n",
    "Ahora es tu turno! Ayudemos a nuestro equipo a solucionar los problemas detectados. "
   ]
  },
  {
   "cell_type": "markdown",
   "id": "efe51fcd",
   "metadata": {},
   "source": [
    "1. Al cacular el riesgo semanal de falla y dado el caso en que no exista tiempo de falla de un sensor para un fecha dentro del rango de fechas, la funcion falla.\n",
    "\n",
    "```python\n",
    "searched_date = datetime.strptime(\"2025-08-01\", \"%Y-%m-%d\").date()\n",
    "extraction = LogExtractor(\n",
    "    r\"/Users/spuertaf/Desktop/Repos/HenryLectures/LoopsYFunciones/homework/data/logs.json\"\n",
    ")\n",
    "analyzer = SensorFailureAnalyzer(logs=extraction.from_file())\n",
    "\n",
    "analyzer.get_weekly_sensor_failure_probability(sensor_id=\"hidra_flow\", start_date=searched_date)\n",
    "> TypeError: unsupported operand type(s) for /: 'NoneType' and 'int'\n",
    "```\n",
    "\n",
    "- Modifica "
   ]
  },
  {
   "cell_type": "code",
   "execution_count": null,
   "id": "7e581b7f",
   "metadata": {},
   "outputs": [],
   "source": [
    "from datetime import date\n",
    "\n",
    "\n",
    "def get_weekly_sensor_failure_probability(self, sensor_id: int, start_date: date) -> list[dict]:\n",
    "    \"\"\"Calcula la probabilidad diaria de fallo de un sensor durante una semana.\n",
    "\n",
    "    La probabilidad se calcula como la proporción del tiempo en fallo\n",
    "    respecto al total de segundos en una semana.\n",
    "\n",
    "    Args:\n",
    "        sensor_id (int): Identificador del sensor.\n",
    "        start_date (date): Fecha de inicio del periodo.\n",
    "\n",
    "    Returns:\n",
    "        list[dict]: Lista de diccionarios con la siguiente información:\n",
    "            - \"sensor_id\" (int): Identificador del sensor.\n",
    "            - \"date\" (str): Fecha en formato ISO (YYYY-MM-DD).\n",
    "            - \"failure_probability\" (str): Probabilidad del fallo (0 a 1) con 4 decimales.\n",
    "    \"\"\"\n",
    "    weekly_sensor_failure_duration = self.get_weekly_sensor_failure_duration(sensor_id, start_date)\n",
    "    return [\n",
    "        {\n",
    "            \"sensor_id\": sensor_id,\n",
    "            \"date\": x[\"date\"],\n",
    "            \"failure_probability\": f\"{x['failure_seconds'] / self.WEEK_TOTAL_SECONDS:.4f}\",\n",
    "        }\n",
    "        for x in weekly_sensor_failure_duration\n",
    "    ]"
   ]
  },
  {
   "cell_type": "markdown",
   "id": "f555bad3",
   "metadata": {},
   "source": [
    "2. Si el sensor buscado no es valido -- --, se realizan todos los calculos, lo cual resulta en una perdida de computo. Dado que el sensor no exista, se deberia de fallar en lugar de realizar todos los calculos. \n",
    "\n",
    "```python\n",
    "searched_date = datetime.strptime(\"2025-08-01\", \"%Y-%m-%d\").date()\n",
    "extraction = LogExtractor(\n",
    "    r\"/Users/spuertaf/Desktop/Repos/HenryLectures/LoopsYFunciones/homework/data/logs.json\"\n",
    ")\n",
    "analyzer = SensorFailureAnalyzer(logs=extraction.from_file())\n",
    "\n",
    "analyzer.get_weekly_sensor_failure_duration(sensor_id=\"blalu\", start_date=searched_date)\n",
    "> [{'sensor_id': 'blalu', 'date': '2025-08-01', 'failure_seconds': None},\n",
    " {'sensor_id': 'blalu', 'date': '2025-08-02', 'failure_seconds': None},\n",
    " {'sensor_id': 'blalu', 'date': '2025-08-03', 'failure_seconds': None},\n",
    " {'sensor_id': 'blalu', 'date': '2025-08-04', 'failure_seconds': None},\n",
    " {'sensor_id': 'blalu', 'date': '2025-08-05', 'failure_seconds': None},\n",
    " {'sensor_id': 'blalu', 'date': '2025-08-06', 'failure_seconds': None},\n",
    " {'sensor_id': 'blalu', 'date': '2025-08-07', 'failure_seconds': None}]\n",
    "```\n",
    "\n",
    "- ..."
   ]
  },
  {
   "cell_type": "markdown",
   "id": "2e0b713e",
   "metadata": {},
   "source": [
    "3. Pruebas unitarias"
   ]
  },
  {
   "cell_type": "code",
   "execution_count": 6,
   "id": "0826ecdf",
   "metadata": {},
   "outputs": [],
   "source": [
    "from datetime import datetime\n",
    "from typing import Literal\n",
    "\n",
    "from pydantic import BaseModel\n",
    "\n",
    "\n",
    "class Log(BaseModel):\n",
    "    \"\"\"Representa un registro (log) generado por un sensor.\n",
    "\n",
    "    Atributos:\n",
    "        sensor_id (Literal): Identificador del sensor que generó el registro.\n",
    "            Valores posibles: \"oxy_guard\", \"thermo_core\", \"hidra_flow\", \"radi_shield\".\n",
    "        event_type (Literal): Tipo de evento registrado.\n",
    "            Valores posibles: \"FAILURE_START\" (inicio de falla) o \"FAILURE_END\" (fin de falla).\n",
    "        timestamp (datetime): Fecha y hora exacta en que ocurrió el evento.\n",
    "        duration_seconds (int): Duración de la falla en segundos. En caso de ser \"FAILURE_START\",\n",
    "            puede ser 0 si aún no ha finalizado la falla.\n",
    "    \"\"\"\n",
    "\n",
    "    sensor_id: Literal[\"oxy_guard\", \"thermo_core\", \"hidra_flow\", \"radi_shield\"]\n",
    "    event_type: Literal[\"FAILURE_END\", \"FAILURE_START\"]\n",
    "    timestamp: datetime\n",
    "    duration_seconds: int"
   ]
  },
  {
   "cell_type": "markdown",
   "id": "c0161211",
   "metadata": {},
   "source": [
    "2. Extraer los logs: Crea una clase cuya responsabilidad sea extraer y filtrar informacion de un archivo de logs.\n",
    "\n",
    "💡 Recuerda nombrar tus clases con nombres significativos, tal y como lo dice uno de los principios del core de python: \"explicito es mejor que implicito\"."
   ]
  },
  {
   "cell_type": "code",
   "execution_count": 7,
   "id": "57a4caec",
   "metadata": {},
   "outputs": [],
   "source": [
    "import json\n",
    "from datetime import date\n",
    "from os.path import abspath\n",
    "\n",
    "\n",
    "class LogExtractor:\n",
    "    \"\"\"Clase para extraer y filtrar logs desde un archivo JSON.\"\"\"\n",
    "\n",
    "    def __init__(self, file_path: str):\n",
    "        \"\"\"\n",
    "        Inicializa el extractor de logs con la ruta del archivo.\n",
    "\n",
    "        Args:\n",
    "            file_path (str): Ruta del archivo JSON que contiene los logs.\n",
    "        \"\"\"\n",
    "        self.file_abspath = abspath(file_path)\n",
    "\n",
    "    def from_file(self) -> list[\"Log\"]:\n",
    "        \"\"\"\n",
    "        Carga los logs desde el archivo JSON especificado en la inicialización.\n",
    "\n",
    "        Returns:\n",
    "            list[Log]: Lista de instancias de Log extraídas del archivo.\n",
    "        \"\"\"\n",
    "        with open(self.file_abspath) as file:\n",
    "            raw_logs: list[dict] = json.load(file)\n",
    "        logs: list[Log] = [Log(**log) for log in raw_logs]\n",
    "        return logs\n",
    "\n",
    "    @staticmethod\n",
    "    def fetch_logs_on_date(\n",
    "        target_date: date, logs: list[\"Log\"], sensor_id: int | None = None\n",
    "    ) -> list[\"Log\"]:\n",
    "        \"\"\"\n",
    "        Filtra los logs que corresponden a una fecha y, opcionalmente, a un sensor específico.\n",
    "\n",
    "        Args:\n",
    "            target_date (date): Fecha objetivo para filtrar los logs.\n",
    "            logs (list[Log]): Lista de logs disponibles.\n",
    "            sensor_id (Optional[int], optional): ID del sensor para filtrar.\n",
    "                Si es None, se incluyen logs de todos los sensores. Defaults to None.\n",
    "\n",
    "        Returns:\n",
    "            list[Log]: Lista de logs que cumplen con los filtros aplicados.\n",
    "        \"\"\"\n",
    "        logs_on_date: list[Log] = list(\n",
    "            filter(\n",
    "                lambda x: (\n",
    "                    x.timestamp.date() == target_date\n",
    "                    and (sensor_id is None or x.sensor_id == sensor_id)\n",
    "                ),\n",
    "                logs,\n",
    "            )\n",
    "        )\n",
    "        return logs_on_date"
   ]
  },
  {
   "cell_type": "markdown",
   "id": "993b0d3b",
   "metadata": {},
   "source": [
    "3. Analizar las fallas por medio de los logs: Crea una clase que tenga los metodos necesarios para poder analizar las fallas presentadas por los sensores segun lo requerido por Vault-Tec Corporation.\n",
    "\n",
    "💡 Recuerda incorporar las buenas practicas en tu codigo: type annotations y doc-string."
   ]
  },
  {
   "cell_type": "code",
   "execution_count": 8,
   "id": "67acce22",
   "metadata": {},
   "outputs": [],
   "source": [
    "from datetime import date, timedelta\n",
    "\n",
    "\n",
    "class SensorFailureAnalyzer:\n",
    "    \"\"\"Clase para analizar fallos de sensores a partir de registros de eventos.\n",
    "\n",
    "    Esta clase permite calcular la duración de fallos de sensores,\n",
    "    la probabilidad de fallo semanal y la probabilidad condicional\n",
    "    de que un sensor falle dado que otro sensor también falló.\n",
    "    \"\"\"\n",
    "\n",
    "    WEEK_TOTAL_SECONDS: int = 7 * 24 * (60**2)\n",
    "    \"\"\"int: Número total de segundos en una semana.\"\"\"\n",
    "\n",
    "    def __init__(self, logs: list[Log]):\n",
    "        \"\"\"Inicializa el analizador con los registros de logs.\n",
    "\n",
    "        Args:\n",
    "            logs (list[Log]): Lista de objetos `Log` que contienen los eventos de los sensores.\n",
    "        \"\"\"\n",
    "        self.logs = logs\n",
    "\n",
    "    def get_sensor_failure_duration(self, sensor_id: str, searched_date: date) -> float | None:\n",
    "        \"\"\"Obtiene la duración total del fallo de un sensor en una fecha específica.\n",
    "\n",
    "        Busca en los logs los eventos `FAILURE_START` y `FAILURE_END`\n",
    "        del sensor en la fecha indicada y calcula el tiempo total en segundos.\n",
    "\n",
    "        Args:\n",
    "            sensor_id (str): Identificador del sensor a analizar.\n",
    "            searched_date (date): Fecha para la que se quiere obtener la duración del fallo.\n",
    "\n",
    "        Returns:\n",
    "            float | None: Duración del fallo en segundos.\n",
    "            Devuelve `None` si no hay logs del sensor en esa fecha.\n",
    "        \"\"\"\n",
    "        logs_on_date: list[Log] = LogExtractor.fetch_logs_on_date(\n",
    "            sensor_id=sensor_id, target_date=searched_date, logs=self.logs\n",
    "        )\n",
    "\n",
    "        if not logs_on_date:\n",
    "            return None\n",
    "\n",
    "        failure_start_time: float = next(\n",
    "            (log.duration_seconds for log in logs_on_date if log.event_type == \"FAILURE_START\"), 0\n",
    "        )\n",
    "        failure_end_time: float = next(\n",
    "            (log.duration_seconds for log in logs_on_date if log.event_type == \"FAILURE_END\"), 0\n",
    "        )\n",
    "\n",
    "        return abs(failure_end_time - failure_start_time)\n",
    "\n",
    "    def get_weekly_sensor_failure_duration(\n",
    "        self, sensor_id: int, start_date: date, end_date: date | None = None\n",
    "    ) -> list[dict]:\n",
    "        \"\"\"Obtiene la duración diaria de fallos de un sensor durante una semana.\n",
    "\n",
    "        Args:\n",
    "            sensor_id (int): Identificador del sensor.\n",
    "            start_date (date): Fecha de inicio del periodo.\n",
    "            end_date (Optional[date], optional): Fecha final del periodo.\n",
    "                Si no se proporciona, se toma `start_date + 7 días`.\n",
    "\n",
    "        Returns:\n",
    "            list[dict]: Lista de diccionarios con la siguiente información:\n",
    "                - \"sensor_id\" (int): Identificador del sensor.\n",
    "                - \"date\" (str): Fecha en formato ISO (YYYY-MM-DD).\n",
    "                - \"failure_seconds\" (float | None): Duración del fallo en segundos.\n",
    "        \"\"\"\n",
    "        end_date = start_date + timedelta(7) if end_date is None else end_date\n",
    "        searched_week: list[date] = [\n",
    "            (start_date + timedelta(days=i)) for i in range((end_date - start_date).days)\n",
    "        ]\n",
    "        return [\n",
    "            {\n",
    "                \"sensor_id\": sensor_id,\n",
    "                \"date\": str(date),\n",
    "                \"failure_seconds\": self.get_sensor_failure_duration(\n",
    "                    sensor_id=sensor_id, searched_date=date\n",
    "                ),\n",
    "            }\n",
    "            for date in searched_week\n",
    "        ]\n",
    "\n",
    "    def get_weekly_sensor_failure_probability(self, sensor_id: int, start_date: date) -> list[dict]:\n",
    "        \"\"\"Calcula la probabilidad diaria de fallo de un sensor durante una semana.\n",
    "\n",
    "        La probabilidad se calcula como la proporción del tiempo en fallo\n",
    "        respecto al total de segundos en una semana.\n",
    "\n",
    "        Args:\n",
    "            sensor_id (int): Identificador del sensor.\n",
    "            start_date (date): Fecha de inicio del periodo.\n",
    "\n",
    "        Returns:\n",
    "            list[dict]: Lista de diccionarios con la siguiente información:\n",
    "                - \"sensor_id\" (int): Identificador del sensor.\n",
    "                - \"date\" (str): Fecha en formato ISO (YYYY-MM-DD).\n",
    "                - \"failure_probability\" (str): Probabilidad del fallo (0 a 1) con 4 decimales.\n",
    "        \"\"\"\n",
    "        weekly_sensor_failure_duration = self.get_weekly_sensor_failure_duration(\n",
    "            sensor_id, start_date\n",
    "        )\n",
    "        return [\n",
    "            {\n",
    "                \"sensor_id\": sensor_id,\n",
    "                \"date\": x[\"date\"],\n",
    "                \"failure_probability\": f\"{x['failure_seconds'] / self.WEEK_TOTAL_SECONDS:.4f}\",\n",
    "            }\n",
    "            for x in weekly_sensor_failure_duration\n",
    "        ]\n",
    "\n",
    "    def get_conditional_failure_probability(\n",
    "        self,\n",
    "        sensor_a_id: int,\n",
    "        sensor_b_id: int,\n",
    "        start_date: date,\n",
    "        failure_minutes_threshold: float | None = 3,\n",
    "    ) -> float:\n",
    "        \"\"\"Calcula la probabilidad condicional de que un sensor falle dado que otro sensor falló.\n",
    "\n",
    "        Se considera que un sensor falló en un día si su duración de fallo\n",
    "        es mayor o igual a un umbral en minutos.\n",
    "\n",
    "        Fórmula:\n",
    "            P(A|B) = (Número de días donde A y B fallaron) / (Número de días donde B falló)\n",
    "\n",
    "        Args:\n",
    "            sensor_a_id (int): Identificador del sensor A (sensor condicionado).\n",
    "            sensor_b_id (int): Identificador del sensor B (sensor condicionante).\n",
    "            start_date (date): Fecha de inicio del periodo.\n",
    "            failure_minutes_threshold (Optional[float], optional): Umbral de fallo en minutos.\n",
    "                Defaults a 3 minutos.\n",
    "\n",
    "        Returns:\n",
    "            float: Probabilidad condicional P(A|B) como un valor entre 0 y 1.\n",
    "            Devuelve 0 si B nunca falló en el periodo.\n",
    "        \"\"\"\n",
    "        failure_seconds_threshold = failure_minutes_threshold * 60\n",
    "\n",
    "        sensor_b_weekly_failures = self.get_weekly_sensor_failure_duration(sensor_b_id, start_date)\n",
    "        count_sensor_b_failures = sum(\n",
    "            1\n",
    "            for x in sensor_b_weekly_failures\n",
    "            if x[\"failure_seconds\"] and x[\"failure_seconds\"] >= failure_seconds_threshold\n",
    "        )\n",
    "\n",
    "        if count_sensor_b_failures == 0:\n",
    "            return 0.0\n",
    "\n",
    "        sensor_a_weekly_failures = self.get_weekly_sensor_failure_duration(sensor_a_id, start_date)\n",
    "        count_sensor_a_b_failures = sum(\n",
    "            1\n",
    "            for x, y in zip(sensor_a_weekly_failures, sensor_b_weekly_failures, strict=False)\n",
    "            if x[\"failure_seconds\"]\n",
    "            and y[\"failure_seconds\"]\n",
    "            and x[\"failure_seconds\"] >= failure_seconds_threshold\n",
    "            and y[\"failure_seconds\"] >= failure_seconds_threshold\n",
    "        )\n",
    "\n",
    "        return count_sensor_a_b_failures / count_sensor_b_failures"
   ]
  },
  {
   "cell_type": "code",
   "execution_count": 21,
   "id": "fdc07923",
   "metadata": {},
   "outputs": [
    {
     "ename": "FileNotFoundError",
     "evalue": "[Errno 2] No such file or directory: '/Users/spuertaf/Desktop/Repos/HenryLectures/LoopsYFunciones/homework/data/logs.kl'",
     "output_type": "error",
     "traceback": [
      "\u001b[31m---------------------------------------------------------------------------\u001b[39m",
      "\u001b[31mFileNotFoundError\u001b[39m                         Traceback (most recent call last)",
      "\u001b[36mCell\u001b[39m\u001b[36m \u001b[39m\u001b[32mIn[21]\u001b[39m\u001b[32m, line 8\u001b[39m\n\u001b[32m      3\u001b[39m searched_date = datetime.strptime(\u001b[33m\"\u001b[39m\u001b[33m2025-08-01\u001b[39m\u001b[33m\"\u001b[39m, \u001b[33m\"\u001b[39m\u001b[33m%\u001b[39m\u001b[33mY-\u001b[39m\u001b[33m%\u001b[39m\u001b[33mm-\u001b[39m\u001b[38;5;132;01m%d\u001b[39;00m\u001b[33m\"\u001b[39m).date()\n\u001b[32m      5\u001b[39m extraction = LogExtractor(\n\u001b[32m      6\u001b[39m     \u001b[33mr\u001b[39m\u001b[33m\"\u001b[39m\u001b[33m/Users/spuertaf/Desktop/Repos/HenryLectures/LoopsYFunciones/homework/data/logs.kl\u001b[39m\u001b[33m\"\u001b[39m\n\u001b[32m      7\u001b[39m )\n\u001b[32m----> \u001b[39m\u001b[32m8\u001b[39m analyzer = SensorFailureAnalyzer(logs=\u001b[43mextraction\u001b[49m\u001b[43m.\u001b[49m\u001b[43mfrom_file\u001b[49m\u001b[43m(\u001b[49m\u001b[43m)\u001b[49m)\n",
      "\u001b[36mCell\u001b[39m\u001b[36m \u001b[39m\u001b[32mIn[7]\u001b[39m\u001b[32m, line 25\u001b[39m, in \u001b[36mLogExtractor.from_file\u001b[39m\u001b[34m(self)\u001b[39m\n\u001b[32m     18\u001b[39m \u001b[38;5;28;01mdef\u001b[39;00m\u001b[38;5;250m \u001b[39m\u001b[34mfrom_file\u001b[39m(\u001b[38;5;28mself\u001b[39m) -> \u001b[38;5;28mlist\u001b[39m[\u001b[33m\"\u001b[39m\u001b[33mLog\u001b[39m\u001b[33m\"\u001b[39m]:\n\u001b[32m     19\u001b[39m \u001b[38;5;250m    \u001b[39m\u001b[33;03m\"\"\"\u001b[39;00m\n\u001b[32m     20\u001b[39m \u001b[33;03m    Carga los logs desde el archivo JSON especificado en la inicialización.\u001b[39;00m\n\u001b[32m     21\u001b[39m \n\u001b[32m     22\u001b[39m \u001b[33;03m    Returns:\u001b[39;00m\n\u001b[32m     23\u001b[39m \u001b[33;03m        list[Log]: Lista de instancias de Log extraídas del archivo.\u001b[39;00m\n\u001b[32m     24\u001b[39m \u001b[33;03m    \"\"\"\u001b[39;00m\n\u001b[32m---> \u001b[39m\u001b[32m25\u001b[39m     \u001b[38;5;28;01mwith\u001b[39;00m \u001b[38;5;28;43mopen\u001b[39;49m\u001b[43m(\u001b[49m\u001b[38;5;28;43mself\u001b[39;49m\u001b[43m.\u001b[49m\u001b[43mfile_abspath\u001b[49m\u001b[43m)\u001b[49m \u001b[38;5;28;01mas\u001b[39;00m file:\n\u001b[32m     26\u001b[39m         raw_logs: \u001b[38;5;28mlist\u001b[39m[\u001b[38;5;28mdict\u001b[39m] = json.load(file)\n\u001b[32m     27\u001b[39m     logs: \u001b[38;5;28mlist\u001b[39m[Log] = [Log(**log) \u001b[38;5;28;01mfor\u001b[39;00m log \u001b[38;5;129;01min\u001b[39;00m raw_logs]\n",
      "\u001b[36mFile \u001b[39m\u001b[32m~/Desktop/Repos/HenryLectures/.venv/lib/python3.11/site-packages/IPython/core/interactiveshell.py:343\u001b[39m, in \u001b[36m_modified_open\u001b[39m\u001b[34m(file, *args, **kwargs)\u001b[39m\n\u001b[32m    336\u001b[39m \u001b[38;5;28;01mif\u001b[39;00m file \u001b[38;5;129;01min\u001b[39;00m {\u001b[32m0\u001b[39m, \u001b[32m1\u001b[39m, \u001b[32m2\u001b[39m}:\n\u001b[32m    337\u001b[39m     \u001b[38;5;28;01mraise\u001b[39;00m \u001b[38;5;167;01mValueError\u001b[39;00m(\n\u001b[32m    338\u001b[39m         \u001b[33mf\u001b[39m\u001b[33m\"\u001b[39m\u001b[33mIPython won\u001b[39m\u001b[33m'\u001b[39m\u001b[33mt let you open fd=\u001b[39m\u001b[38;5;132;01m{\u001b[39;00mfile\u001b[38;5;132;01m}\u001b[39;00m\u001b[33m by default \u001b[39m\u001b[33m\"\u001b[39m\n\u001b[32m    339\u001b[39m         \u001b[33m\"\u001b[39m\u001b[33mas it is likely to crash IPython. If you know what you are doing, \u001b[39m\u001b[33m\"\u001b[39m\n\u001b[32m    340\u001b[39m         \u001b[33m\"\u001b[39m\u001b[33myou can use builtins\u001b[39m\u001b[33m'\u001b[39m\u001b[33m open.\u001b[39m\u001b[33m\"\u001b[39m\n\u001b[32m    341\u001b[39m     )\n\u001b[32m--> \u001b[39m\u001b[32m343\u001b[39m \u001b[38;5;28;01mreturn\u001b[39;00m \u001b[43mio_open\u001b[49m\u001b[43m(\u001b[49m\u001b[43mfile\u001b[49m\u001b[43m,\u001b[49m\u001b[43m \u001b[49m\u001b[43m*\u001b[49m\u001b[43margs\u001b[49m\u001b[43m,\u001b[49m\u001b[43m \u001b[49m\u001b[43m*\u001b[49m\u001b[43m*\u001b[49m\u001b[43mkwargs\u001b[49m\u001b[43m)\u001b[49m\n",
      "\u001b[31mFileNotFoundError\u001b[39m: [Errno 2] No such file or directory: '/Users/spuertaf/Desktop/Repos/HenryLectures/LoopsYFunciones/homework/data/logs.kl'"
     ]
    }
   ],
   "source": [
    "from datetime import datetime\n",
    "\n",
    "searched_date = datetime.strptime(\"2025-08-01\", \"%Y-%m-%d\").date()\n",
    "\n",
    "extraction = LogExtractor(\n",
    "    r\"/Users/spuertaf/Desktop/Repos/HenryLectures/LoopsYFunciones/homework/data/logs.kl\"\n",
    ")\n",
    "analyzer = SensorFailureAnalyzer(logs=extraction.from_file())"
   ]
  },
  {
   "cell_type": "code",
   "execution_count": 20,
   "id": "cc995e98",
   "metadata": {},
   "outputs": [
    {
     "data": {
      "text/plain": [
       "[{'sensor_id': 'blablu', 'date': '2025-08-01', 'failure_seconds': None},\n",
       " {'sensor_id': 'blablu', 'date': '2025-08-02', 'failure_seconds': None},\n",
       " {'sensor_id': 'blablu', 'date': '2025-08-03', 'failure_seconds': None},\n",
       " {'sensor_id': 'blablu', 'date': '2025-08-04', 'failure_seconds': None},\n",
       " {'sensor_id': 'blablu', 'date': '2025-08-05', 'failure_seconds': None},\n",
       " {'sensor_id': 'blablu', 'date': '2025-08-06', 'failure_seconds': None},\n",
       " {'sensor_id': 'blablu', 'date': '2025-08-07', 'failure_seconds': None}]"
      ]
     },
     "execution_count": 20,
     "metadata": {},
     "output_type": "execute_result"
    }
   ],
   "source": [
    "analyzer.get_weekly_sensor_failure_duration(sensor_id=\"blablu\", start_date=searched_date)"
   ]
  },
  {
   "cell_type": "code",
   "execution_count": 19,
   "id": "2083f36d",
   "metadata": {},
   "outputs": [
    {
     "ename": "TypeError",
     "evalue": "unsupported operand type(s) for /: 'NoneType' and 'int'",
     "output_type": "error",
     "traceback": [
      "\u001b[31m---------------------------------------------------------------------------\u001b[39m",
      "\u001b[31mTypeError\u001b[39m                                 Traceback (most recent call last)",
      "\u001b[36mCell\u001b[39m\u001b[36m \u001b[39m\u001b[32mIn[19]\u001b[39m\u001b[32m, line 1\u001b[39m\n\u001b[32m----> \u001b[39m\u001b[32m1\u001b[39m \u001b[43manalyzer\u001b[49m\u001b[43m.\u001b[49m\u001b[43mget_weekly_sensor_failure_probability\u001b[49m\u001b[43m(\u001b[49m\u001b[43msensor_id\u001b[49m\u001b[43m=\u001b[49m\u001b[33;43m\"\u001b[39;49m\u001b[33;43mblabu\u001b[39;49m\u001b[33;43m\"\u001b[39;49m\u001b[43m,\u001b[49m\u001b[43m \u001b[49m\u001b[43mstart_date\u001b[49m\u001b[43m=\u001b[49m\u001b[43msearched_date\u001b[49m\u001b[43m)\u001b[49m\n",
      "\u001b[36mCell\u001b[39m\u001b[36m \u001b[39m\u001b[32mIn[8]\u001b[39m\u001b[32m, line 104\u001b[39m, in \u001b[36mSensorFailureAnalyzer.get_weekly_sensor_failure_probability\u001b[39m\u001b[34m(self, sensor_id, start_date)\u001b[39m\n\u001b[32m     86\u001b[39m \u001b[38;5;250m\u001b[39m\u001b[33;03m\"\"\"Calcula la probabilidad diaria de fallo de un sensor durante una semana.\u001b[39;00m\n\u001b[32m     87\u001b[39m \n\u001b[32m     88\u001b[39m \u001b[33;03mLa probabilidad se calcula como la proporción del tiempo en fallo\u001b[39;00m\n\u001b[32m   (...)\u001b[39m\u001b[32m     99\u001b[39m \u001b[33;03m        - \"failure_probability\" (str): Probabilidad del fallo (0 a 1) con 4 decimales.\u001b[39;00m\n\u001b[32m    100\u001b[39m \u001b[33;03m\"\"\"\u001b[39;00m\n\u001b[32m    101\u001b[39m weekly_sensor_failure_duration = \u001b[38;5;28mself\u001b[39m.get_weekly_sensor_failure_duration(\n\u001b[32m    102\u001b[39m     sensor_id, start_date\n\u001b[32m    103\u001b[39m )\n\u001b[32m--> \u001b[39m\u001b[32m104\u001b[39m \u001b[38;5;28;01mreturn\u001b[39;00m \u001b[43m[\u001b[49m\n\u001b[32m    105\u001b[39m \u001b[43m    \u001b[49m\u001b[43m{\u001b[49m\n\u001b[32m    106\u001b[39m \u001b[43m        \u001b[49m\u001b[33;43m\"\u001b[39;49m\u001b[33;43msensor_id\u001b[39;49m\u001b[33;43m\"\u001b[39;49m\u001b[43m:\u001b[49m\u001b[43m \u001b[49m\u001b[43msensor_id\u001b[49m\u001b[43m,\u001b[49m\n\u001b[32m    107\u001b[39m \u001b[43m        \u001b[49m\u001b[33;43m\"\u001b[39;49m\u001b[33;43mdate\u001b[39;49m\u001b[33;43m\"\u001b[39;49m\u001b[43m:\u001b[49m\u001b[43m \u001b[49m\u001b[43mx\u001b[49m\u001b[43m[\u001b[49m\u001b[33;43m\"\u001b[39;49m\u001b[33;43mdate\u001b[39;49m\u001b[33;43m\"\u001b[39;49m\u001b[43m]\u001b[49m\u001b[43m,\u001b[49m\n\u001b[32m    108\u001b[39m \u001b[43m        \u001b[49m\u001b[33;43m\"\u001b[39;49m\u001b[33;43mfailure_probability\u001b[39;49m\u001b[33;43m\"\u001b[39;49m\u001b[43m:\u001b[49m\u001b[43m \u001b[49m\u001b[33;43mf\u001b[39;49m\u001b[33;43m\"\u001b[39;49m\u001b[38;5;132;43;01m{\u001b[39;49;00m\u001b[43mx\u001b[49m\u001b[43m[\u001b[49m\u001b[33;43m'\u001b[39;49m\u001b[33;43mfailure_seconds\u001b[39;49m\u001b[33;43m'\u001b[39;49m\u001b[43m]\u001b[49m\u001b[38;5;250;43m \u001b[39;49m\u001b[43m/\u001b[49m\u001b[38;5;250;43m \u001b[39;49m\u001b[38;5;28;43mself\u001b[39;49m\u001b[43m.\u001b[49m\u001b[43mWEEK_TOTAL_SECONDS\u001b[49m\u001b[38;5;132;43;01m:\u001b[39;49;00m\u001b[33;43m.4f\u001b[39;49m\u001b[38;5;132;43;01m}\u001b[39;49;00m\u001b[33;43m\"\u001b[39;49m\u001b[43m,\u001b[49m\n\u001b[32m    109\u001b[39m \u001b[43m    \u001b[49m\u001b[43m}\u001b[49m\n\u001b[32m    110\u001b[39m \u001b[43m    \u001b[49m\u001b[38;5;28;43;01mfor\u001b[39;49;00m\u001b[43m \u001b[49m\u001b[43mx\u001b[49m\u001b[43m \u001b[49m\u001b[38;5;129;43;01min\u001b[39;49;00m\u001b[43m \u001b[49m\u001b[43mweekly_sensor_failure_duration\u001b[49m\n\u001b[32m    111\u001b[39m \u001b[43m\u001b[49m\u001b[43m]\u001b[49m\n",
      "\u001b[36mCell\u001b[39m\u001b[36m \u001b[39m\u001b[32mIn[8]\u001b[39m\u001b[32m, line 108\u001b[39m, in \u001b[36m<listcomp>\u001b[39m\u001b[34m(.0)\u001b[39m\n\u001b[32m     86\u001b[39m \u001b[38;5;250m\u001b[39m\u001b[33;03m\"\"\"Calcula la probabilidad diaria de fallo de un sensor durante una semana.\u001b[39;00m\n\u001b[32m     87\u001b[39m \n\u001b[32m     88\u001b[39m \u001b[33;03mLa probabilidad se calcula como la proporción del tiempo en fallo\u001b[39;00m\n\u001b[32m   (...)\u001b[39m\u001b[32m     99\u001b[39m \u001b[33;03m        - \"failure_probability\" (str): Probabilidad del fallo (0 a 1) con 4 decimales.\u001b[39;00m\n\u001b[32m    100\u001b[39m \u001b[33;03m\"\"\"\u001b[39;00m\n\u001b[32m    101\u001b[39m weekly_sensor_failure_duration = \u001b[38;5;28mself\u001b[39m.get_weekly_sensor_failure_duration(\n\u001b[32m    102\u001b[39m     sensor_id, start_date\n\u001b[32m    103\u001b[39m )\n\u001b[32m    104\u001b[39m \u001b[38;5;28;01mreturn\u001b[39;00m [\n\u001b[32m    105\u001b[39m     {\n\u001b[32m    106\u001b[39m         \u001b[33m\"\u001b[39m\u001b[33msensor_id\u001b[39m\u001b[33m\"\u001b[39m: sensor_id,\n\u001b[32m    107\u001b[39m         \u001b[33m\"\u001b[39m\u001b[33mdate\u001b[39m\u001b[33m\"\u001b[39m: x[\u001b[33m\"\u001b[39m\u001b[33mdate\u001b[39m\u001b[33m\"\u001b[39m],\n\u001b[32m--> \u001b[39m\u001b[32m108\u001b[39m         \u001b[33m\"\u001b[39m\u001b[33mfailure_probability\u001b[39m\u001b[33m\"\u001b[39m: \u001b[33mf\u001b[39m\u001b[33m\"\u001b[39m\u001b[38;5;132;01m{\u001b[39;00m\u001b[43mx\u001b[49m\u001b[43m[\u001b[49m\u001b[33;43m'\u001b[39;49m\u001b[33;43mfailure_seconds\u001b[39;49m\u001b[33;43m'\u001b[39;49m\u001b[43m]\u001b[49m\u001b[38;5;250;43m \u001b[39;49m\u001b[43m/\u001b[49m\u001b[38;5;250;43m \u001b[39;49m\u001b[38;5;28;43mself\u001b[39;49m\u001b[43m.\u001b[49m\u001b[43mWEEK_TOTAL_SECONDS\u001b[49m\u001b[38;5;132;01m:\u001b[39;00m\u001b[33m.4f\u001b[39m\u001b[38;5;132;01m}\u001b[39;00m\u001b[33m\"\u001b[39m,\n\u001b[32m    109\u001b[39m     }\n\u001b[32m    110\u001b[39m     \u001b[38;5;28;01mfor\u001b[39;00m x \u001b[38;5;129;01min\u001b[39;00m weekly_sensor_failure_duration\n\u001b[32m    111\u001b[39m ]\n",
      "\u001b[31mTypeError\u001b[39m: unsupported operand type(s) for /: 'NoneType' and 'int'"
     ]
    }
   ],
   "source": [
    "analyzer.get_weekly_sensor_failure_probability(sensor_id=\"blabu\", start_date=searched_date)"
   ]
  },
  {
   "cell_type": "code",
   "execution_count": 18,
   "id": "8bb26a4c",
   "metadata": {},
   "outputs": [
    {
     "data": {
      "text/plain": [
       "[{'sensor_id': 'radi_shield',\n",
       "  'date': '2025-08-01',\n",
       "  'failure_probability': '0.0010'},\n",
       " {'sensor_id': 'radi_shield',\n",
       "  'date': '2025-08-02',\n",
       "  'failure_probability': '0.0005'},\n",
       " {'sensor_id': 'radi_shield',\n",
       "  'date': '2025-08-03',\n",
       "  'failure_probability': '0.0003'},\n",
       " {'sensor_id': 'radi_shield',\n",
       "  'date': '2025-08-04',\n",
       "  'failure_probability': '0.0006'},\n",
       " {'sensor_id': 'radi_shield',\n",
       "  'date': '2025-08-05',\n",
       "  'failure_probability': '0.0006'},\n",
       " {'sensor_id': 'radi_shield',\n",
       "  'date': '2025-08-06',\n",
       "  'failure_probability': '0.0004'},\n",
       " {'sensor_id': 'radi_shield',\n",
       "  'date': '2025-08-07',\n",
       "  'failure_probability': '0.0002'}]"
      ]
     },
     "execution_count": 18,
     "metadata": {},
     "output_type": "execute_result"
    }
   ],
   "source": [
    "analyzer.get_weekly_sensor_failure_probability(sensor_id=\"radi_shield\", start_date=searched_date)"
   ]
  },
  {
   "cell_type": "code",
   "execution_count": 12,
   "id": "48431ad2",
   "metadata": {},
   "outputs": [
    {
     "data": {
      "text/plain": [
       "0.5"
      ]
     },
     "execution_count": 12,
     "metadata": {},
     "output_type": "execute_result"
    }
   ],
   "source": [
    "analyzer.get_conditional_failure_probability(\n",
    "    \"thermo_core\", \"oxy_guard\", searched_date, failure_minutes_threshold=5\n",
    ")"
   ]
  },
  {
   "cell_type": "code",
   "execution_count": 13,
   "id": "85bf74af",
   "metadata": {},
   "outputs": [
    {
     "data": {
      "text/plain": [
       "0.0"
      ]
     },
     "execution_count": 13,
     "metadata": {},
     "output_type": "execute_result"
    }
   ],
   "source": [
    "analyzer.get_conditional_failure_probability(\n",
    "    \"blau\", \"blublu\", searched_date, failure_minutes_threshold=5\n",
    ")"
   ]
  },
  {
   "cell_type": "code",
   "execution_count": 14,
   "id": "6039d73f",
   "metadata": {},
   "outputs": [
    {
     "data": {
      "text/plain": [
       "[{'sensor_id': 'blalu', 'date': '2025-08-01', 'failure_seconds': None},\n",
       " {'sensor_id': 'blalu', 'date': '2025-08-02', 'failure_seconds': None},\n",
       " {'sensor_id': 'blalu', 'date': '2025-08-03', 'failure_seconds': None},\n",
       " {'sensor_id': 'blalu', 'date': '2025-08-04', 'failure_seconds': None},\n",
       " {'sensor_id': 'blalu', 'date': '2025-08-05', 'failure_seconds': None},\n",
       " {'sensor_id': 'blalu', 'date': '2025-08-06', 'failure_seconds': None},\n",
       " {'sensor_id': 'blalu', 'date': '2025-08-07', 'failure_seconds': None}]"
      ]
     },
     "execution_count": 14,
     "metadata": {},
     "output_type": "execute_result"
    }
   ],
   "source": [
    "analyzer.get_weekly_sensor_failure_duration(sensor_id=\"blalu\", start_date=searched_date)"
   ]
  },
  {
   "cell_type": "code",
   "execution_count": null,
   "id": "efd94bbc",
   "metadata": {},
   "outputs": [],
   "source": []
  }
 ],
 "metadata": {
  "kernelspec": {
   "display_name": "HenryLectures",
   "language": "python",
   "name": "python3"
  },
  "language_info": {
   "codemirror_mode": {
    "name": "ipython",
    "version": 3
   },
   "file_extension": ".py",
   "mimetype": "text/x-python",
   "name": "python",
   "nbconvert_exporter": "python",
   "pygments_lexer": "ipython3",
   "version": "3.11.13"
  }
 },
 "nbformat": 4,
 "nbformat_minor": 5
}
