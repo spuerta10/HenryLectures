{
 "cells": [
  {
   "cell_type": "markdown",
   "metadata": {},
   "source": [
    "# Proposito\n",
    "En este notebook estan los pasos a tomar para la etapa de **validacion** del proceso de **Data Wrangling**. Este proceso recibe como entrada las conclusiones obtenidas en la etapa anterior: **limpieza**.\n",
    "\n",
    "Para este ejemplo, recibiremos como insumo el archivo CSV generado en el paso anterior llamado `cleaned_data.csv`.\n",
    "\n",
    "Finalmente, no olvidemos la necesidad del negocio. Necesitamos dar respuesta a la pregunta ¿Que grupo etario trae mas mal riesgo al banco?\n",
    "\n",
    "# Objetivos\n",
    "Al finalizar este notebook deberemos de haber:\n",
    "\n",
    "✅ Verificado la validez de los datos.\n",
    "\n",
    "✅ Verificado la veracidad de los datos.\n",
    "\n",
    "✅ Verificado la precision de los datos."
   ]
  },
  {
   "cell_type": "code",
   "execution_count": 2,
   "metadata": {},
   "outputs": [],
   "source": [
    "import pandas as pd\n",
    "from pandas import DataFrame\n",
    "import numpy as np"
   ]
  },
  {
   "cell_type": "code",
   "execution_count": 3,
   "metadata": {},
   "outputs": [
    {
     "name": "stdout",
     "output_type": "stream",
     "text": [
      "<class 'pandas.core.frame.DataFrame'>\n",
      "RangeIndex: 4818 entries, 0 to 4817\n",
      "Data columns (total 15 columns):\n",
      " #   Column            Non-Null Count  Dtype \n",
      "---  ------            --------------  ----- \n",
      " 0   Unnamed: 0.2      4818 non-null   Int64 \n",
      " 1   Unnamed: 0.1      4818 non-null   Int64 \n",
      " 2   Duration          4671 non-null   Int64 \n",
      " 3   Checking account  2720 non-null   string\n",
      " 4   Credit amount     4548 non-null   Int64 \n",
      " 5   Purpose           4658 non-null   string\n",
      " 6   Job               4607 non-null   string\n",
      " 7   Sex               4589 non-null   string\n",
      " 8   data_source       4816 non-null   string\n",
      " 9   Saving accounts   3763 non-null   string\n",
      " 10  Housing           4594 non-null   string\n",
      " 11  Risk              4687 non-null   string\n",
      " 12  Age               4677 non-null   Int64 \n",
      " 13  value             4816 non-null   string\n",
      " 14  Unnamed: 0        4657 non-null   Int64 \n",
      "dtypes: Int64(6), string(9)\n",
      "memory usage: 593.0 KB\n"
     ]
    }
   ],
   "source": [
    "schema = {\n",
    "    \"Unnamed: 0.1\": \"Int64\",\n",
    "    \"Unnamed: 0\": \"Int64\",\n",
    "    \"Duration\": \"Int64\",\n",
    "    \"Checking account\": \"string\",\n",
    "    \"Credit amount\": \"Int64\",\n",
    "    \"Purpose\": \"string\",\n",
    "    \"Job\": \"string\",\n",
    "    \"Sex\": \"string\",\n",
    "    \"data_source\": \"string\",\n",
    "    \"Saving accounts\": \"string\",\n",
    "    \"Housing\": \"string\",\n",
    "    \"Risk\": \"string\",\n",
    "    \"Age\": \"Int64\",\n",
    "    \"value\": \"string\"\n",
    "}  # el esquema que hallamos en el proceso anterior\n",
    "\n",
    "df = pd.read_csv(r\"../data/cleaned_data.csv\", dtype=schema)\n",
    "df.info()"
   ]
  },
  {
   "cell_type": "markdown",
   "metadata": {},
   "source": [
    "# Verificando la validez\n",
    "La validez se refiere a ¿Qué tan bien representan mis datos lo que estoy tratando de medir? Para este caso la pregunta de negocio que estoy tratando de contestar.\n",
    "\n",
    "Dado que es una pregunta simple la cual solo involucra dos variables, concentremonos en aquellas que responden dicha pregunta, los demas datos son ruido y dificultan el analisis para dar respuesta a la pregunta de negocio."
   ]
  },
  {
   "cell_type": "code",
   "execution_count": 4,
   "metadata": {},
   "outputs": [],
   "source": [
    "df: DataFrame = df[[\"Risk\", \"Age\"]]"
   ]
  },
  {
   "cell_type": "markdown",
   "metadata": {},
   "source": [
    "Una cosa a tener en cuenta para medir la validez de los datos, es verificar que la muestra sea significativa, en otras palabras, que tengamos suficientes datos representando los posibles casos. \n",
    "\n",
    "Por ejemplo, para la edad lo ideal seria que hubiesen una cantidad de datos parecida por cada uno de los grupos etarios, sin embargo, es complejo de que esto pase en la realidad."
   ]
  },
  {
   "cell_type": "code",
   "execution_count": 6,
   "metadata": {},
   "outputs": [
    {
     "data": {
      "text/plain": [
       "<Axes: ylabel='Frequency'>"
      ]
     },
     "execution_count": 6,
     "metadata": {},
     "output_type": "execute_result"
    },
    {
     "data": {
      "image/png": "[encoded data removed]",
      "text/plain": [
       "<Figure size 640x480 with 1 Axes>"
      ]
     },
     "metadata": {},
     "output_type": "display_data"
    }
   ],
   "source": [
    "df[\"Age\"].plot(kind=\"hist\")"
   ]
  },
  {
   "cell_type": "markdown",
   "metadata": {},
   "source": [
    "Como se puede observar quienes mas solicitan creditos son personas de los 30 a los 40 años de edad, asi pues, es normal que este mismo grupo etario sea quien traiga los peores riesgos por el solo hecho de que hay mas muestras para este grupo. \n",
    "\n",
    "En este conjunto de datos contamos con una **validez sub optima** para dar respuesta al negocio, ya que los datos se encuentran altamente sesgados."
   ]
  },
  {
   "cell_type": "markdown",
   "metadata": {},
   "source": [
    "# Verificando la veracidad\n",
    "La veracidad se puede definir como ¿Qué tan reales o confiables son mis datos? \n",
    "\n",
    "Algunos factores que afectan la veracidad de mis datos son:\n",
    "\n",
    "✅ Registros duplicados o inconsistentes.\n",
    "\n",
    "✅ Datos faltantes y errores en el formato.\n",
    "\n",
    "✅ Valores extremos o sospechosos.\n",
    "\n",
    "Verifiquemos cada uno de estos."
   ]
  },
  {
   "cell_type": "code",
   "execution_count": 10,
   "metadata": {},
   "outputs": [
    {
     "data": {
      "text/html": [
       "<div>\n",
       "<style scoped>\n",
       "    .dataframe tbody tr th:only-of-type {\n",
       "        vertical-align: middle;\n",
       "    }\n",
       "\n",
       "    .dataframe tbody tr th {\n",
       "        vertical-align: top;\n",
       "    }\n",
       "\n",
       "    .dataframe thead th {\n",
       "        text-align: right;\n",
       "    }\n",
       "</style>\n",
       "<table border=\"1\" class=\"dataframe\">\n",
       "  <thead>\n",
       "    <tr style=\"text-align: right;\">\n",
       "      <th></th>\n",
       "      <th>Risk</th>\n",
       "      <th>Age</th>\n",
       "    </tr>\n",
       "  </thead>\n",
       "  <tbody>\n",
       "    <tr>\n",
       "      <th>13</th>\n",
       "      <td>good</td>\n",
       "      <td>25</td>\n",
       "    </tr>\n",
       "    <tr>\n",
       "      <th>15</th>\n",
       "      <td>good</td>\n",
       "      <td>43</td>\n",
       "    </tr>\n",
       "    <tr>\n",
       "      <th>20</th>\n",
       "      <td>good</td>\n",
       "      <td>61</td>\n",
       "    </tr>\n",
       "    <tr>\n",
       "      <th>23</th>\n",
       "      <td>bad</td>\n",
       "      <td>28</td>\n",
       "    </tr>\n",
       "    <tr>\n",
       "      <th>28</th>\n",
       "      <td>good</td>\n",
       "      <td>37</td>\n",
       "    </tr>\n",
       "    <tr>\n",
       "      <th>...</th>\n",
       "      <td>...</td>\n",
       "      <td>...</td>\n",
       "    </tr>\n",
       "    <tr>\n",
       "      <th>4813</th>\n",
       "      <td>good</td>\n",
       "      <td>51</td>\n",
       "    </tr>\n",
       "    <tr>\n",
       "      <th>4814</th>\n",
       "      <td>good</td>\n",
       "      <td>44</td>\n",
       "    </tr>\n",
       "    <tr>\n",
       "      <th>4815</th>\n",
       "      <td>good</td>\n",
       "      <td>30</td>\n",
       "    </tr>\n",
       "    <tr>\n",
       "      <th>4816</th>\n",
       "      <td>good</td>\n",
       "      <td>23</td>\n",
       "    </tr>\n",
       "    <tr>\n",
       "      <th>4817</th>\n",
       "      <td>good</td>\n",
       "      <td>26</td>\n",
       "    </tr>\n",
       "  </tbody>\n",
       "</table>\n",
       "<p>4689 rows × 2 columns</p>\n",
       "</div>"
      ],
      "text/plain": [
       "      Risk  Age\n",
       "13    good   25\n",
       "15    good   43\n",
       "20    good   61\n",
       "23     bad   28\n",
       "28    good   37\n",
       "...    ...  ...\n",
       "4813  good   51\n",
       "4814  good   44\n",
       "4815  good   30\n",
       "4816  good   23\n",
       "4817  good   26\n",
       "\n",
       "[4689 rows x 2 columns]"
      ]
     },
     "execution_count": 10,
     "metadata": {},
     "output_type": "execute_result"
    }
   ],
   "source": [
    "df[df.duplicated()]  # hallar las filas donde hay duplicados"
   ]
  },
  {
   "cell_type": "markdown",
   "metadata": {},
   "source": [
    "Es normal la presencia de duplicados ya que solo estamos observando dos columnas."
   ]
  },
  {
   "cell_type": "code",
   "execution_count": null,
   "metadata": {},
   "outputs": [
    {
     "data": {
      "text/plain": [
       "Risk    2.718971\n",
       "Age     2.926526\n",
       "dtype: float64"
      ]
     },
     "execution_count": 13,
     "metadata": {},
     "output_type": "execute_result"
    }
   ],
   "source": [
    "df.isnull().sum() / len(df) * 100  # hallar % de valores nulos x columna"
   ]
  },
  {
   "cell_type": "markdown",
   "metadata": {},
   "source": [
    "Muy pocos valores nulos dentro de nuestros datos, no deberian de significar ningun problema. \n",
    "\n",
    "Ya que son tan pocos podemos eliminar todas las filas que contengan nulos."
   ]
  },
  {
   "cell_type": "code",
   "execution_count": 14,
   "metadata": {},
   "outputs": [],
   "source": [
    "df: DataFrame = df.dropna()"
   ]
  },
  {
   "cell_type": "markdown",
   "metadata": {},
   "source": [
    "Finalmente, veamos que valores minimos y maximos hay para la edad."
   ]
  },
  {
   "cell_type": "code",
   "execution_count": 20,
   "metadata": {},
   "outputs": [
    {
     "data": {
      "text/html": [
       "<div>\n",
       "<style scoped>\n",
       "    .dataframe tbody tr th:only-of-type {\n",
       "        vertical-align: middle;\n",
       "    }\n",
       "\n",
       "    .dataframe tbody tr th {\n",
       "        vertical-align: top;\n",
       "    }\n",
       "\n",
       "    .dataframe thead th {\n",
       "        text-align: right;\n",
       "    }\n",
       "</style>\n",
       "<table border=\"1\" class=\"dataframe\">\n",
       "  <thead>\n",
       "    <tr style=\"text-align: right;\">\n",
       "      <th></th>\n",
       "      <th>Risk</th>\n",
       "      <th>Age</th>\n",
       "    </tr>\n",
       "  </thead>\n",
       "  <tbody>\n",
       "    <tr>\n",
       "      <th>996</th>\n",
       "      <td>good</td>\n",
       "      <td>75</td>\n",
       "    </tr>\n",
       "    <tr>\n",
       "      <th>1569</th>\n",
       "      <td>good</td>\n",
       "      <td>75</td>\n",
       "    </tr>\n",
       "    <tr>\n",
       "      <th>1903</th>\n",
       "      <td>good</td>\n",
       "      <td>75</td>\n",
       "    </tr>\n",
       "    <tr>\n",
       "      <th>2908</th>\n",
       "      <td>good</td>\n",
       "      <td>75</td>\n",
       "    </tr>\n",
       "    <tr>\n",
       "      <th>3481</th>\n",
       "      <td>good</td>\n",
       "      <td>75</td>\n",
       "    </tr>\n",
       "    <tr>\n",
       "      <th>3815</th>\n",
       "      <td>good</td>\n",
       "      <td>75</td>\n",
       "    </tr>\n",
       "    <tr>\n",
       "      <th>4436</th>\n",
       "      <td>good</td>\n",
       "      <td>75</td>\n",
       "    </tr>\n",
       "  </tbody>\n",
       "</table>\n",
       "</div>"
      ],
      "text/plain": [
       "      Risk  Age\n",
       "996   good   75\n",
       "1569  good   75\n",
       "1903  good   75\n",
       "2908  good   75\n",
       "3481  good   75\n",
       "3815  good   75\n",
       "4436  good   75"
      ]
     },
     "execution_count": 20,
     "metadata": {},
     "output_type": "execute_result"
    }
   ],
   "source": [
    "df[df[\"Age\"] == df[\"Age\"].max()]"
   ]
  },
  {
   "cell_type": "code",
   "execution_count": 21,
   "metadata": {},
   "outputs": [
    {
     "data": {
      "text/html": [
       "<div>\n",
       "<style scoped>\n",
       "    .dataframe tbody tr th:only-of-type {\n",
       "        vertical-align: middle;\n",
       "    }\n",
       "\n",
       "    .dataframe tbody tr th {\n",
       "        vertical-align: top;\n",
       "    }\n",
       "\n",
       "    .dataframe thead th {\n",
       "        text-align: right;\n",
       "    }\n",
       "</style>\n",
       "<table border=\"1\" class=\"dataframe\">\n",
       "  <thead>\n",
       "    <tr style=\"text-align: right;\">\n",
       "      <th></th>\n",
       "      <th>Risk</th>\n",
       "      <th>Age</th>\n",
       "    </tr>\n",
       "  </thead>\n",
       "  <tbody>\n",
       "    <tr>\n",
       "      <th>283</th>\n",
       "      <td>bad</td>\n",
       "      <td>19</td>\n",
       "    </tr>\n",
       "    <tr>\n",
       "      <th>781</th>\n",
       "      <td>good</td>\n",
       "      <td>19</td>\n",
       "    </tr>\n",
       "    <tr>\n",
       "      <th>1368</th>\n",
       "      <td>bad</td>\n",
       "      <td>19</td>\n",
       "    </tr>\n",
       "    <tr>\n",
       "      <th>1565</th>\n",
       "      <td>bad</td>\n",
       "      <td>19</td>\n",
       "    </tr>\n",
       "    <tr>\n",
       "      <th>1829</th>\n",
       "      <td>good</td>\n",
       "      <td>19</td>\n",
       "    </tr>\n",
       "    <tr>\n",
       "      <th>2195</th>\n",
       "      <td>bad</td>\n",
       "      <td>19</td>\n",
       "    </tr>\n",
       "    <tr>\n",
       "      <th>2693</th>\n",
       "      <td>good</td>\n",
       "      <td>19</td>\n",
       "    </tr>\n",
       "    <tr>\n",
       "      <th>3280</th>\n",
       "      <td>bad</td>\n",
       "      <td>19</td>\n",
       "    </tr>\n",
       "    <tr>\n",
       "      <th>3477</th>\n",
       "      <td>bad</td>\n",
       "      <td>19</td>\n",
       "    </tr>\n",
       "    <tr>\n",
       "      <th>3741</th>\n",
       "      <td>good</td>\n",
       "      <td>19</td>\n",
       "    </tr>\n",
       "    <tr>\n",
       "      <th>3865</th>\n",
       "      <td>bad</td>\n",
       "      <td>19</td>\n",
       "    </tr>\n",
       "  </tbody>\n",
       "</table>\n",
       "</div>"
      ],
      "text/plain": [
       "      Risk  Age\n",
       "283    bad   19\n",
       "781   good   19\n",
       "1368   bad   19\n",
       "1565   bad   19\n",
       "1829  good   19\n",
       "2195   bad   19\n",
       "2693  good   19\n",
       "3280   bad   19\n",
       "3477   bad   19\n",
       "3741  good   19\n",
       "3865   bad   19"
      ]
     },
     "execution_count": 21,
     "metadata": {},
     "output_type": "execute_result"
    }
   ],
   "source": [
    "df[df[\"Age\"] == df[\"Age\"].min()]"
   ]
  },
  {
   "cell_type": "markdown",
   "metadata": {},
   "source": [
    "A simple vista parece que las edades de 19 y 75 podrian tatarse de valores atipicos, investiguemos mas a fondo."
   ]
  },
  {
   "cell_type": "code",
   "execution_count": 23,
   "metadata": {},
   "outputs": [
    {
     "data": {
      "text/plain": [
       "<Axes: >"
      ]
     },
     "execution_count": 23,
     "metadata": {},
     "output_type": "execute_result"
    },
    {
     "data": {
      "image/png": "[encoded data removed]",
      "text/plain": [
       "<Figure size 640x480 with 1 Axes>"
      ]
     },
     "metadata": {},
     "output_type": "display_data"
    }
   ],
   "source": [
    "df[\"Age\"].plot(kind=\"box\")"
   ]
  },
  {
   "cell_type": "markdown",
   "metadata": {},
   "source": [
    "Parce que la edad de 75 podria tratarse de un outlier grave, usemos el metodo de IQR para comprobar esta teoria."
   ]
  },
  {
   "cell_type": "code",
   "execution_count": 36,
   "metadata": {},
   "outputs": [],
   "source": [
    "def get_outliers_iqr(df: pd.DataFrame):\n",
    "    \"\"\"\n",
    "    Identifica los valores atípicos (outliers) en un DataFrame numérico utilizando el método IQR.\n",
    "\n",
    "    Args:\n",
    "        df (pd.DataFrame): DataFrame que contiene los datos a analizar.\n",
    "\n",
    "    Returns:\n",
    "        dict[str, dict[str, list]]: Un diccionario donde las claves son los nombres de las columnas \n",
    "        numéricas y los valores son subdiccionarios con tres listas de outliers clasificados en:\n",
    "        - \"leves\": valores fuera de [Q1 - 1.5*IQR, Q3 + 1.5*IQR]\n",
    "        - \"moderados\": valores fuera de [Q1 - 3*IQR, Q3 + 3*IQR], excluyendo los leves\n",
    "        - \"graves\": valores fuera de [Q1 - 4.5*IQR, Q3 + 4.5*IQR], excluyendo los moderados\n",
    "    \"\"\"\n",
    "    outliers = {}\n",
    "\n",
    "    for col in df.select_dtypes(include=[\"number\"]).columns:  # Solo columnas numéricas\n",
    "        Q1 = df[col].quantile(0.25)\n",
    "        Q3 = df[col].quantile(0.75)\n",
    "        IQR = Q3 - Q1\n",
    "\n",
    "        lower_bound_1 = Q1 - 1.5 * IQR  # Límite para outliers leves\n",
    "        upper_bound_1 = Q3 + 1.5 * IQR\n",
    "\n",
    "        lower_bound_2 = Q1 - 3 * IQR  # Límite para outliers moderados\n",
    "        upper_bound_2 = Q3 + 3 * IQR\n",
    "\n",
    "        lower_bound_3 = Q1 - 4.5 * IQR  # Límite para outliers graves\n",
    "        upper_bound_3 = Q3 + 4.5 * IQR\n",
    "\n",
    "        leves = df[(df[col] < lower_bound_1) | (df[col] > upper_bound_1)][col]\n",
    "        moderados = df[(df[col] < lower_bound_2) | (df[col] > upper_bound_2)][col]\n",
    "        graves = df[(df[col] < lower_bound_3) | (df[col] > upper_bound_3)][col]\n",
    "\n",
    "        outliers[col] = {\n",
    "            \"leves\": sorted(leves.unique().tolist()),\n",
    "            \"moderados\": sorted(moderados.unique().tolist()),\n",
    "            \"graves\": sorted(graves.unique().tolist()),\n",
    "        }\n",
    "\n",
    "    return outliers"
   ]
  },
  {
   "cell_type": "code",
   "execution_count": 35,
   "metadata": {},
   "outputs": [
    {
     "data": {
      "text/plain": [
       "{'Age': {'leves': [65, 66, 67, 68, 70, 74, 75], 'moderados': [], 'graves': []}}"
      ]
     },
     "execution_count": 35,
     "metadata": {},
     "output_type": "execute_result"
    }
   ],
   "source": [
    "get_outliers_iqr(df)"
   ]
  },
  {
   "cell_type": "markdown",
   "metadata": {},
   "source": [
    "No se trata de outliers graves, y ademas, tiene sentido que personas de edad avanzada pidan prestamos tambien, no eliminaremos estos \"outliers\"."
   ]
  },
  {
   "cell_type": "markdown",
   "metadata": {},
   "source": [
    "# Verificando la precision\n",
    "Finalmente, una de las mejoras formas de verficar la precision de los datos es al compararlos con reglas de negocio establecidas. El negocio tiene definidas reglas que sus datos deben de seguir, si estos no las cumplen en gran medida estariamos hablando de datos con una baja precision. \n",
    "\n",
    "Supongamos la siguiente regla de negocio. El banco decidio que no le prestaria dinero a aquellas personas menores de 22 años y mayores de 74 años. \n",
    "\n",
    "Verifiquemos cuantos registros incumplen dicha regla."
   ]
  },
  {
   "cell_type": "code",
   "execution_count": null,
   "metadata": {},
   "outputs": [
    {
     "data": {
      "text/html": [
       "<div>\n",
       "<style scoped>\n",
       "    .dataframe tbody tr th:only-of-type {\n",
       "        vertical-align: middle;\n",
       "    }\n",
       "\n",
       "    .dataframe tbody tr th {\n",
       "        vertical-align: top;\n",
       "    }\n",
       "\n",
       "    .dataframe thead th {\n",
       "        text-align: right;\n",
       "    }\n",
       "</style>\n",
       "<table border=\"1\" class=\"dataframe\">\n",
       "  <thead>\n",
       "    <tr style=\"text-align: right;\">\n",
       "      <th></th>\n",
       "      <th>Risk</th>\n",
       "      <th>Age</th>\n",
       "    </tr>\n",
       "  </thead>\n",
       "  <tbody>\n",
       "    <tr>\n",
       "      <th>2</th>\n",
       "      <td>bad</td>\n",
       "      <td>21</td>\n",
       "    </tr>\n",
       "    <tr>\n",
       "      <th>5</th>\n",
       "      <td>good</td>\n",
       "      <td>20</td>\n",
       "    </tr>\n",
       "    <tr>\n",
       "      <th>39</th>\n",
       "      <td>bad</td>\n",
       "      <td>20</td>\n",
       "    </tr>\n",
       "    <tr>\n",
       "      <th>55</th>\n",
       "      <td>good</td>\n",
       "      <td>21</td>\n",
       "    </tr>\n",
       "    <tr>\n",
       "      <th>143</th>\n",
       "      <td>good</td>\n",
       "      <td>20</td>\n",
       "    </tr>\n",
       "    <tr>\n",
       "      <th>...</th>\n",
       "      <td>...</td>\n",
       "      <td>...</td>\n",
       "    </tr>\n",
       "    <tr>\n",
       "      <th>4736</th>\n",
       "      <td>good</td>\n",
       "      <td>20</td>\n",
       "    </tr>\n",
       "    <tr>\n",
       "      <th>4737</th>\n",
       "      <td>good</td>\n",
       "      <td>21</td>\n",
       "    </tr>\n",
       "    <tr>\n",
       "      <th>4748</th>\n",
       "      <td>good</td>\n",
       "      <td>20</td>\n",
       "    </tr>\n",
       "    <tr>\n",
       "      <th>4753</th>\n",
       "      <td>bad</td>\n",
       "      <td>20</td>\n",
       "    </tr>\n",
       "    <tr>\n",
       "      <th>4790</th>\n",
       "      <td>good</td>\n",
       "      <td>20</td>\n",
       "    </tr>\n",
       "  </tbody>\n",
       "</table>\n",
       "<p>132 rows × 2 columns</p>\n",
       "</div>"
      ],
      "text/plain": [
       "      Risk  Age\n",
       "2      bad   21\n",
       "5     good   20\n",
       "39     bad   20\n",
       "55    good   21\n",
       "143   good   20\n",
       "...    ...  ...\n",
       "4736  good   20\n",
       "4737  good   21\n",
       "4748  good   20\n",
       "4753   bad   20\n",
       "4790  good   20\n",
       "\n",
       "[132 rows x 2 columns]"
      ]
     },
     "execution_count": 37,
     "metadata": {},
     "output_type": "execute_result"
    }
   ],
   "source": [
    "df[(df[\"Age\"] < 22) | (df[\"Age\"] > 74)]  # 132 personas incumplen la regla de negocio"
   ]
  },
  {
   "cell_type": "code",
   "execution_count": 38,
   "metadata": {},
   "outputs": [
    {
     "data": {
      "text/plain": [
       "2.8947368421052633"
      ]
     },
     "execution_count": 38,
     "metadata": {},
     "output_type": "execute_result"
    }
   ],
   "source": [
    "(len(df[(df[\"Age\"] < 22) | (df[\"Age\"] > 74)]) / len(df[\"Age\"])) * 100"
   ]
  },
  {
   "cell_type": "markdown",
   "metadata": {},
   "source": [
    "Solamente un 3% del total de registros incumplen la regla de negocio, no es para nada relevante."
   ]
  },
  {
   "cell_type": "markdown",
   "metadata": {},
   "source": [
    "# Conclusiones\n",
    "Pudimos alcanzar cada uno de los objetivos propuestos al inicio de este notebook.\n",
    "\n",
    "En la siguiente tabla se encuentran los indicadores obtenidos:\n",
    "\n",
    "|Indicador |Descripcion |\n",
    "|-|-|\n",
    "|Validez |Se obtuvo una validez sub optima, los distribucion de los datos se encuentra altamente sesgada habiendo muchos mas datos de un grupo etario que de otro. |\n",
    "|Veracidad |Se obtuvo una veracidad optima, habiendo muy poca presencia de valores nulos y ninguna presencia de outliers moderados o graves. |\n",
    "|Precision |Se obtuvo una precision del 97%, con solo un 3% de datos que no cumplen con la regla de negocio supuesta. |\n"
   ]
  }
 ],
 "metadata": {
  "kernelspec": {
   "display_name": "venv",
   "language": "python",
   "name": "python3"
  },
  "language_info": {
   "codemirror_mode": {
    "name": "ipython",
    "version": 3
   },
   "file_extension": ".py",
   "mimetype": "text/x-python",
   "name": "python",
   "nbconvert_exporter": "python",
   "pygments_lexer": "ipython3",
   "version": "3.11.9"
  }
 },
 "nbformat": 4,
 "nbformat_minor": 2
}
