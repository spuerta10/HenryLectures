{
 "cells": [
  {
   "cell_type": "markdown",
   "metadata": {},
   "source": [
    "# Proposito\n",
    "En este notebook estan los pasos a tomar para la etapa de **publicacion** del proceso de **Data Wrangling**. Este proceso recibe como entrada las conclusiones obtenidas en la etapa anterior: **validacion**.\n",
    "\n",
    "Para este ejemplo, recibiremos como insumo el archivo CSV generado en el paso de `limpieza` llamado `cleaned_data.csv`.\n",
    "\n",
    "Finalmente, no olvidemos la necesidad del negocio. Necesitamos dar respuesta a la pregunta ¿Que grupo etario trae mas mal riesgo al banco?\n",
    "\n",
    "# Objetivos\n",
    "Al finalizar este notebook deberemos de haber:\n",
    "\n",
    "✅ Respuesto a la pregunta del negocio.\n",
    "\n",
    "✅ Guardado los datos con los cuales contestamos a la pregunta del negocio.\n",
    "\n",
    "✅ Explicado el paso a paso que tomamos para contestar la misma."
   ]
  }
 ],
 "metadata": {
  "language_info": {
   "name": "python"
  }
 },
 "nbformat": 4,
 "nbformat_minor": 2
}
