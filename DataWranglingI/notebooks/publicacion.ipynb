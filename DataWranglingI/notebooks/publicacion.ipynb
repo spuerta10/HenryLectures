{
 "cells": [
  {
   "cell_type": "markdown",
   "metadata": {},
   "source": [
    "# Proposito\n",
    "En este notebook estan los pasos a tomar para la etapa de **publicacion** del proceso de **Data Wrangling**. Este proceso recibe como entrada las conclusiones obtenidas en la etapa anterior: **validacion**.\n",
    "\n",
    "Para este ejemplo, recibiremos como insumo el archivo CSV generado en el paso de `limpieza` llamado `cleaned_data.csv`.\n",
    "\n",
    "Finalmente, no olvidemos la necesidad del negocio. Necesitamos dar respuesta a la pregunta ¿Que grupo etario trae mas mal riesgo al banco?\n",
    "\n",
    "# Objetivos\n",
    "Al finalizar este notebook deberemos de haber:\n",
    "\n",
    "✅ Respuesto a la pregunta del negocio.\n",
    "\n",
    "✅ Guardado los datos con los cuales contestamos a la pregunta del negocio."
   ]
  },
  {
   "cell_type": "code",
   "execution_count": 1,
   "metadata": {},
   "outputs": [],
   "source": [
    "import pandas as pd\n",
    "from pandas import DataFrame"
   ]
  },
  {
   "cell_type": "code",
   "execution_count": 2,
   "metadata": {},
   "outputs": [
    {
     "name": "stdout",
     "output_type": "stream",
     "text": [
      "<class 'pandas.core.frame.DataFrame'>\n",
      "RangeIndex: 4811 entries, 0 to 4810\n",
      "Data columns (total 2 columns):\n",
      " #   Column  Non-Null Count  Dtype \n",
      "---  ------  --------------  ----- \n",
      " 0   Risk    4680 non-null   string\n",
      " 1   Age     4670 non-null   Int64 \n",
      "dtypes: Int64(1), string(1)\n",
      "memory usage: 80.0 KB\n"
     ]
    }
   ],
   "source": [
    "schema = {\n",
    "    \"Risk\": \"string\",\n",
    "    \"Age\": \"Int64\",\n",
    "}  # el esquema que hallamos en el proceso anterior\n",
    "\n",
    "df = pd.read_csv(r\"../data/cleaned_data.csv\", dtype=schema, usecols=[\"Risk\", \"Age\"])\n",
    "df.info()"
   ]
  },
  {
   "cell_type": "code",
   "execution_count": 3,
   "metadata": {},
   "outputs": [],
   "source": [
    "df: DataFrame = df.dropna()"
   ]
  },
  {
   "cell_type": "markdown",
   "metadata": {},
   "source": [
    "# Dando respuesta a la pregunta de negocio\n",
    "Antes de dar respuesta a la pregunta de negocio, arreglemos los problemas encontrados en la etapa anterior.\n",
    "\n",
    "❌ Eliminemos aquellos datos que no cumplen con las reglas de negocio."
   ]
  },
  {
   "cell_type": "code",
   "execution_count": null,
   "metadata": {},
   "outputs": [],
   "source": [
    "df: DataFrame = df[\n",
    "    (df[\"Age\"] >= 22) & (df[\"Age\"] <= 74)  # noqa: PLR2004\n",
    "]  # eliminar filas que no cumplen con las reglas de negocio."
   ]
  },
  {
   "cell_type": "code",
   "execution_count": 5,
   "metadata": {},
   "outputs": [],
   "source": [
    "def get_ages_groups(df: DataFrame) -> DataFrame:\n",
    "    \"\"\"\n",
    "    Agrupa las edades en intervalos de 10 años y agrega una nueva columna con el grupo de edad.\n",
    "\n",
    "    Args:\n",
    "        df (pd.DataFrame): DataFrame que contiene una columna llamada \"Edad\".\n",
    "\n",
    "    Returns:\n",
    "        pd.DataFrame: DataFrame con una nueva columna \"Grupo_Edad\".\n",
    "    \"\"\"\n",
    "    bins = list(range(df[\"Age\"].min(), df[\"Age\"].max() + 1, 10))\n",
    "    labels = [f\"{i}-{i + 9}\" for i in bins[:-1]]  # Etiquetas\n",
    "\n",
    "    df[\"age_group\"] = pd.cut(df[\"Age\"], bins=bins, labels=labels, right=False)\n",
    "\n",
    "    return df"
   ]
  },
  {
   "cell_type": "code",
   "execution_count": 6,
   "metadata": {},
   "outputs": [
    {
     "name": "stderr",
     "output_type": "stream",
     "text": [
      "C:\\Users\\Admin\\AppData\\Local\\Temp\\ipykernel_13640\\2363714859.py:3: FutureWarning: The default of observed=False is deprecated and will be changed to True in a future version of pandas. Pass observed=False to retain current behavior or observed=True to adopt the future default and silence this warning.\n",
      "  df.groupby(\"age_group\")[\"Risk\"].value_counts(normalize=True).unstack()\n"
     ]
    },
    {
     "data": {
      "text/html": [
       "<div>\n",
       "<style scoped>\n",
       "    .dataframe tbody tr th:only-of-type {\n",
       "        vertical-align: middle;\n",
       "    }\n",
       "\n",
       "    .dataframe tbody tr th {\n",
       "        vertical-align: top;\n",
       "    }\n",
       "\n",
       "    .dataframe thead th {\n",
       "        text-align: right;\n",
       "    }\n",
       "</style>\n",
       "<table border=\"1\" class=\"dataframe\">\n",
       "  <thead>\n",
       "    <tr style=\"text-align: right;\">\n",
       "      <th>Risk</th>\n",
       "      <th>bad</th>\n",
       "      <th>good</th>\n",
       "    </tr>\n",
       "    <tr>\n",
       "      <th>age_group</th>\n",
       "      <th></th>\n",
       "      <th></th>\n",
       "    </tr>\n",
       "  </thead>\n",
       "  <tbody>\n",
       "    <tr>\n",
       "      <th>22-31</th>\n",
       "      <td>0.363636</td>\n",
       "      <td>0.636364</td>\n",
       "    </tr>\n",
       "    <tr>\n",
       "      <th>32-41</th>\n",
       "      <td>0.237668</td>\n",
       "      <td>0.762332</td>\n",
       "    </tr>\n",
       "    <tr>\n",
       "      <th>42-51</th>\n",
       "      <td>0.241477</td>\n",
       "      <td>0.758523</td>\n",
       "    </tr>\n",
       "    <tr>\n",
       "      <th>52-61</th>\n",
       "      <td>0.346535</td>\n",
       "      <td>0.653465</td>\n",
       "    </tr>\n",
       "    <tr>\n",
       "      <th>62-71</th>\n",
       "      <td>0.221519</td>\n",
       "      <td>0.778481</td>\n",
       "    </tr>\n",
       "  </tbody>\n",
       "</table>\n",
       "</div>"
      ],
      "text/plain": [
       "Risk            bad      good\n",
       "age_group                    \n",
       "22-31      0.363636  0.636364\n",
       "32-41      0.237668  0.762332\n",
       "42-51      0.241477  0.758523\n",
       "52-61      0.346535  0.653465\n",
       "62-71      0.221519  0.778481"
      ]
     },
     "execution_count": 6,
     "metadata": {},
     "output_type": "execute_result"
    }
   ],
   "source": [
    "df: DataFrame = get_ages_groups(df)\n",
    "\n",
    "df.groupby(\"age_group\")[\"Risk\"].value_counts(normalize=True).unstack()"
   ]
  },
  {
   "cell_type": "markdown",
   "metadata": {},
   "source": [
    "La respuesta a la pregunta dada es que el grupo etario de los 22 a los 31 son quienes traen mayores malos riesgos al banco, con aproximadamente un 36% de mal riesgo."
   ]
  },
  {
   "cell_type": "code",
   "execution_count": 7,
   "metadata": {},
   "outputs": [],
   "source": [
    "df.to_csv(r\"../data/final_data.csv\", index=False)"
   ]
  }
 ],
 "metadata": {
  "kernelspec": {
   "display_name": "venv",
   "language": "python",
   "name": "python3"
  },
  "language_info": {
   "codemirror_mode": {
    "name": "ipython",
    "version": 3
   },
   "file_extension": ".py",
   "mimetype": "text/x-python",
   "name": "python",
   "nbconvert_exporter": "python",
   "pygments_lexer": "ipython3",
   "version": "3.11.9"
  }
 },
 "nbformat": 4,
 "nbformat_minor": 2
}
