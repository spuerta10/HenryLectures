{
 "cells": [
  {
   "cell_type": "markdown",
   "metadata": {},
   "source": [
    "# Proposito\n",
    "En este notebook estan los pasos a tomar para la etapa de **limpieza** del proceso de **Data Wrangling**. Este proceso recibe como entrada las conclusiones obtenidas en la etapa anterior: **estructuracion**.\n",
    "\n",
    "Para este ejemplo, recibiremos como insumo un archivo CSV llamado `raw_data.csv`.\n",
    "\n",
    "Finalmente, no olvidemos la necesidad del negocio. Necesitamos dar respuesta a la pregunta ¿Que grupo etario trae mas mal riesgo al banco?\n",
    "\n",
    "# Objetivos\n",
    "Al finalizar este notebook deberemos de haber:\n",
    "\n",
    "✅ Verificar que los datos tienen un tipo de dato determinado.\n",
    "\n",
    "✅ Eliminado los valores duplicados.\n",
    "\n",
    "✅ Limpiado los valores extraños presentes."
   ]
  },
  {
   "cell_type": "code",
   "execution_count": 1,
   "metadata": {},
   "outputs": [],
   "source": [
    "import pandas as pd\n",
    "from pandas import DataFrame"
   ]
  },
  {
   "cell_type": "code",
   "execution_count": 2,
   "metadata": {},
   "outputs": [
    {
     "name": "stdout",
     "output_type": "stream",
     "text": [
      "<class 'pandas.core.frame.DataFrame'>\n",
      "RangeIndex: 4846 entries, 0 to 4845\n",
      "Data columns (total 19 columns):\n",
      " #   Column             Non-Null Count  Dtype  \n",
      "---  ------             --------------  -----  \n",
      " 0   Unnamed: 0.1       4846 non-null   int64  \n",
      " 1   Duration           4699 non-null   float64\n",
      " 2   Checking account   2732 non-null   object \n",
      " 3   Credit amount      4576 non-null   object \n",
      " 4   Purpose            4686 non-null   object \n",
      " 5   Job                4635 non-null   float64\n",
      " 6   Job                4635 non-null   float64\n",
      " 7   Sex                4617 non-null   object \n",
      " 8   Sex                4617 non-null   object \n",
      " 9   Checking account   2732 non-null   object \n",
      " 10  Purpose            4686 non-null   object \n",
      " 11  csv                0 non-null      float64\n",
      " 12  data_source        4844 non-null   object \n",
      " 13  Saving accounts    3788 non-null   object \n",
      " 14  Housing            4622 non-null   object \n",
      " 15  Risk               4715 non-null   object \n",
      " 16  Age                4705 non-null   object \n",
      " 17  value              4844 non-null   float64\n",
      " 18  Unnamed: 0         4685 non-null   float64\n",
      "dtypes: float64(6), int64(1), object(12)\n",
      "memory usage: 719.5+ KB\n"
     ]
    }
   ],
   "source": [
    "df = pd.read_csv(r\"../data/raw_data.csv\")\n",
    "df.info()"
   ]
  },
  {
   "cell_type": "markdown",
   "metadata": {},
   "source": [
    "# Limpiando los valores nulos\n",
    "En el proceso pasado: `estructuracion` hallamos que la columna: `csv` tenia todos sus datos como nulos, procedamos a eliminarla."
   ]
  },
  {
   "cell_type": "code",
   "execution_count": 3,
   "metadata": {},
   "outputs": [],
   "source": [
    "df: DataFrame = df.drop(columns=[\"csv\"])"
   ]
  },
  {
   "cell_type": "markdown",
   "metadata": {},
   "source": [
    "# Eliminando las columnas duplicadas\n",
    "Asi mismo, en el proceso pasado hallamos que habian unas cuantas columnas duplicadas, eliminemoslas."
   ]
  },
  {
   "cell_type": "code",
   "execution_count": 4,
   "metadata": {},
   "outputs": [],
   "source": [
    "df: DataFrame = df.drop(columns=[\"Sex \", \"Job \", \"Purpose \", \"Checking account \"])"
   ]
  },
  {
   "cell_type": "markdown",
   "metadata": {},
   "source": [
    "# Eliminando los valores extraños\n",
    "Eliminemos todas las filas que contegan los valores extraños, identificados anteriormente. "
   ]
  },
  {
   "cell_type": "code",
   "execution_count": 5,
   "metadata": {},
   "outputs": [],
   "source": [
    "def drop_weird_values(df: DataFrame, weird_values: dict[str, list]):\n",
    "    \"\"\"\n",
    "    Elimina los valores no esperados en cada columna según la lista de valores extraños.\n",
    "\n",
    "    :param df: DataFrame de entrada.\n",
    "    :param weird_values: Diccionario con los nombres de las columnas y sus valores no deseados.\n",
    "    :return: DataFrame limpio.\n",
    "    \"\"\"\n",
    "    df_cleaned: DataFrame = df.copy()  # Crear una copia para no modificar el original\n",
    "\n",
    "    for column, values in weird_values.items():\n",
    "        if column in df_cleaned.columns:\n",
    "            df_cleaned = df_cleaned[\n",
    "                ~df_cleaned[column].isin(values)\n",
    "            ]  # Filtrar filas con valores no deseados\n",
    "\n",
    "    return df_cleaned"
   ]
  },
  {
   "cell_type": "code",
   "execution_count": 6,
   "metadata": {},
   "outputs": [],
   "source": [
    "weird_values: dict[str, list] = {\n",
    "    \"Credit amount\": [\"nan\", \"dfas\", \"qwretryet\", \"ttqweyuet\"],\n",
    "    \"Age\": [\"hgd\"],\n",
    "    \"Purpose\": [\"6\", \"3\", \"56\", \"356\"],\n",
    "    \"Housing\": [\"563\", \"43\", \"356\"],\n",
    "    \"Sex\": [\"353546\"],\n",
    "    \"Risk\": [\"36\", \"5\"],\n",
    "}\n",
    "\n",
    "df_cleaned: DataFrame = drop_weird_values(df, weird_values)"
   ]
  },
  {
   "cell_type": "markdown",
   "metadata": {},
   "source": [
    "# Arreglando los tipos de datos\n",
    "Finalmente, hagamos que las columnas tengan el tipo de dato que deberian de tener."
   ]
  },
  {
   "cell_type": "code",
   "execution_count": 7,
   "metadata": {},
   "outputs": [
    {
     "data": {
      "text/plain": [
       "Index(['Unnamed: 0.1', 'Duration', 'Checking account', 'Credit amount',\n",
       "       'Purpose', 'Job', 'Sex', 'data_source', 'Saving accounts', 'Housing',\n",
       "       'Risk', 'Age', 'value', 'Unnamed: 0'],\n",
       "      dtype='object')"
      ]
     },
     "execution_count": 7,
     "metadata": {},
     "output_type": "execute_result"
    }
   ],
   "source": [
    "df_cleaned.columns"
   ]
  },
  {
   "cell_type": "code",
   "execution_count": 8,
   "metadata": {},
   "outputs": [],
   "source": [
    "def convert_to_expected_dtype(df: DataFrame, expected_dtypes: dict[str, type]):\n",
    "    \"\"\"\n",
    "    Convierte las columnas del DataFrame a los tipos de datos especificados en expected_dtypes.\n",
    "\n",
    "    :param df: DataFrame de entrada.\n",
    "    :param expected_dtypes: Diccionario con los nombres de las columnas y los tipos esperados.\n",
    "    :return: DataFrame con las columnas convertidas a los tipos correctos.\n",
    "    \"\"\"\n",
    "    df_converted: DataFrame = df.copy()  # Crear una copia para no modificar el original\n",
    "\n",
    "    for column, dtype in expected_dtypes.items():\n",
    "        if column in df_converted.columns:\n",
    "            try:\n",
    "                df_converted[column] = df_converted[column].astype(dtype)\n",
    "            except ValueError:\n",
    "                print(\n",
    "                    f\"⚠️ No se pudo convertir la columna '{column}' a {dtype}. Posibles valores inválidos.\"\n",
    "                )\n",
    "\n",
    "    return df_converted"
   ]
  },
  {
   "cell_type": "code",
   "execution_count": 9,
   "metadata": {},
   "outputs": [],
   "source": [
    "expected_dtypes: dict[str, type] = {\n",
    "    \"Unnamed: 0.1\": \"Int64\",\n",
    "    \"Unnamed: 0\": \"Int64\",\n",
    "    \"Duration\": \"Int64\",\n",
    "    \"Checking account\": \"string\",\n",
    "    \"Credit amount\": \"Int64\",\n",
    "    \"Purpose\": \"string\",\n",
    "    \"Job\": \"string\",\n",
    "    \"Sex\": \"string\",\n",
    "    \"data_source\": \"string\",\n",
    "    \"Saving accounts\": \"string\",\n",
    "    \"Housing\": \"string\",\n",
    "    \"Risk\": \"string\",\n",
    "    \"Age\": \"Int64\",\n",
    "    \"value\": \"string\",\n",
    "}\n",
    "\n",
    "df_converted: DataFrame = convert_to_expected_dtype(df_cleaned, expected_dtypes)"
   ]
  },
  {
   "cell_type": "code",
   "execution_count": 10,
   "metadata": {},
   "outputs": [
    {
     "name": "stdout",
     "output_type": "stream",
     "text": [
      "<class 'pandas.core.frame.DataFrame'>\n",
      "Index: 4811 entries, 0 to 4845\n",
      "Data columns (total 14 columns):\n",
      " #   Column            Non-Null Count  Dtype \n",
      "---  ------            --------------  ----- \n",
      " 0   Unnamed: 0.1      4811 non-null   Int64 \n",
      " 1   Duration          4664 non-null   Int64 \n",
      " 2   Checking account  2715 non-null   string\n",
      " 3   Credit amount     4541 non-null   Int64 \n",
      " 4   Purpose           4651 non-null   string\n",
      " 5   Job               4600 non-null   string\n",
      " 6   Sex               4582 non-null   string\n",
      " 7   data_source       4809 non-null   string\n",
      " 8   Saving accounts   3756 non-null   string\n",
      " 9   Housing           4587 non-null   string\n",
      " 10  Risk              4680 non-null   string\n",
      " 11  Age               4670 non-null   Int64 \n",
      " 12  value             4809 non-null   string\n",
      " 13  Unnamed: 0        4650 non-null   Int64 \n",
      "dtypes: Int64(5), string(9)\n",
      "memory usage: 587.3 KB\n"
     ]
    }
   ],
   "source": [
    "df_converted.info()"
   ]
  },
  {
   "cell_type": "markdown",
   "metadata": {},
   "source": [
    "Podemos ver que ahora los datos poseen un tipo de dato concreto y no `object` como lo solian hacer."
   ]
  },
  {
   "cell_type": "markdown",
   "metadata": {},
   "source": [
    "# Eliminemos las filas duplicadas"
   ]
  },
  {
   "cell_type": "code",
   "execution_count": 11,
   "metadata": {},
   "outputs": [],
   "source": [
    "df_final: DataFrame = df_converted.drop_duplicates(keep=\"first\")"
   ]
  },
  {
   "cell_type": "markdown",
   "metadata": {},
   "source": [
    "# Conclusiones\n",
    "Pudimos alcanzar cada uno de los objetivos propuestos al inicio de este notebook.\n",
    "## Verificar que los datos tienen un tipo de dato determinado.\n",
    "Los datos terminaron con una estructura definida y con un tipo de dato concreto.\n",
    "## Eliminado de los valores duplicados.\n",
    "Eliminamos todas las filas duplicadas.\n",
    "## Limpiado de los valores extraños presentes.\n",
    "Eliminamos todas las filas que tuvieran presentes valores no esperados para la columna."
   ]
  },
  {
   "cell_type": "code",
   "execution_count": 12,
   "metadata": {},
   "outputs": [],
   "source": [
    "df_final.to_csv(r\"../data/cleaned_data.csv\")  # guardemos los datos limpios para la siguiente fase"
   ]
  }
 ],
 "metadata": {
  "kernelspec": {
   "display_name": "venv",
   "language": "python",
   "name": "python3"
  },
  "language_info": {
   "codemirror_mode": {
    "name": "ipython",
    "version": 3
   },
   "file_extension": ".py",
   "mimetype": "text/x-python",
   "name": "python",
   "nbconvert_exporter": "python",
   "pygments_lexer": "ipython3",
   "version": "3.11.9"
  }
 },
 "nbformat": 4,
 "nbformat_minor": 2
}
