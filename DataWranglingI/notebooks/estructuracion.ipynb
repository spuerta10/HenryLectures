{
 "cells": [
  {
   "cell_type": "markdown",
   "metadata": {},
   "source": [
    "# Proposito\n",
    "En este notebook estan los pasos a tomar para la etapa de **estructuracion** del proceso de **Data Wrangling**. Este proceso recibe como entrada los datos obtenidos en la etapa anterior: **descubrimiento**.\n",
    "\n",
    "Para este ejemplo, recibiremos como insumo un archivo CSV llamado `raw_data.csv`.\n",
    "\n",
    "Finalmente, no olvidemos la necesidad del negocio. Necesitamos dar respuesta a la pregunta ¿Que grupo etario trae mas mal riesgo al banco?\n",
    "\n",
    "# Objetivos\n",
    "Al finalizar este notebook deberemos de haber:\n",
    "\n",
    "✅ Verificar que los datos sigan una estructura definida.\n",
    "\n",
    "✅ Verificar la presencia o ausencia de valores faltantes.\n",
    "\n",
    "✅ Verificar la presencia o ausencia de valores extraños."
   ]
  },
  {
   "cell_type": "code",
   "execution_count": 1,
   "metadata": {},
   "outputs": [],
   "source": [
    "import pandas as pd\n",
    "from pandas import DataFrame"
   ]
  },
  {
   "cell_type": "code",
   "execution_count": 2,
   "metadata": {},
   "outputs": [
    {
     "name": "stdout",
     "output_type": "stream",
     "text": [
      "<class 'pandas.core.frame.DataFrame'>\n",
      "RangeIndex: 4846 entries, 0 to 4845\n",
      "Data columns (total 19 columns):\n",
      " #   Column             Non-Null Count  Dtype  \n",
      "---  ------             --------------  -----  \n",
      " 0   Unnamed: 0.1       4846 non-null   int64  \n",
      " 1   Duration           4699 non-null   float64\n",
      " 2   Checking account   2732 non-null   object \n",
      " 3   Credit amount      4576 non-null   object \n",
      " 4   Purpose            4686 non-null   object \n",
      " 5   Job                4635 non-null   float64\n",
      " 6   Job                4635 non-null   float64\n",
      " 7   Sex                4617 non-null   object \n",
      " 8   Sex                4617 non-null   object \n",
      " 9   Checking account   2732 non-null   object \n",
      " 10  Purpose            4686 non-null   object \n",
      " 11  csv                0 non-null      float64\n",
      " 12  data_source        4844 non-null   object \n",
      " 13  Saving accounts    3788 non-null   object \n",
      " 14  Housing            4622 non-null   object \n",
      " 15  Risk               4715 non-null   object \n",
      " 16  Age                4705 non-null   object \n",
      " 17  value              4844 non-null   float64\n",
      " 18  Unnamed: 0         4685 non-null   float64\n",
      "dtypes: float64(6), int64(1), object(12)\n",
      "memory usage: 719.5+ KB\n"
     ]
    }
   ],
   "source": [
    "df = pd.read_csv(r\"../data/raw_data.csv\")\n",
    "df.info()"
   ]
  },
  {
   "cell_type": "markdown",
   "metadata": {},
   "source": [
    "# Los hallazgos\n",
    "Podemos determinar a simple vista multiples cosas:\n",
    "1. Los datos no siguen una estructura definida, esperabamos que multiples columnas fueran de un tipo de dato determinado como `float64`, `int64` o `string` y en lugar de ello estamos obteniendo `object`. Esto es un indicio de la presencia de valores extraños dentro de estas columnas.\n",
    "\n",
    "2. Tenemos un problema, hay columnas duplicadas en nuestro set de datos. \n",
    "\n",
    "3. Una gran cantidad de columnas tienen valores nulos. \n",
    "\n",
    "Ataquemos uno por uno estos problemas, empezare por el ulitmo hasta llegar al primero. \n",
    "\n",
    "No existe una razon concreta para este decision, se podrian atacar estos problemas en cualquier orden deseado por el lector."
   ]
  },
  {
   "cell_type": "markdown",
   "metadata": {},
   "source": [
    "# Atacando el problema de los valores nulos\n",
    "Hay multiples formas de abordar esto, una de ellas es eliminando las filas cuyos valores sean nulos, eliminando las columnas que tengan muchos valores nulos o simplemente dejandolos 🙃. \n",
    "\n",
    "Primero, determinemos si hay columnas con muchos valores nulos. Pero... antes de poderlo hacer, tenemos que determinar si nuestro set de datos tiene otras representaciones comunes para los valores nulos."
   ]
  },
  {
   "cell_type": "code",
   "execution_count": 3,
   "metadata": {},
   "outputs": [],
   "source": [
    "def find_weird_NAN_representations(df: DataFrame) -> None:\n",
    "    \"\"\"Esta funcion revisa si hay otras representaciones comunes para los valores nulos dentro del\n",
    "    DataFrame.\n",
    "\n",
    "    Args:\n",
    "        df (DataFrame): DataFrame que quiero revisar para obtener representaciones\n",
    "        comunes de NAN.\n",
    "    \"\"\"\n",
    "    nan_representations: list[str] = [\"NA\", \"N/A\", \"null\", \"NULL\", \"nan\", \"NaN\", \"\", \" \", \"?\"]\n",
    "    columns: list[str] = list()\n",
    "    for column in df.columns:\n",
    "        if len(df[df[column].isin(nan_representations)]) > 0:\n",
    "            columns.append(column)\n",
    "    print(\n",
    "        f\"NAN representation found for columns {columns}\"\n",
    "        if len(columns) > 0\n",
    "        else \"No NAN representation found in columns\"\n",
    "    )"
   ]
  },
  {
   "cell_type": "code",
   "execution_count": 4,
   "metadata": {},
   "outputs": [
    {
     "name": "stdout",
     "output_type": "stream",
     "text": [
      "No NAN representation found in columns\n"
     ]
    }
   ],
   "source": [
    "find_weird_NAN_representations(df)"
   ]
  },
  {
   "cell_type": "code",
   "execution_count": 5,
   "metadata": {},
   "outputs": [],
   "source": [
    "def find_NAN_no_NAN_match_column_length(df: DataFrame):\n",
    "    \"\"\"Una ultima inspeccion que podemos realizar es que la suma de mis valores no nulos y mis valores nulos\n",
    "    sean la longitud que tiene la columna, de lo contrario podremos saber que hay alguna otra representacion\n",
    "    que estamos pasando alto.\n",
    "\n",
    "    Args:\n",
    "        df (DataFrame): DataFrame que quiero revisar.\n",
    "    \"\"\"\n",
    "    columns: list[str] = list()\n",
    "    for column in df.columns:\n",
    "        if len(df[pd.isna(df[column])]) + len(df[df[column].notna()]) != len(df[column]):\n",
    "            columns.append(column)\n",
    "    print(\n",
    "        f\"NAN + not NAN check invalid for columns: {columns}\"\n",
    "        if len(columns) > 0\n",
    "        else \"NAN + not NAN check valid for all columns\"\n",
    "    )"
   ]
  },
  {
   "cell_type": "code",
   "execution_count": 6,
   "metadata": {},
   "outputs": [
    {
     "name": "stdout",
     "output_type": "stream",
     "text": [
      "NAN + not NAN check valid for all columns\n"
     ]
    }
   ],
   "source": [
    "find_NAN_no_NAN_match_column_length(df)"
   ]
  },
  {
   "cell_type": "markdown",
   "metadata": {},
   "source": [
    "Perfecto, ya que vimos que no hay mas representacion para los nulos revisemos el % de nulos por columna."
   ]
  },
  {
   "cell_type": "code",
   "execution_count": 7,
   "metadata": {},
   "outputs": [
    {
     "data": {
      "text/plain": [
       "Unnamed: 0.1           0.000000\n",
       "Duration               3.033430\n",
       "Checking account      43.623607\n",
       "Credit amount          5.571605\n",
       "Purpose                3.301692\n",
       "Job                    4.354106\n",
       "Job                    4.354106\n",
       "Sex                    4.725547\n",
       "Sex                    4.725547\n",
       "Checking account      43.623607\n",
       "Purpose                3.301692\n",
       "csv                  100.000000\n",
       "data_source            0.041271\n",
       "Saving accounts       21.832439\n",
       "Housing                4.622369\n",
       "Risk                   2.703260\n",
       "Age                    2.909616\n",
       "value                  0.041271\n",
       "Unnamed: 0             3.322328\n",
       "dtype: float64"
      ]
     },
     "execution_count": 7,
     "metadata": {},
     "output_type": "execute_result"
    }
   ],
   "source": [
    "df.isnull().sum() / len(df) * 100"
   ]
  },
  {
   "cell_type": "markdown",
   "metadata": {},
   "source": [
    "La columna `csv` no contiene nada mas que valores nulos, podriamos eliminarla sin problemas."
   ]
  },
  {
   "cell_type": "markdown",
   "metadata": {},
   "source": [
    "# Atacando el problema de las columnas duplicadas\n",
    "¿Realmente son columnas duplicadas o solo sus nombres son iguales? Algunas veces pensamos que son dos columnas duplicadas solo por que tienen el mismo nombre, sin embargo, podrian no tener los mismos datos. \n",
    "\n",
    "Validemos esto. "
   ]
  },
  {
   "cell_type": "code",
   "execution_count": 8,
   "metadata": {},
   "outputs": [
    {
     "data": {
      "text/plain": [
       "True"
      ]
     },
     "execution_count": 8,
     "metadata": {},
     "output_type": "execute_result"
    }
   ],
   "source": [
    "df[\"Sex\"].equals(df[\"Sex \"])"
   ]
  },
  {
   "cell_type": "code",
   "execution_count": 9,
   "metadata": {},
   "outputs": [
    {
     "data": {
      "text/plain": [
       "True"
      ]
     },
     "execution_count": 9,
     "metadata": {},
     "output_type": "execute_result"
    }
   ],
   "source": [
    "df[\"Job\"].equals(df[\"Job \"])"
   ]
  },
  {
   "cell_type": "code",
   "execution_count": 10,
   "metadata": {},
   "outputs": [
    {
     "data": {
      "text/plain": [
       "True"
      ]
     },
     "execution_count": 10,
     "metadata": {},
     "output_type": "execute_result"
    }
   ],
   "source": [
    "df[\"Purpose\"].equals(df[\"Purpose \"])"
   ]
  },
  {
   "cell_type": "code",
   "execution_count": 11,
   "metadata": {},
   "outputs": [
    {
     "data": {
      "text/plain": [
       "True"
      ]
     },
     "execution_count": 11,
     "metadata": {},
     "output_type": "execute_result"
    }
   ],
   "source": [
    "df[\"Checking account\"].equals(df[\"Checking account \"])"
   ]
  },
  {
   "cell_type": "markdown",
   "metadata": {},
   "source": [
    "Como podemos obervar si que son columnas identicas, con los mismos tipos de datos."
   ]
  },
  {
   "cell_type": "markdown",
   "metadata": {},
   "source": [
    "# Atacando el problema de la estructura de los datos\n",
    "Cuando hallamos un dato tipo `object` en el DataFrame es por que hay algun valor extraño dentro de la columna que no permite a Pandas detectar correctamente el tipo de dato de la misma. \n",
    "\n",
    "Veamos como hallarlos."
   ]
  },
  {
   "cell_type": "code",
   "execution_count": 12,
   "metadata": {},
   "outputs": [],
   "source": [
    "def find_weird_values_for_columns(df: DataFrame, numeric_columns: list[str]) -> DataFrame:\n",
    "    \"\"\"Esta funcion halla valores no numericos dentro de las columnas numericas especificadas.\n",
    "\n",
    "    Args:\n",
    "        df (DataFrame): DataFrame que contiene las columnas numericas a buscar por valores extraños.\n",
    "        numeric_columns (list[str]): Lista de columnas a buscar.\n",
    "\n",
    "    Returns:\n",
    "        DataFrame: Nombre de la columna, y lista de valores extraños hallados.\n",
    "    \"\"\"\n",
    "    copy_df: DataFrame = df.copy()\n",
    "    columns: list[str] = list()\n",
    "    masks: list = list()\n",
    "    for column in numeric_columns:\n",
    "        copy_df[column] = copy_df[column].astype(\n",
    "            str\n",
    "        )  # convert to string temporarily for checking weird values\n",
    "        mask = ~copy_df[column].str.match(r\"^-?\\d+\\.?\\d*$\", na=True)\n",
    "        if len(df[mask][column].unique()) > 0:\n",
    "            columns.append(column)\n",
    "            masks.append(df[mask][column].unique())\n",
    "\n",
    "    weird_values: DataFrame = DataFrame({\"Column\": columns, \"Weird_Values\": masks})\n",
    "    return weird_values"
   ]
  },
  {
   "cell_type": "code",
   "execution_count": 13,
   "metadata": {},
   "outputs": [
    {
     "data": {
      "text/html": [
       "<div>\n",
       "<style scoped>\n",
       "    .dataframe tbody tr th:only-of-type {\n",
       "        vertical-align: middle;\n",
       "    }\n",
       "\n",
       "    .dataframe tbody tr th {\n",
       "        vertical-align: top;\n",
       "    }\n",
       "\n",
       "    .dataframe thead th {\n",
       "        text-align: right;\n",
       "    }\n",
       "</style>\n",
       "<table border=\"1\" class=\"dataframe\">\n",
       "  <thead>\n",
       "    <tr style=\"text-align: right;\">\n",
       "      <th></th>\n",
       "      <th>Column</th>\n",
       "      <th>Weird_Values</th>\n",
       "    </tr>\n",
       "  </thead>\n",
       "  <tbody>\n",
       "    <tr>\n",
       "      <th>0</th>\n",
       "      <td>Duration</td>\n",
       "      <td>[nan]</td>\n",
       "    </tr>\n",
       "    <tr>\n",
       "      <th>1</th>\n",
       "      <td>Credit amount</td>\n",
       "      <td>[nan, dfas, qwretryet, ttqweyuet]</td>\n",
       "    </tr>\n",
       "    <tr>\n",
       "      <th>2</th>\n",
       "      <td>Age</td>\n",
       "      <td>[nan, hgd]</td>\n",
       "    </tr>\n",
       "  </tbody>\n",
       "</table>\n",
       "</div>"
      ],
      "text/plain": [
       "          Column                       Weird_Values\n",
       "0       Duration                              [nan]\n",
       "1  Credit amount  [nan, dfas, qwretryet, ttqweyuet]\n",
       "2            Age                         [nan, hgd]"
      ]
     },
     "execution_count": 13,
     "metadata": {},
     "output_type": "execute_result"
    }
   ],
   "source": [
    "find_weird_values_for_columns(df, [\"Duration\", \"Credit amount\", \"Age\"])"
   ]
  },
  {
   "cell_type": "markdown",
   "metadata": {},
   "source": [
    "Ahora intentemos hallar valores no esperados para columnas no numericas"
   ]
  },
  {
   "cell_type": "code",
   "execution_count": 14,
   "metadata": {},
   "outputs": [],
   "source": [
    "def find_unexpected_values(df: DataFrame, expected_values: dict[str, str]) -> DataFrame:\n",
    "    \"\"\"Esta funcion halla valores extraños dado un conjunto de valores esperados x columna.\n",
    "\n",
    "    Args:\n",
    "        df (DataFrame): DataFrame que contiene las columnas numericas a buscar por valores extraños.\n",
    "        expected_values (dict[str, str]): Conjunto de valores esperados x columna.\n",
    "\n",
    "    Returns:\n",
    "        DataFrame: Nombre de la columna, y lista de valores extraños hallados.\n",
    "    \"\"\"\n",
    "    categories_to_review: list[str] = list(\n",
    "        set(df.columns).intersection(set(expected_values.keys()))\n",
    "    )\n",
    "    if not categories_to_review:\n",
    "        return DataFrame(columns=[\"Column\", \"Unexpected_Values\"])\n",
    "\n",
    "    unexpected_values: dict = {\n",
    "        col: df.loc[~df[col].isin(expected_values[col]), col].unique().tolist()\n",
    "        for col in categories_to_review\n",
    "        if (~df[col].isin(expected_values[col])).any()\n",
    "    }\n",
    "\n",
    "    return DataFrame(\n",
    "        {\"Column\": unexpected_values.keys(), \"Unexpected_Values\": unexpected_values.values()}\n",
    "    )"
   ]
  },
  {
   "cell_type": "code",
   "execution_count": 15,
   "metadata": {},
   "outputs": [
    {
     "data": {
      "text/html": [
       "<div>\n",
       "<style scoped>\n",
       "    .dataframe tbody tr th:only-of-type {\n",
       "        vertical-align: middle;\n",
       "    }\n",
       "\n",
       "    .dataframe tbody tr th {\n",
       "        vertical-align: top;\n",
       "    }\n",
       "\n",
       "    .dataframe thead th {\n",
       "        text-align: right;\n",
       "    }\n",
       "</style>\n",
       "<table border=\"1\" class=\"dataframe\">\n",
       "  <thead>\n",
       "    <tr style=\"text-align: right;\">\n",
       "      <th></th>\n",
       "      <th>Column</th>\n",
       "      <th>Unexpected_Values</th>\n",
       "    </tr>\n",
       "  </thead>\n",
       "  <tbody>\n",
       "    <tr>\n",
       "      <th>0</th>\n",
       "      <td>Purpose</td>\n",
       "      <td>[nan, 6, 3, 56, 356]</td>\n",
       "    </tr>\n",
       "    <tr>\n",
       "      <th>1</th>\n",
       "      <td>Housing</td>\n",
       "      <td>[nan, 563, 43, 356]</td>\n",
       "    </tr>\n",
       "    <tr>\n",
       "      <th>2</th>\n",
       "      <td>Sex</td>\n",
       "      <td>[nan, 353546]</td>\n",
       "    </tr>\n",
       "  </tbody>\n",
       "</table>\n",
       "</div>"
      ],
      "text/plain": [
       "    Column     Unexpected_Values\n",
       "0  Purpose  [nan, 6, 3, 56, 356]\n",
       "1  Housing   [nan, 563, 43, 356]\n",
       "2      Sex         [nan, 353546]"
      ]
     },
     "execution_count": 15,
     "metadata": {},
     "output_type": "execute_result"
    }
   ],
   "source": [
    "expected_values = {\n",
    "    \"Housing\": [\"own\", \"rent\", \"free\"],\n",
    "    \"Sex\": [\"male\", \"female\"],\n",
    "    \"Purpose\": [\n",
    "        \"car\",\n",
    "        \"radio/TV\",\n",
    "        \"furniture/equipment\",\n",
    "        \"business\",\n",
    "        \"education\",\n",
    "        \"repairs\",\n",
    "        \"domestic appliances\",\n",
    "        \"vacation/others\",\n",
    "    ],\n",
    "}\n",
    "\n",
    "find_unexpected_values(df, expected_values)"
   ]
  },
  {
   "cell_type": "markdown",
   "metadata": {},
   "source": [
    "# Conclusiones\n",
    "Pudimos alcanzar cada uno de los objetivos propuestos al inicio de este notebook.\n",
    "## Verificar que los datos sigan una estructura definida y la presencia o ausencia de los mismos.\n",
    "Pudimos observar que algunas columnas numericas y de texto tienen valores extraños o no esperados.\n",
    "## Verificar la presencia o ausencia de valores faltantes.\n",
    "Validamos el % de nulos x cada una de las columnas determinando que una de ellas puede ser borrada.\n"
   ]
  }
 ],
 "metadata": {
  "kernelspec": {
   "display_name": "venv",
   "language": "python",
   "name": "python3"
  },
  "language_info": {
   "codemirror_mode": {
    "name": "ipython",
    "version": 3
   },
   "file_extension": ".py",
   "mimetype": "text/x-python",
   "name": "python",
   "nbconvert_exporter": "python",
   "pygments_lexer": "ipython3",
   "version": "3.11.9"
  }
 },
 "nbformat": 4,
 "nbformat_minor": 2
}
