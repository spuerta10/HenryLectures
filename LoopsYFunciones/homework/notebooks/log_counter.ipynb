{
 "cells": [
  {
   "cell_type": "markdown",
   "id": "5ff90159",
   "metadata": {},
   "source": [
    "# Enunciado\n",
    "Hola ingeniero 👋. Bienvenido a tu segundo desafio! Ya sabes que en [Vault-Tec Corporation](https://fallout.fandom.com/es/wiki/Vault-Tec_Corporation) tenemos sensores encargados de monitorear las condiciones actuales de nuestros refugios. En la ultima semana hemos detectado que varios de ellos presentan fallas recurrentes, impidiendo que podamos determinar las condiciones de nuestros bóvedas y darle la seguridad esperada a nuestros clientes en un mundo post apocaliptico 🙃. \n",
    "\n",
    "Tu tarea, si decides aceptarla, es encontrar cuantas fallas ha habido y que sensores son los que presentan fallas, para que asi nuestro equipo pueda reemplazarlos. \n",
    "\n",
    "# Insumos\n",
    "Los ingenieros pasados, que estaban trabajando en este problema (y que murieron por radiacion 😅), dejaron el siguiente archivo donde se plasman los logs dejados por los sensores: [logs.txt]().\n",
    "\n"
   ]
  },
  {
   "cell_type": "code",
   "execution_count": null,
   "id": "c6dd4b88",
   "metadata": {
    "vscode": {
     "languageId": "plaintext"
    }
   },
   "outputs": [],
   "source": []
  }
 ],
 "metadata": {
  "language_info": {
   "name": "python"
  }
 },
 "nbformat": 4,
 "nbformat_minor": 5
}
