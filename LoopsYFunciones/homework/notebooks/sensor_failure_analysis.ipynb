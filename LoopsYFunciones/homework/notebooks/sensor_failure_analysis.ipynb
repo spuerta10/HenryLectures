{
 "cells": [
  {
   "cell_type": "markdown",
   "id": "5ff90159",
   "metadata": {},
   "source": [
    "# Enunciado\n",
    "Hola ingeniero 👋. Bienvenido a tu segundo desafio! Ya sabes que en [Vault-Tec Corporation](https://fallout.fandom.com/es/wiki/Vault-Tec_Corporation) tenemos sensores encargados de monitorear las condiciones actuales de nuestros refugios. La vez pasada detectamos que varios de ellos presentaban fallas recurrentes, impidiendo que pudieramos determinar las condiciones de nuestros bóvedas y darle la seguridad esperada a nuestros clientes en un mundo post apocaliptico 🙃. \n",
    "\n",
    "Con las respuestas que nos diste anteriormente, nuestro equipo de mantenimiento fisico de las instalaciones ha podido reemplazar los sensores malfuncionantes por unos nuevos. Ahora necesitamos que revises los logs de estos nuevos sensores y nos ayudes a determinar si estan funcionando corractemente. \n",
    "\n",
    "Recuerda que la vez pasada los ingenieros de Vault Tech Corp (ahora en mejor vida 💀) te dejaron los datos listos para su analisis, esta vez TU seras responsable de estructurar los datos y ejecutar el respectivo analisis.\n",
    "\n",
    "Tu tarea, si decides aceptarla, es encontrar cuantas fallas ha habido y que sensores son los que presentan fallas, para que asi nuestro equipo pueda reemplazarlos. "
   ]
  },
  {
   "cell_type": "markdown",
   "id": "e1b29caf",
   "metadata": {},
   "source": [
    "# Insumos\n",
    "El equipo encargado del monitoreo de la calidad de los sensores, te ha enviado los [logs](https://keepcoding.io/blog/que-son-logs-y-para-que-sirven/) de dichos sensores. \n",
    "\n",
    "Algunos ejemplos de logs de estos sensores se ven de la siguiente forma:\n",
    "```python\n",
    "[\n",
    "    {'sensor_id': 'oxy_guard','event_type': 'FAILURE_START','timestamp': '2025-07-31 07:01:24','duration_seconds': 577},\n",
    "    {'sensor_id': 'radi_shield','event_type': 'FAILURE_START','timestamp': '2025-07-31 07:19:02','duration_seconds': 542}   \n",
    "]\n",
    "```\n",
    "\n",
    "Por ahora este mismo equipo se ha encargado de agrupar los logs, para que solo exista una entrada de inicio y fin de falla por sensor por dia, de esta manera, para el sensor `thermo_core` solo podra haber un evento de inicio de falla y un evento de fin de falla por dia."
   ]
  },
  {
   "cell_type": "code",
   "execution_count": 1,
   "id": "85d884fd",
   "metadata": {},
   "outputs": [
    {
     "data": {
      "text/plain": [
       "[{'sensor_id': 'hidra_flow',\n",
       "  'event_type': 'FAILURE_END',\n",
       "  'timestamp': '2025-07-31 08:18:30',\n",
       "  'duration_seconds': 271},\n",
       " {'sensor_id': 'thermo_core',\n",
       "  'event_type': 'FAILURE_END',\n",
       "  'timestamp': '2025-07-31 10:29:02',\n",
       "  'duration_seconds': 542},\n",
       " {'sensor_id': 'hidra_flow',\n",
       "  'event_type': 'FAILURE_END',\n",
       "  'timestamp': '2025-07-31 10:30:07',\n",
       "  'duration_seconds': 12},\n",
       " {'sensor_id': 'hidra_flow',\n",
       "  'event_type': 'FAILURE_START',\n",
       "  'timestamp': '2025-07-31 10:38:43',\n",
       "  'duration_seconds': 365},\n",
       " {'sensor_id': 'thermo_core',\n",
       "  'event_type': 'FAILURE_START',\n",
       "  'timestamp': '2025-07-31 10:42:42',\n",
       "  'duration_seconds': 290}]"
      ]
     },
     "execution_count": 1,
     "metadata": {},
     "output_type": "execute_result"
    }
   ],
   "source": [
    "import json\n",
    "\n",
    "with open(r\"../data/logs.json\") as file:  # leamos el archivo JSON de logs\n",
    "    logs: list[dict] = json.load(file)  # cargamos a JSON el archivo\n",
    "\n",
    "logs[0:5]  # mostremos los primeros 5 logs"
   ]
  },
  {
   "cell_type": "markdown",
   "id": "0738a54c",
   "metadata": {},
   "source": [
    "# Tu turno!\n",
    "Ahora es tu turno! Vault-Tec Corp necesita saber lo siguiente:\n",
    "\n",
    "Para una fecha y sensor arbitrarios. Cual es el tiempo total, en segundos, en el cual el sensor se encontro en estado de fallo para la fecha asignada?\n",
    "    - Si el sensor asignado no existe retorne `None`.\n",
    "    - Si la fecha asignada no se encuentra dentro de las fechas existentes en los logs retorne `None`. \n",
    "\n",
    "Para poder lograrlo tu equipo te recomienda seguir los siguientes pasos:"
   ]
  },
  {
   "cell_type": "markdown",
   "id": "00356cde",
   "metadata": {},
   "source": [
    "1. **Verificar que el sensor dado sea valido**: Verifica que el sensor_id dado si sea valido. \n",
    "\n",
    "💡 Recuerda que solo existen 4 tipos de sensores: hidra_flow, thermo_core, radi_shield y oxy_guard."
   ]
  },
  {
   "cell_type": "code",
   "execution_count": null,
   "id": "14c68cdd",
   "metadata": {},
   "outputs": [],
   "source": [
    "# Tu codigo aqui"
   ]
  },
  {
   "cell_type": "markdown",
   "id": "917ef7ae",
   "metadata": {},
   "source": [
    "2. **Obtener todos los logs para una fecha y un tipo de sensor**: Obten todos los logs para un fecha y un tipo de sensor arbitrarios (dados). \n",
    "\n",
    "💡 Puedes transformar la fecha de string a date por medio del modulo datetime, recuerda que las fechas de los logs se encuentran en formato timestamp, por lo cual deberas de hacer algo para poder matchear la fecha ingresada con la fecha de los logs. "
   ]
  },
  {
   "cell_type": "code",
   "execution_count": null,
   "id": "d8f3438b",
   "metadata": {},
   "outputs": [],
   "source": [
    "# Tu codigo aqui"
   ]
  },
  {
   "cell_type": "markdown",
   "id": "c7f7db1b",
   "metadata": {},
   "source": [
    "3. **Juntemoslo todo**: Usemos las funcionalidades pasadas para verificar que el sensor dado si sea valido, y luego que si existan logs para la fecha y tipo de sensor dados. Finalmente, obtengamos el tiempo total de falla, en segundos, para ese sensor en la fecha dada. \n",
    "\n",
    "💡 Recuerda que para 1 fecha solo puede haber una entrada de inicio y fin de falla."
   ]
  },
  {
   "cell_type": "code",
   "execution_count": null,
   "id": "77f18061",
   "metadata": {},
   "outputs": [],
   "source": [
    "# Tu codigo aqui"
   ]
  }
 ],
 "metadata": {
  "kernelspec": {
   "display_name": ".venv",
   "language": "python",
   "name": "python3"
  },
  "language_info": {
   "codemirror_mode": {
    "name": "ipython",
    "version": 3
   },
   "file_extension": ".py",
   "mimetype": "text/x-python",
   "name": "python",
   "nbconvert_exporter": "python",
   "pygments_lexer": "ipython3",
   "version": "3.11.13"
  }
 },
 "nbformat": 4,
 "nbformat_minor": 5
}
