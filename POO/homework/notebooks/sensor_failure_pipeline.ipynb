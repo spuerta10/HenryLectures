{
 "cells": [
  {
   "cell_type": "markdown",
   "id": "396dbe39",
   "metadata": {},
   "source": [
    "# Enunciado\n",
    "Hola ingeniero 👋. Bienvenido a tu tercer desafio! Ya sabes que en [Vault-Tec Corporation](https://fallout.fandom.com/es/wiki/Vault-Tec_Corporation) tenemos sensores encargados de monitorear las condiciones actuales de nuestros refugios. En ocasiones pasadas detectamos que varios de ellos presentaban fallas recurrentes, impidiendo que pudieramos determinar las condiciones de nuestros bóvedas y darle la seguridad esperada a nuestros clientes en un mundo post apocaliptico 🙃. \n",
    "\n",
    "Anteriormente, nuestro equipo de mantenimiento fisico pudo reemplazar los sensores mal funcionantes e hicimos un codigo para poder determinar cuanto fue el tiempo de falla registrado por un sensor para una fecha, de la siguiente forma:\n",
    "\n",
    "```python\n",
    "get_sensor_failure_duration(\"hidra_flow\", \"2025-07-31\", logs)\n",
    "> {'sensor_id': 'hidra_flow', 'date': datetime.date(2025, 7, 31), 'failure_total_time': -94}\n",
    "```\n",
    "\n",
    "Ahora lo que requiere Vault-Tec Corporation es que construyas un [pipeline de datos](https://www.ibm.com/mx-es/think/topics/data-pipeline) el cual automatize lo desarrollado en ocasiones pasadas: \n",
    "\n",
    "extraccion de logs -> determinar tiempo de falla (en segundos) para un sensor -> determinar probabilidad de falla del sensor -> determinar probabilidad de falla condicional de dos sensores.  \n",
    "\n",
    "Tu tarea, si decides aceptarla, es diseñar y construir dicho pipeline."
   ]
  },
  {
   "cell_type": "markdown",
   "id": "9c5546df",
   "metadata": {},
   "source": [
    "# Insumos\n",
    "El equipo encargado del monitoreo de la calidad de los sensores, te ha enviado los [logs](https://keepcoding.io/blog/que-son-logs-y-para-que-sirven/) de dichos sensores. \n",
    "\n",
    "Algunos ejemplos de logs de estos sensores se ven de la siguiente forma:\n",
    "```python\n",
    "[\n",
    "    {'sensor_id': 'oxy_guard','event_type': 'FAILURE_START','timestamp': '2025-07-31 07:01:24','duration_seconds': 577},\n",
    "    {'sensor_id': 'radi_shield','event_type': 'FAILURE_START','timestamp': '2025-07-31 07:19:02','duration_seconds': 542}   \n",
    "]\n",
    "```\n",
    "\n",
    "Recuerda que la vez pasada el equipo de monitoreo se encargo de agrupar los logs, para que solo exista una entrada de inicio y fin de falla por sensor por dia."
   ]
  },
  {
   "cell_type": "markdown",
   "id": "03d1df0a",
   "metadata": {},
   "source": [
    "# Tu turno!\n",
    "Ahora es tu turno! Vault-Tec Corp necesita saber lo siguiente:\n",
    "\n",
    "1. Un reporte semanal:\n",
    "- Dado un sensor y una fecha de inicio, determina cuántas horas ha permanecido en estado de falla **cada dia de la semana** comprendida entre la fecha de inicio y los 7 días siguientes.\n",
    "    - En caso de que uno o mas de los dias no existan dentro de los logs asignales un valor de `None` al resultado.\n",
    "    - Ejemplo: El sensor radi_shield ha fallado un total de 89H en la última semana.\n",
    "\n",
    "2. Riesgo semanal de falla:\n",
    "- Dado un sensor y una fecha de inicio, determina la probabilidad de que el sensor falle para **cada dia** de la semana analizada.\n",
    "    - En caso de que uno o mas de los dias no existan dentro de los logs asignales un valor de `None` al resultado.\n",
    "\n",
    "\n",
    "3. Riesgo semanal condicional de falla:\n",
    "- Dado dos sensores, un numero de horas y una fecha, determina la probabilidad de que un sensor falle dado que otro sensor también falló por mas de las horas definidas.\n",
    "    - En caso de que el dia solicitado no este presente en los logs asignale un valor de `None` al resultado.\n",
    "\n",
    "💡 Recuerda que todos estos puntos ya los hemos desarollado previamente, ahora el reto es pensar en como integrar y conectarlo todo.\n",
    "\n",
    "Para poder lograrlo tu equipo te recomienda seguir los siguientes pasos:"
   ]
  },
  {
   "cell_type": "markdown",
   "id": "d3aee7f9",
   "metadata": {},
   "source": [
    "1. Crear una clase para la entidad Log: Crea una clase para poder almacenar la informacion correspondiente a un log.\n",
    "\n",
    "💡 Revisa nuevamente que atributos componen a un log. "
   ]
  },
  {
   "cell_type": "code",
   "execution_count": 1,
   "id": "0826ecdf",
   "metadata": {},
   "outputs": [],
   "source": [
    "from datetime import datetime\n",
    "from typing import Literal\n",
    "\n",
    "from pydantic import BaseModel\n",
    "\n",
    "\n",
    "class Log(BaseModel):\n",
    "    sensor_id: Literal[\"oxy_guard\", \"thermo_core\", \"hidra_flow\", \"radi_shield\"]\n",
    "    event_type: Literal[\"FAILURE_END\", \"FAILURE_START\"]\n",
    "    timestamp: datetime\n",
    "    duration_seconds: int"
   ]
  },
  {
   "cell_type": "markdown",
   "id": "c0161211",
   "metadata": {},
   "source": [
    "2. Extraer los logs: Crea una clase cuya responsabilidad sea extraer y filtrar informacion de un archivo de logs.\n",
    "\n",
    "💡 Recuerda nombrar tus clases con nombres significativos, tal y como lo dice uno de los principios del core de python: \"explicito es mejor que implicito\"."
   ]
  },
  {
   "cell_type": "code",
   "execution_count": 2,
   "id": "57a4caec",
   "metadata": {},
   "outputs": [],
   "source": [
    "import json\n",
    "from datetime import date\n",
    "from os.path import abspath\n",
    "\n",
    "\n",
    "class LogExtractor:\n",
    "    def __init__(self, file_path: str):\n",
    "        self.file_abspath = abspath(file_path)\n",
    "\n",
    "    def from_file(self) -> list[Log]:\n",
    "        with open(self.file_abspath) as file:\n",
    "            raw_logs: list[dict] = json.load(file)\n",
    "        logs: list[Log] = [Log(**log) for log in raw_logs]\n",
    "        return logs\n",
    "\n",
    "    @staticmethod\n",
    "    def fetch_logs_on_date(date: date, logs: list[Log], sensor_id: int | None = None) -> list[dict]:\n",
    "        logs_on_date: list[Log] = list(\n",
    "            filter(\n",
    "                lambda x: (\n",
    "                    (x.timestamp.date() == date) and (sensor_id is None or x.sensor_id == sensor_id)\n",
    "                ),\n",
    "                logs,\n",
    "            )\n",
    "        )\n",
    "        return logs_on_date"
   ]
  },
  {
   "cell_type": "markdown",
   "id": "993b0d3b",
   "metadata": {},
   "source": [
    "3. Analizar las fallas por medio de los logs: Crea una clase que tenga los metodos necesarios para poder analizar las fallas presentadas por los sensores segun lo requerido por Vault-Tec Corporation."
   ]
  },
  {
   "cell_type": "code",
   "execution_count": null,
   "id": "67acce22",
   "metadata": {},
   "outputs": [],
   "source": [
    "from datetime import date, timedelta\n",
    "\n",
    "\n",
    "class SensorFailureAnalyzer:\n",
    "    @staticmethod\n",
    "    def get_sensor_failure_duration(\n",
    "        sensor_id: str, searched_date: date, logs: list[Log]\n",
    "    ) -> float | None:\n",
    "        logs_on_date: list[Log] = LogExtractor.fetch_logs_on_date(\n",
    "            sensor_id=sensor_id, date=searched_date, logs=logs\n",
    "        )\n",
    "\n",
    "        if not logs_on_date:\n",
    "            return None\n",
    "\n",
    "        failure_start_time: float = next(\n",
    "            (log.duration_seconds for log in logs_on_date if log.event_type == \"FAILURE_START\"), 0\n",
    "        )\n",
    "        failure_end_time: float = next(\n",
    "            (log.duration_seconds for log in logs_on_date if log.event_type == \"FAILURE_END\"), 0\n",
    "        )\n",
    "\n",
    "        return failure_end_time - failure_start_time\n",
    "\n",
    "    def get_weekly_sensor_failure_duration(\n",
    "        sensor_id: int, start_date: date, logs: list[Log], end_date: date | None = None\n",
    "    ) -> list[float]:\n",
    "        end_date = start_date + timedelta(7) if end_date is None else end_date\n",
    "        searched_week: list[date] = [\n",
    "            (start_date + timedelta(days=i)) for i in range((end_date - start_date).days)\n",
    "        ]\n",
    "        weekly_sensor_failure_duration = [\n",
    "            {\n",
    "                \"sensor_id\": sensor_id,\n",
    "                \"date\": str(date),\n",
    "                \"failure_seconds\": SensorFailureAnalyzer.get_sensor_failure_duration(\n",
    "                    sensor_id=sensor_id, searched_date=date, logs=logs\n",
    "                ),\n",
    "            }\n",
    "            for date in searched_week\n",
    "        ]\n",
    "        return weekly_sensor_failure_duration\n",
    "\n",
    "    def get_conditional_failure_probability(\n",
    "        sensor_a_id: int,\n",
    "        sensor_b_id: int,\n",
    "        searched_date: date,\n",
    "        failure_hours_threshold: int | None = 3,\n",
    "    ) -> float: ..."
   ]
  },
  {
   "cell_type": "code",
   "execution_count": 4,
   "id": "fdc07923",
   "metadata": {},
   "outputs": [
    {
     "data": {
      "text/plain": [
       "[252, -133, 518, -536, -204, -12, 19]"
      ]
     },
     "execution_count": 4,
     "metadata": {},
     "output_type": "execute_result"
    }
   ],
   "source": [
    "from datetime import datetime\n",
    "\n",
    "searched_date = datetime.strptime(\"2025-08-01\", \"%Y-%m-%d\").date()\n",
    "\n",
    "extraction = LogExtractor(\n",
    "    r\"/Users/spuertaf/Desktop/Repos/HenryLectures/LoopsYFunciones/homework/data/logs.json\"\n",
    ")\n",
    "SensorFailureAnalyzer.get_weekly_sensor_failure_duration(\n",
    "    sensor_id=\"thermo_core\",\n",
    "    start_date=datetime.strptime(\"2025-07-31\", \"%Y-%m-%d\").date(),\n",
    "    logs=extraction.from_file(),\n",
    ")"
   ]
  },
  {
   "cell_type": "code",
   "execution_count": null,
   "id": "097d5010",
   "metadata": {},
   "outputs": [],
   "source": []
  }
 ],
 "metadata": {
  "kernelspec": {
   "display_name": ".venv",
   "language": "python",
   "name": "python3"
  },
  "language_info": {
   "codemirror_mode": {
    "name": "ipython",
    "version": 3
   },
   "file_extension": ".py",
   "mimetype": "text/x-python",
   "name": "python",
   "nbconvert_exporter": "python",
   "pygments_lexer": "ipython3",
   "version": "3.11.13"
  }
 },
 "nbformat": 4,
 "nbformat_minor": 5
}
