{
 "cells": [
  {
   "cell_type": "markdown",
   "id": "e2acec40",
   "metadata": {},
   "source": [
    "# Enunciado\n",
    "Hola ingeniero 👋. Bienvenido a tu primer desafio! En [Vault-Tec Corporation](https://fallout.fandom.com/es/wiki/Vault-Tec_Corporation) tenemos sensores encargados de monitorear las condiciones actuales de nuestros refugios. En la ultima semana hemos detectado que varios de ellos presentan fallas recurrentes, impidiendo que podamos determinar las condiciones de nuestras bóvedas y darle la seguridad esperada a nuestros clientes en un mundo post apocaliptico 🙃. "
   ]
  },
  {
   "cell_type": "markdown",
   "id": "a0bba1c5",
   "metadata": {},
   "source": [
    "# Insumos\n",
    "Los ingenieros pasados, que estaban trabajando en este problema (y que murieron por radiacion 😅), dejaron unas listas con la cantidad de SEGUNDOS que los sensores se encontraron en estado de falla para cada uno de los dias de la semana, de la siguiente forma:\n",
    "```python\n",
    "                      #  [lunes, martes, miercoles, jueves, viernes, sabado, domingo]\n",
    "sensor_name: list[int] = [2834, 35, 1145, 908, 1290, 4598, 1090]  # tiempo de falla en SEGUNDOS\n",
    "```"
   ]
  },
  {
   "cell_type": "code",
   "execution_count": 1,
   "id": "faa3cc0f",
   "metadata": {},
   "outputs": [],
   "source": [
    "radi_shield: list[int] = [\n",
    "    28340,\n",
    "    35120,\n",
    "    11985,\n",
    "    32760,\n",
    "    25410,\n",
    "    31005,\n",
    "    20880,\n",
    "]  # sensor que mide radiacion\n",
    "oxy_guard: list[int] = [17340, 29160, 34200, 8640, 19620, 27900, 35580]  # sensor que mide oxigeno\n",
    "hidra_flow: list[int] = [7200, 18000, 33480, 25920, 21600, 14580, 32400]  # sensor que mide agua\n",
    "thermo_core: list[int] = [\n",
    "    14220,\n",
    "    19800,\n",
    "    30240,\n",
    "    36000,\n",
    "    27720,\n",
    "    9000,\n",
    "    33120,\n",
    "]  # sensor que mide temperatura"
   ]
  },
  {
   "cell_type": "markdown",
   "id": "8b10551a",
   "metadata": {},
   "source": [
    "# Tu turno!\n",
    "Ahora es tu turno! Vault-Tec Corp necesita saber lo siguiente:"
   ]
  },
  {
   "cell_type": "markdown",
   "id": "2bb5fccb",
   "metadata": {},
   "source": [
    "1. En la pasada semana, cuantas horas ha fallado cada uno de los sensores. La salida esperada es el total de HORAS en las cuales el sensor se ha encontrado fallando.\n",
    "    - Ej: El sensor radi_shield se ha encontrado en estado de falla 89H durante la pasada semana."
   ]
  },
  {
   "cell_type": "code",
   "execution_count": 2,
   "id": "2b06039f",
   "metadata": {},
   "outputs": [
    {
     "name": "stdout",
     "output_type": "stream",
     "text": [
      "El sensor radi_shield se ha encontrado en estado de falla 51.52777777777778H durante la pasada semana.\n",
      "El sensor oxy_guard se ha encontrado en estado de falla 47.9H durante la pasada semana.\n",
      "El sensor hidra_flow se ha encontrado en estado de falla 42.55H durante la pasada semana.\n",
      "El sensor thermo_core se ha encontrado en estado de falla 47.25H durante la pasada semana.\n"
     ]
    }
   ],
   "source": [
    "failure_radi_shield: float = sum(radi_shield) / (\n",
    "    60 * 60\n",
    ")  # 1 hora = 60 minutos; 1 minuto = 60 segundos.\n",
    "failure_oxy_guard: float = sum(oxy_guard) / (60**2)  # otra forma es 60 elevado al 2\n",
    "failure_hidra_flow: float = sum(hidra_flow) / (60**2)\n",
    "failure_thermo_core: float = sum(thermo_core) / (60**2)\n",
    "\n",
    "print(\n",
    "    f\"El sensor radi_shield se ha encontrado en estado de falla {failure_radi_shield}H durante la pasada semana.\"\n",
    ")\n",
    "print(\n",
    "    f\"El sensor oxy_guard se ha encontrado en estado de falla {failure_oxy_guard}H durante la pasada semana.\"\n",
    ")\n",
    "print(\n",
    "    f\"El sensor hidra_flow se ha encontrado en estado de falla {failure_hidra_flow}H durante la pasada semana.\"\n",
    ")\n",
    "print(\n",
    "    f\"El sensor thermo_core se ha encontrado en estado de falla {failure_thermo_core}H durante la pasada semana.\"\n",
    ")"
   ]
  },
  {
   "cell_type": "markdown",
   "id": "dadb127c",
   "metadata": {},
   "source": [
    "2. Para cada sensor, calcula la probabilidad de estar en estado de falla durante la semana, definida como el total de segundos en falla a lo largo de los 7 días dividido entre el total de segundos de la semana. Reporta el resultado en PORCENTAJE.\n",
    "    - Ej: El sensor thermo_core tiene una probabilidad del 10% de falla a lo largo de la semana. "
   ]
  },
  {
   "cell_type": "code",
   "execution_count": 3,
   "id": "829a5efe",
   "metadata": {},
   "outputs": [],
   "source": [
    "week_total_seconds: int = (\n",
    "    7 * 24 * (60**2)\n",
    ")  # 1 semana = 7 dias, 1 dia = 24 hs, 1 h = 60 min, 1 min = 60 s"
   ]
  },
  {
   "cell_type": "code",
   "execution_count": 4,
   "id": "cf837267",
   "metadata": {},
   "outputs": [
    {
     "name": "stdout",
     "output_type": "stream",
     "text": [
      "El sensor radi_shield tiene una probabilidad del 30.67% de falla a lo largo de la semana.\n",
      "El sensor oxy_guard tiene una probabilidad del 28.51% de falla a lo largo de la semana.\n",
      "El sensor hidra_flow tiene una probabilidad del 25.33% de falla a lo largo de la semana.\n",
      "El sensor thermo_core tiene una probabilidad del 28.12% de falla a lo largo de la semana.\n"
     ]
    }
   ],
   "source": [
    "failure_radi_shield_week_total_seconds: int = sum(radi_shield)\n",
    "failure_oxy_guard_week_total_seconds: int = sum(oxy_guard)\n",
    "failure_hidra_flow_week_total_seconds: int = sum(hidra_flow)\n",
    "failure_thermo_core_week_total_seconds: int = sum(thermo_core)\n",
    "\n",
    "proba_failure_radi_shield: float = (\n",
    "    failure_radi_shield_week_total_seconds / week_total_seconds\n",
    ") * 100\n",
    "proba_failure_oxy_guard: float = (failure_oxy_guard_week_total_seconds / week_total_seconds) * 100\n",
    "proba_failure_hidra_flow: float = (failure_hidra_flow_week_total_seconds / week_total_seconds) * 100\n",
    "proba_failure_thermo_core: float = (\n",
    "    failure_thermo_core_week_total_seconds / week_total_seconds\n",
    ") * 100\n",
    "\n",
    "print(\n",
    "    f\"El sensor radi_shield tiene una probabilidad del {proba_failure_radi_shield:.2f}% de falla a lo largo de la semana.\"\n",
    ")\n",
    "print(\n",
    "    f\"El sensor oxy_guard tiene una probabilidad del {proba_failure_oxy_guard:.2f}% de falla a lo largo de la semana.\"\n",
    ")\n",
    "print(\n",
    "    f\"El sensor hidra_flow tiene una probabilidad del {proba_failure_hidra_flow:.2f}% de falla a lo largo de la semana.\"\n",
    ")\n",
    "print(\n",
    "    f\"El sensor thermo_core tiene una probabilidad del {proba_failure_thermo_core:.2f}% de falla a lo largo de la semana.\"\n",
    ")"
   ]
  },
  {
   "cell_type": "markdown",
   "id": "f7d2a22e",
   "metadata": {},
   "source": [
    "3. Si la probabilidad de falla de dos o más sensores supera el 70% durante la semana, muestra un mensaje de advertencia indicando que el refugio está en riesgo.\n",
    "    - Ejemplo:\n",
    "        - El sensor radi_shield tiene una probabilidad de 75% y el sensor oxy_guard una probabilidad de 80%.\n",
    "        - Resultado: ⚠️ Warning: múltiples sensores presentan alto riesgo de falla."
   ]
  },
  {
   "cell_type": "code",
   "execution_count": 5,
   "id": "2639938a",
   "metadata": {},
   "outputs": [
    {
     "name": "stdout",
     "output_type": "stream",
     "text": [
      "✅ En el momento multiples sensores no presentan riesgo de fallo.\n"
     ]
    }
   ],
   "source": [
    "FAILURE_PROBA_THRESHOLD: int = 70\n",
    "\n",
    "if (\n",
    "    (\n",
    "        proba_failure_radi_shield > FAILURE_PROBA_THRESHOLD\n",
    "        and proba_failure_oxy_guard > FAILURE_PROBA_THRESHOLD\n",
    "    )\n",
    "    or (\n",
    "        proba_failure_radi_shield > FAILURE_PROBA_THRESHOLD\n",
    "        and proba_failure_hidra_flow > FAILURE_PROBA_THRESHOLD\n",
    "    )\n",
    "    or (\n",
    "        proba_failure_radi_shield > FAILURE_PROBA_THRESHOLD\n",
    "        and proba_failure_thermo_core > FAILURE_PROBA_THRESHOLD\n",
    "    )\n",
    "    or (\n",
    "        proba_failure_oxy_guard > FAILURE_PROBA_THRESHOLD\n",
    "        and proba_failure_hidra_flow > FAILURE_PROBA_THRESHOLD\n",
    "    )\n",
    "    or (\n",
    "        proba_failure_oxy_guard > FAILURE_PROBA_THRESHOLD\n",
    "        and proba_failure_thermo_core > FAILURE_PROBA_THRESHOLD\n",
    "    )\n",
    "    or (\n",
    "        proba_failure_hidra_flow > FAILURE_PROBA_THRESHOLD\n",
    "        and proba_failure_thermo_core > FAILURE_PROBA_THRESHOLD\n",
    "    )\n",
    "):\n",
    "    print(\"⚠️ Warning: múltiples sensores presentan alto riesgo de falla.\")\n",
    "else:\n",
    "    print(\"✅ En el momento multiples sensores no presentan riesgo de fallo.\")"
   ]
  },
  {
   "cell_type": "markdown",
   "id": "99d081ad",
   "metadata": {},
   "source": [
    "4. (OPCIONAL) Queremos analizar si existe relación entre los fallos de diferentes sensores. Para ello:\n",
    "    - Calcula la probabilidad de que un sensor falle dado que otro sensor también falló en el mismo día.\n",
    "        - Ej: ¿Cuál es la probabilidad de que el sensor oxy_guard falle en un día, sabiendo que el sensor radi_shield ya falló ese mismo día?"
   ]
  },
  {
   "cell_type": "code",
   "execution_count": 6,
   "id": "49174e2a",
   "metadata": {},
   "outputs": [
    {
     "name": "stdout",
     "output_type": "stream",
     "text": [
      "La probabilidad de que oxy_guard (sensor A) falle más de 3 horas en un día dado que radi_shield (sensor B) \n",
      " ya falló más de 3 horas ese mismo día es de 85.71%.\n"
     ]
    }
   ],
   "source": [
    "FAILURE_HOURS_THRESHOLD: int = (\n",
    "    3  # a partir de cuantas horas se quiere buscar la probabilidad condicional\n",
    ")\n",
    "\n",
    "failure_seconds_threshold: int = (\n",
    "    3600 * FAILURE_HOURS_THRESHOLD\n",
    ")  # a partir de cuantas segundos se quiere buscar la probabilidad condicional\n",
    "\n",
    "count_radi_shield_failures: int = sum(\n",
    "    map(lambda x: 1 if x >= failure_seconds_threshold else 0, radi_shield)\n",
    ")  # numero de veces en la semana que radi_shield estuvo en estado de falla por mas de X horas.\n",
    "radi_oxy_fail_days: int = sum(\n",
    "    map(\n",
    "        lambda x, y: 1 if x >= failure_seconds_threshold and y >= failure_seconds_threshold else 0,\n",
    "        radi_shield,\n",
    "        oxy_guard,\n",
    "    )\n",
    ")  # numero de veces en la semana que tanto radi_shield como oxy_guard se encontraron en estado de falla por mas de X horas.\n",
    "\n",
    "conditional_failure_percentage: float = (radi_oxy_fail_days / count_radi_shield_failures) * 100\n",
    "print(\n",
    "    f\"La probabilidad de que oxy_guard (sensor A) falle más de {FAILURE_HOURS_THRESHOLD} horas en un día dado que radi_shield (sensor B) \\n ya falló más de {FAILURE_HOURS_THRESHOLD} horas ese mismo día es de {conditional_failure_percentage:.2f}%.\"\n",
    ")"
   ]
  }
 ],
 "metadata": {
  "kernelspec": {
   "display_name": "HenryLectures",
   "language": "python",
   "name": "python3"
  },
  "language_info": {
   "codemirror_mode": {
    "name": "ipython",
    "version": 3
   },
   "file_extension": ".py",
   "mimetype": "text/x-python",
   "name": "python",
   "nbconvert_exporter": "python",
   "pygments_lexer": "ipython3",
   "version": "3.11.13"
  }
 },
 "nbformat": 4,
 "nbformat_minor": 5
}
