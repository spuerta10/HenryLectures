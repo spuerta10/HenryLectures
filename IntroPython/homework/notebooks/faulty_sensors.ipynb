{
 "cells": [
  {
   "cell_type": "markdown",
   "id": "e2acec40",
   "metadata": {},
   "source": [
    "# Enunciado\n",
    "Hola ingeniero 👋. Bienvenido a tu primer desafio! En [Vault-Tec Corporation](https://fallout.fandom.com/es/wiki/Vault-Tec_Corporation) tenemos sensores encargados de monitorear las condiciones actuales de nuestros refugios. En la ultima semana hemos detectado que varios de ellos presentan fallas recurrentes, impidiendo que podamos determinar las condiciones de nuestras bóvedas y darle la seguridad esperada a nuestros clientes en un mundo post apocaliptico 🙃. "
   ]
  },
  {
   "cell_type": "markdown",
   "id": "a0bba1c5",
   "metadata": {},
   "source": [
    "# Insumos\n",
    "Los ingenieros pasados, que estaban trabajando en este problema (y que murieron por radiacion 😅), dejaron unas listas con la cantidad de SEGUNDOS que los sensores se encontraron en estado de falla para cada uno de los dias de la semana, de la siguiente forma:\n",
    "```python\n",
    "                      #  [lunes, martes, miercoles, jueves, viernes, sabado, domingo]\n",
    "sensor_name: list[int] = [2834, 35, 1145, 908, 1290, 4598, 1090]  # tiempo de falla en SEGUNDOS\n",
    "```"
   ]
  },
  {
   "cell_type": "code",
   "execution_count": 1,
   "id": "faa3cc0f",
   "metadata": {},
   "outputs": [],
   "source": [
    "radi_shield: list[int] = [\n",
    "    28340,\n",
    "    35120,\n",
    "    11985,\n",
    "    32760,\n",
    "    25410,\n",
    "    31005,\n",
    "    20880,\n",
    "]  # sensor que mide radiacion\n",
    "oxy_guard: list[int] = [17340, 29160, 34200, 8640, 19620, 27900, 35580]  # sensor que mide oxigeno\n",
    "hidra_flow: list[int] = [7200, 18000, 33480, 25920, 21600, 14580, 32400]  # sensor que mide agua\n",
    "thermo_core: list[int] = [\n",
    "    14220,\n",
    "    19800,\n",
    "    30240,\n",
    "    36000,\n",
    "    27720,\n",
    "    9000,\n",
    "    33120,\n",
    "]  # sensor que mide temperatura"
   ]
  },
  {
   "cell_type": "markdown",
   "id": "8b10551a",
   "metadata": {},
   "source": [
    "# Tu turno!\n",
    "Ahora es tu turno! Vault-Tec Corp necesita saber lo siguiente:"
   ]
  },
  {
   "cell_type": "markdown",
   "id": "2bb5fccb",
   "metadata": {},
   "source": [
    "1. En la pasada semana, cuantas horas ha fallado cada uno de los sensores. La salida esperada es el total de HORAS en las cuales el sensor se ha encontrado fallando.\n",
    "    - Ej: El sensor radi_shield se ha encontrado en estado de falla 89H durante la pasada semana."
   ]
  },
  {
   "cell_type": "code",
   "execution_count": 2,
   "id": "2b06039f",
   "metadata": {},
   "outputs": [],
   "source": [
    "# Tu codigo aqui"
   ]
  },
  {
   "cell_type": "markdown",
   "id": "dadb127c",
   "metadata": {},
   "source": [
    "2. Para cada sensor, calcula la probabilidad de estar en estado de falla durante la semana, definida como el total de segundos en falla a lo largo de los 7 días dividido entre el total de segundos de la semana. Reporta el resultado en PORCENTAJE.\n",
    "    - Ej: El sensor thermo_core tiene una probabilidad del 10% de falla a lo largo de la semana. "
   ]
  },
  {
   "cell_type": "code",
   "execution_count": 3,
   "id": "829a5efe",
   "metadata": {},
   "outputs": [],
   "source": [
    "# Tu codigo aqui"
   ]
  },
  {
   "cell_type": "markdown",
   "id": "f7d2a22e",
   "metadata": {},
   "source": [
    "3. Si la probabilidad de falla de dos o más sensores supera el 70% durante la semana, muestra un mensaje de advertencia indicando que el refugio está en riesgo.\n",
    "    - Ejemplo:\n",
    "        - El sensor radi_shield tiene una probabilidad de 75% y el sensor oxy_guard una probabilidad de 80%.\n",
    "        - Resultado: ⚠️ Warning: múltiples sensores presentan alto riesgo de falla."
   ]
  },
  {
   "cell_type": "code",
   "execution_count": 4,
   "id": "2639938a",
   "metadata": {},
   "outputs": [],
   "source": [
    "# Tu codigo aqui"
   ]
  },
  {
   "cell_type": "markdown",
   "id": "99d081ad",
   "metadata": {},
   "source": [
    "4. (OPCIONAL) Queremos analizar si existe relación entre los fallos de diferentes sensores. Para ello:\n",
    "    - Calcula la probabilidad de que un sensor falle dado que otro sensor también falló en el mismo día.\n",
    "        - Ej: ¿Cuál es la probabilidad de que oxy_guard falle más de 3 horas en un día dado que radi_shield ya falló más de 3 horas ese mismo día?"
   ]
  },
  {
   "cell_type": "code",
   "execution_count": 5,
   "id": "49174e2a",
   "metadata": {},
   "outputs": [],
   "source": [
    "# Tu codigo aqui"
   ]
  }
 ],
 "metadata": {
  "kernelspec": {
   "display_name": "HenryLectures",
   "language": "python",
   "name": "python3"
  },
  "language_info": {
   "codemirror_mode": {
    "name": "ipython",
    "version": 3
   },
   "file_extension": ".py",
   "mimetype": "text/x-python",
   "name": "python",
   "nbconvert_exporter": "python",
   "pygments_lexer": "ipython3",
   "version": "3.11.13"
  }
 },
 "nbformat": 4,
 "nbformat_minor": 5
}
